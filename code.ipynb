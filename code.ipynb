{
  "nbformat": 4,
  "nbformat_minor": 0,
  "metadata": {
    "colab": {
      "name": "code.ipynb",
      "provenance": [],
      "collapsed_sections": []
    },
    "kernelspec": {
      "name": "python3",
      "display_name": "Python 3"
    },
    "language_info": {
      "name": "python"
    }
  },
  "cells": [
    {
      "cell_type": "markdown",
      "metadata": {
        "id": "CL_81Wq5wHyb"
      },
      "source": [
        "Link to the downloaded covid data: https://drive.google.com/file/d/13DYafG8GYYcXa8U0Ywu7CvBgtsiND1J_/view?usp=sharing"
      ]
    },
    {
      "cell_type": "markdown",
      "metadata": {
        "id": "C_RMOlHChiTZ"
      },
      "source": [
        "# **PRE-PROCESSING**"
      ]
    },
    {
      "cell_type": "code",
      "metadata": {
        "id": "T0A4rax1zL2C"
      },
      "source": [
        "import pandas as pd\n",
        "import numpy as np\n",
        "import seaborn as sns\n",
        "import matplotlib.pyplot as plt"
      ],
      "execution_count": 15,
      "outputs": []
    },
    {
      "cell_type": "code",
      "metadata": {
        "id": "icZFLej2zocH"
      },
      "source": [
        "data = pd.read_csv(r\"/content/drive/MyDrive/Data Science/covid.csv\")"
      ],
      "execution_count": 16,
      "outputs": []
    },
    {
      "cell_type": "code",
      "metadata": {
        "colab": {
          "base_uri": "https://localhost:8080/",
          "height": 305
        },
        "id": "LHPvBz3oztsC",
        "outputId": "f7643bf1-dc18-4fe1-d112-504a607b7427"
      },
      "source": [
        "data.head()"
      ],
      "execution_count": 17,
      "outputs": [
        {
          "output_type": "execute_result",
          "data": {
            "text/html": [
              "<div>\n",
              "<style scoped>\n",
              "    .dataframe tbody tr th:only-of-type {\n",
              "        vertical-align: middle;\n",
              "    }\n",
              "\n",
              "    .dataframe tbody tr th {\n",
              "        vertical-align: top;\n",
              "    }\n",
              "\n",
              "    .dataframe thead th {\n",
              "        text-align: right;\n",
              "    }\n",
              "</style>\n",
              "<table border=\"1\" class=\"dataframe\">\n",
              "  <thead>\n",
              "    <tr style=\"text-align: right;\">\n",
              "      <th></th>\n",
              "      <th>iso_code</th>\n",
              "      <th>continent</th>\n",
              "      <th>location</th>\n",
              "      <th>date</th>\n",
              "      <th>total_cases</th>\n",
              "      <th>new_cases</th>\n",
              "      <th>new_cases_smoothed</th>\n",
              "      <th>total_deaths</th>\n",
              "      <th>new_deaths</th>\n",
              "      <th>new_deaths_smoothed</th>\n",
              "      <th>total_cases_per_million</th>\n",
              "      <th>new_cases_per_million</th>\n",
              "      <th>new_cases_smoothed_per_million</th>\n",
              "      <th>total_deaths_per_million</th>\n",
              "      <th>new_deaths_per_million</th>\n",
              "      <th>new_deaths_smoothed_per_million</th>\n",
              "      <th>reproduction_rate</th>\n",
              "      <th>icu_patients</th>\n",
              "      <th>icu_patients_per_million</th>\n",
              "      <th>hosp_patients</th>\n",
              "      <th>hosp_patients_per_million</th>\n",
              "      <th>weekly_icu_admissions</th>\n",
              "      <th>weekly_icu_admissions_per_million</th>\n",
              "      <th>weekly_hosp_admissions</th>\n",
              "      <th>weekly_hosp_admissions_per_million</th>\n",
              "      <th>new_tests</th>\n",
              "      <th>total_tests</th>\n",
              "      <th>total_tests_per_thousand</th>\n",
              "      <th>new_tests_per_thousand</th>\n",
              "      <th>new_tests_smoothed</th>\n",
              "      <th>new_tests_smoothed_per_thousand</th>\n",
              "      <th>positive_rate</th>\n",
              "      <th>tests_per_case</th>\n",
              "      <th>tests_units</th>\n",
              "      <th>total_vaccinations</th>\n",
              "      <th>people_vaccinated</th>\n",
              "      <th>people_fully_vaccinated</th>\n",
              "      <th>new_vaccinations</th>\n",
              "      <th>new_vaccinations_smoothed</th>\n",
              "      <th>total_vaccinations_per_hundred</th>\n",
              "      <th>people_vaccinated_per_hundred</th>\n",
              "      <th>people_fully_vaccinated_per_hundred</th>\n",
              "      <th>new_vaccinations_smoothed_per_million</th>\n",
              "      <th>stringency_index</th>\n",
              "      <th>population</th>\n",
              "      <th>population_density</th>\n",
              "      <th>median_age</th>\n",
              "      <th>aged_65_older</th>\n",
              "      <th>aged_70_older</th>\n",
              "      <th>gdp_per_capita</th>\n",
              "      <th>extreme_poverty</th>\n",
              "      <th>cardiovasc_death_rate</th>\n",
              "      <th>diabetes_prevalence</th>\n",
              "      <th>female_smokers</th>\n",
              "      <th>male_smokers</th>\n",
              "      <th>handwashing_facilities</th>\n",
              "      <th>hospital_beds_per_thousand</th>\n",
              "      <th>life_expectancy</th>\n",
              "      <th>human_development_index</th>\n",
              "    </tr>\n",
              "  </thead>\n",
              "  <tbody>\n",
              "    <tr>\n",
              "      <th>0</th>\n",
              "      <td>AFG</td>\n",
              "      <td>Asia</td>\n",
              "      <td>Afghanistan</td>\n",
              "      <td>2020-02-24</td>\n",
              "      <td>1.0</td>\n",
              "      <td>1.0</td>\n",
              "      <td>NaN</td>\n",
              "      <td>NaN</td>\n",
              "      <td>NaN</td>\n",
              "      <td>NaN</td>\n",
              "      <td>0.026</td>\n",
              "      <td>0.026</td>\n",
              "      <td>NaN</td>\n",
              "      <td>NaN</td>\n",
              "      <td>NaN</td>\n",
              "      <td>NaN</td>\n",
              "      <td>NaN</td>\n",
              "      <td>NaN</td>\n",
              "      <td>NaN</td>\n",
              "      <td>NaN</td>\n",
              "      <td>NaN</td>\n",
              "      <td>NaN</td>\n",
              "      <td>NaN</td>\n",
              "      <td>NaN</td>\n",
              "      <td>NaN</td>\n",
              "      <td>NaN</td>\n",
              "      <td>NaN</td>\n",
              "      <td>NaN</td>\n",
              "      <td>NaN</td>\n",
              "      <td>NaN</td>\n",
              "      <td>NaN</td>\n",
              "      <td>NaN</td>\n",
              "      <td>NaN</td>\n",
              "      <td>NaN</td>\n",
              "      <td>NaN</td>\n",
              "      <td>NaN</td>\n",
              "      <td>NaN</td>\n",
              "      <td>NaN</td>\n",
              "      <td>NaN</td>\n",
              "      <td>NaN</td>\n",
              "      <td>NaN</td>\n",
              "      <td>NaN</td>\n",
              "      <td>NaN</td>\n",
              "      <td>8.33</td>\n",
              "      <td>38928341.0</td>\n",
              "      <td>54.422</td>\n",
              "      <td>18.6</td>\n",
              "      <td>2.581</td>\n",
              "      <td>1.337</td>\n",
              "      <td>1803.987</td>\n",
              "      <td>NaN</td>\n",
              "      <td>597.029</td>\n",
              "      <td>9.59</td>\n",
              "      <td>NaN</td>\n",
              "      <td>NaN</td>\n",
              "      <td>37.746</td>\n",
              "      <td>0.5</td>\n",
              "      <td>64.83</td>\n",
              "      <td>0.511</td>\n",
              "    </tr>\n",
              "    <tr>\n",
              "      <th>1</th>\n",
              "      <td>AFG</td>\n",
              "      <td>Asia</td>\n",
              "      <td>Afghanistan</td>\n",
              "      <td>2020-02-25</td>\n",
              "      <td>1.0</td>\n",
              "      <td>0.0</td>\n",
              "      <td>NaN</td>\n",
              "      <td>NaN</td>\n",
              "      <td>NaN</td>\n",
              "      <td>NaN</td>\n",
              "      <td>0.026</td>\n",
              "      <td>0.000</td>\n",
              "      <td>NaN</td>\n",
              "      <td>NaN</td>\n",
              "      <td>NaN</td>\n",
              "      <td>NaN</td>\n",
              "      <td>NaN</td>\n",
              "      <td>NaN</td>\n",
              "      <td>NaN</td>\n",
              "      <td>NaN</td>\n",
              "      <td>NaN</td>\n",
              "      <td>NaN</td>\n",
              "      <td>NaN</td>\n",
              "      <td>NaN</td>\n",
              "      <td>NaN</td>\n",
              "      <td>NaN</td>\n",
              "      <td>NaN</td>\n",
              "      <td>NaN</td>\n",
              "      <td>NaN</td>\n",
              "      <td>NaN</td>\n",
              "      <td>NaN</td>\n",
              "      <td>NaN</td>\n",
              "      <td>NaN</td>\n",
              "      <td>NaN</td>\n",
              "      <td>NaN</td>\n",
              "      <td>NaN</td>\n",
              "      <td>NaN</td>\n",
              "      <td>NaN</td>\n",
              "      <td>NaN</td>\n",
              "      <td>NaN</td>\n",
              "      <td>NaN</td>\n",
              "      <td>NaN</td>\n",
              "      <td>NaN</td>\n",
              "      <td>8.33</td>\n",
              "      <td>38928341.0</td>\n",
              "      <td>54.422</td>\n",
              "      <td>18.6</td>\n",
              "      <td>2.581</td>\n",
              "      <td>1.337</td>\n",
              "      <td>1803.987</td>\n",
              "      <td>NaN</td>\n",
              "      <td>597.029</td>\n",
              "      <td>9.59</td>\n",
              "      <td>NaN</td>\n",
              "      <td>NaN</td>\n",
              "      <td>37.746</td>\n",
              "      <td>0.5</td>\n",
              "      <td>64.83</td>\n",
              "      <td>0.511</td>\n",
              "    </tr>\n",
              "    <tr>\n",
              "      <th>2</th>\n",
              "      <td>AFG</td>\n",
              "      <td>Asia</td>\n",
              "      <td>Afghanistan</td>\n",
              "      <td>2020-02-26</td>\n",
              "      <td>1.0</td>\n",
              "      <td>0.0</td>\n",
              "      <td>NaN</td>\n",
              "      <td>NaN</td>\n",
              "      <td>NaN</td>\n",
              "      <td>NaN</td>\n",
              "      <td>0.026</td>\n",
              "      <td>0.000</td>\n",
              "      <td>NaN</td>\n",
              "      <td>NaN</td>\n",
              "      <td>NaN</td>\n",
              "      <td>NaN</td>\n",
              "      <td>NaN</td>\n",
              "      <td>NaN</td>\n",
              "      <td>NaN</td>\n",
              "      <td>NaN</td>\n",
              "      <td>NaN</td>\n",
              "      <td>NaN</td>\n",
              "      <td>NaN</td>\n",
              "      <td>NaN</td>\n",
              "      <td>NaN</td>\n",
              "      <td>NaN</td>\n",
              "      <td>NaN</td>\n",
              "      <td>NaN</td>\n",
              "      <td>NaN</td>\n",
              "      <td>NaN</td>\n",
              "      <td>NaN</td>\n",
              "      <td>NaN</td>\n",
              "      <td>NaN</td>\n",
              "      <td>NaN</td>\n",
              "      <td>NaN</td>\n",
              "      <td>NaN</td>\n",
              "      <td>NaN</td>\n",
              "      <td>NaN</td>\n",
              "      <td>NaN</td>\n",
              "      <td>NaN</td>\n",
              "      <td>NaN</td>\n",
              "      <td>NaN</td>\n",
              "      <td>NaN</td>\n",
              "      <td>8.33</td>\n",
              "      <td>38928341.0</td>\n",
              "      <td>54.422</td>\n",
              "      <td>18.6</td>\n",
              "      <td>2.581</td>\n",
              "      <td>1.337</td>\n",
              "      <td>1803.987</td>\n",
              "      <td>NaN</td>\n",
              "      <td>597.029</td>\n",
              "      <td>9.59</td>\n",
              "      <td>NaN</td>\n",
              "      <td>NaN</td>\n",
              "      <td>37.746</td>\n",
              "      <td>0.5</td>\n",
              "      <td>64.83</td>\n",
              "      <td>0.511</td>\n",
              "    </tr>\n",
              "    <tr>\n",
              "      <th>3</th>\n",
              "      <td>AFG</td>\n",
              "      <td>Asia</td>\n",
              "      <td>Afghanistan</td>\n",
              "      <td>2020-02-27</td>\n",
              "      <td>1.0</td>\n",
              "      <td>0.0</td>\n",
              "      <td>NaN</td>\n",
              "      <td>NaN</td>\n",
              "      <td>NaN</td>\n",
              "      <td>NaN</td>\n",
              "      <td>0.026</td>\n",
              "      <td>0.000</td>\n",
              "      <td>NaN</td>\n",
              "      <td>NaN</td>\n",
              "      <td>NaN</td>\n",
              "      <td>NaN</td>\n",
              "      <td>NaN</td>\n",
              "      <td>NaN</td>\n",
              "      <td>NaN</td>\n",
              "      <td>NaN</td>\n",
              "      <td>NaN</td>\n",
              "      <td>NaN</td>\n",
              "      <td>NaN</td>\n",
              "      <td>NaN</td>\n",
              "      <td>NaN</td>\n",
              "      <td>NaN</td>\n",
              "      <td>NaN</td>\n",
              "      <td>NaN</td>\n",
              "      <td>NaN</td>\n",
              "      <td>NaN</td>\n",
              "      <td>NaN</td>\n",
              "      <td>NaN</td>\n",
              "      <td>NaN</td>\n",
              "      <td>NaN</td>\n",
              "      <td>NaN</td>\n",
              "      <td>NaN</td>\n",
              "      <td>NaN</td>\n",
              "      <td>NaN</td>\n",
              "      <td>NaN</td>\n",
              "      <td>NaN</td>\n",
              "      <td>NaN</td>\n",
              "      <td>NaN</td>\n",
              "      <td>NaN</td>\n",
              "      <td>8.33</td>\n",
              "      <td>38928341.0</td>\n",
              "      <td>54.422</td>\n",
              "      <td>18.6</td>\n",
              "      <td>2.581</td>\n",
              "      <td>1.337</td>\n",
              "      <td>1803.987</td>\n",
              "      <td>NaN</td>\n",
              "      <td>597.029</td>\n",
              "      <td>9.59</td>\n",
              "      <td>NaN</td>\n",
              "      <td>NaN</td>\n",
              "      <td>37.746</td>\n",
              "      <td>0.5</td>\n",
              "      <td>64.83</td>\n",
              "      <td>0.511</td>\n",
              "    </tr>\n",
              "    <tr>\n",
              "      <th>4</th>\n",
              "      <td>AFG</td>\n",
              "      <td>Asia</td>\n",
              "      <td>Afghanistan</td>\n",
              "      <td>2020-02-28</td>\n",
              "      <td>1.0</td>\n",
              "      <td>0.0</td>\n",
              "      <td>NaN</td>\n",
              "      <td>NaN</td>\n",
              "      <td>NaN</td>\n",
              "      <td>NaN</td>\n",
              "      <td>0.026</td>\n",
              "      <td>0.000</td>\n",
              "      <td>NaN</td>\n",
              "      <td>NaN</td>\n",
              "      <td>NaN</td>\n",
              "      <td>NaN</td>\n",
              "      <td>NaN</td>\n",
              "      <td>NaN</td>\n",
              "      <td>NaN</td>\n",
              "      <td>NaN</td>\n",
              "      <td>NaN</td>\n",
              "      <td>NaN</td>\n",
              "      <td>NaN</td>\n",
              "      <td>NaN</td>\n",
              "      <td>NaN</td>\n",
              "      <td>NaN</td>\n",
              "      <td>NaN</td>\n",
              "      <td>NaN</td>\n",
              "      <td>NaN</td>\n",
              "      <td>NaN</td>\n",
              "      <td>NaN</td>\n",
              "      <td>NaN</td>\n",
              "      <td>NaN</td>\n",
              "      <td>NaN</td>\n",
              "      <td>NaN</td>\n",
              "      <td>NaN</td>\n",
              "      <td>NaN</td>\n",
              "      <td>NaN</td>\n",
              "      <td>NaN</td>\n",
              "      <td>NaN</td>\n",
              "      <td>NaN</td>\n",
              "      <td>NaN</td>\n",
              "      <td>NaN</td>\n",
              "      <td>8.33</td>\n",
              "      <td>38928341.0</td>\n",
              "      <td>54.422</td>\n",
              "      <td>18.6</td>\n",
              "      <td>2.581</td>\n",
              "      <td>1.337</td>\n",
              "      <td>1803.987</td>\n",
              "      <td>NaN</td>\n",
              "      <td>597.029</td>\n",
              "      <td>9.59</td>\n",
              "      <td>NaN</td>\n",
              "      <td>NaN</td>\n",
              "      <td>37.746</td>\n",
              "      <td>0.5</td>\n",
              "      <td>64.83</td>\n",
              "      <td>0.511</td>\n",
              "    </tr>\n",
              "  </tbody>\n",
              "</table>\n",
              "</div>"
            ],
            "text/plain": [
              "  iso_code continent  ... life_expectancy human_development_index\n",
              "0      AFG      Asia  ...           64.83                   0.511\n",
              "1      AFG      Asia  ...           64.83                   0.511\n",
              "2      AFG      Asia  ...           64.83                   0.511\n",
              "3      AFG      Asia  ...           64.83                   0.511\n",
              "4      AFG      Asia  ...           64.83                   0.511\n",
              "\n",
              "[5 rows x 59 columns]"
            ]
          },
          "metadata": {
            "tags": []
          },
          "execution_count": 17
        }
      ]
    },
    {
      "cell_type": "code",
      "metadata": {
        "colab": {
          "base_uri": "https://localhost:8080/"
        },
        "id": "psZplC8qdlPH",
        "outputId": "d1cf52ff-08eb-49c4-a221-b091cb39d4b6"
      },
      "source": [
        "data.info()"
      ],
      "execution_count": 18,
      "outputs": [
        {
          "output_type": "stream",
          "text": [
            "<class 'pandas.core.frame.DataFrame'>\n",
            "RangeIndex: 79277 entries, 0 to 79276\n",
            "Data columns (total 59 columns):\n",
            " #   Column                                 Non-Null Count  Dtype  \n",
            "---  ------                                 --------------  -----  \n",
            " 0   iso_code                               79277 non-null  object \n",
            " 1   continent                              75409 non-null  object \n",
            " 2   location                               79277 non-null  object \n",
            " 3   date                                   79277 non-null  object \n",
            " 4   total_cases                            77699 non-null  float64\n",
            " 5   new_cases                              77697 non-null  float64\n",
            " 6   new_cases_smoothed                     76696 non-null  float64\n",
            " 7   total_deaths                           68270 non-null  float64\n",
            " 8   new_deaths                             68428 non-null  float64\n",
            " 9   new_deaths_smoothed                    76696 non-null  float64\n",
            " 10  total_cases_per_million                77277 non-null  float64\n",
            " 11  new_cases_per_million                  77275 non-null  float64\n",
            " 12  new_cases_smoothed_per_million         76279 non-null  float64\n",
            " 13  total_deaths_per_million               67861 non-null  float64\n",
            " 14  new_deaths_per_million                 68019 non-null  float64\n",
            " 15  new_deaths_smoothed_per_million        76279 non-null  float64\n",
            " 16  reproduction_rate                      63846 non-null  float64\n",
            " 17  icu_patients                           8303 non-null   float64\n",
            " 18  icu_patients_per_million               8303 non-null   float64\n",
            " 19  hosp_patients                          9944 non-null   float64\n",
            " 20  hosp_patients_per_million              9944 non-null   float64\n",
            " 21  weekly_icu_admissions                  726 non-null    float64\n",
            " 22  weekly_icu_admissions_per_million      726 non-null    float64\n",
            " 23  weekly_hosp_admissions                 1335 non-null   float64\n",
            " 24  weekly_hosp_admissions_per_million     1335 non-null   float64\n",
            " 25  new_tests                              36040 non-null  float64\n",
            " 26  total_tests                            35788 non-null  float64\n",
            " 27  total_tests_per_thousand               35788 non-null  float64\n",
            " 28  new_tests_per_thousand                 36040 non-null  float64\n",
            " 29  new_tests_smoothed                     41242 non-null  float64\n",
            " 30  new_tests_smoothed_per_thousand        41242 non-null  float64\n",
            " 31  positive_rate                          39916 non-null  float64\n",
            " 32  tests_per_case                         39362 non-null  float64\n",
            " 33  tests_units                            42606 non-null  object \n",
            " 34  total_vaccinations                     6182 non-null   float64\n",
            " 35  people_vaccinated                      5577 non-null   float64\n",
            " 36  people_fully_vaccinated                3889 non-null   float64\n",
            " 37  new_vaccinations                       5229 non-null   float64\n",
            " 38  new_vaccinations_smoothed              9722 non-null   float64\n",
            " 39  total_vaccinations_per_hundred         6182 non-null   float64\n",
            " 40  people_vaccinated_per_hundred          5577 non-null   float64\n",
            " 41  people_fully_vaccinated_per_hundred    3889 non-null   float64\n",
            " 42  new_vaccinations_smoothed_per_million  9722 non-null   float64\n",
            " 43  stringency_index                       67339 non-null  float64\n",
            " 44  population                             78784 non-null  float64\n",
            " 45  population_density                     73896 non-null  float64\n",
            " 46  median_age                             71693 non-null  float64\n",
            " 47  aged_65_older                          70871 non-null  float64\n",
            " 48  aged_70_older                          71290 non-null  float64\n",
            " 49  gdp_per_capita                         71972 non-null  float64\n",
            " 50  extreme_poverty                        49082 non-null  float64\n",
            " 51  cardiovasc_death_rate                  72569 non-null  float64\n",
            " 52  diabetes_prevalence                    73531 non-null  float64\n",
            " 53  female_smokers                         56978 non-null  float64\n",
            " 54  male_smokers                           56142 non-null  float64\n",
            " 55  handwashing_facilities                 36442 non-null  float64\n",
            " 56  hospital_beds_per_thousand             66349 non-null  float64\n",
            " 57  life_expectancy                        75261 non-null  float64\n",
            " 58  human_development_index                72515 non-null  float64\n",
            "dtypes: float64(54), object(5)\n",
            "memory usage: 35.7+ MB\n"
          ],
          "name": "stdout"
        }
      ]
    },
    {
      "cell_type": "code",
      "metadata": {
        "colab": {
          "base_uri": "https://localhost:8080/"
        },
        "id": "66yoN-WcddJj",
        "outputId": "ae336671-6f81-4db7-c65f-60ef8733756d"
      },
      "source": [
        "data.isnull().sum()"
      ],
      "execution_count": 19,
      "outputs": [
        {
          "output_type": "execute_result",
          "data": {
            "text/plain": [
              "iso_code                                     0\n",
              "continent                                 3868\n",
              "location                                     0\n",
              "date                                         0\n",
              "total_cases                               1578\n",
              "new_cases                                 1580\n",
              "new_cases_smoothed                        2581\n",
              "total_deaths                             11007\n",
              "new_deaths                               10849\n",
              "new_deaths_smoothed                       2581\n",
              "total_cases_per_million                   2000\n",
              "new_cases_per_million                     2002\n",
              "new_cases_smoothed_per_million            2998\n",
              "total_deaths_per_million                 11416\n",
              "new_deaths_per_million                   11258\n",
              "new_deaths_smoothed_per_million           2998\n",
              "reproduction_rate                        15431\n",
              "icu_patients                             70974\n",
              "icu_patients_per_million                 70974\n",
              "hosp_patients                            69333\n",
              "hosp_patients_per_million                69333\n",
              "weekly_icu_admissions                    78551\n",
              "weekly_icu_admissions_per_million        78551\n",
              "weekly_hosp_admissions                   77942\n",
              "weekly_hosp_admissions_per_million       77942\n",
              "new_tests                                43237\n",
              "total_tests                              43489\n",
              "total_tests_per_thousand                 43489\n",
              "new_tests_per_thousand                   43237\n",
              "new_tests_smoothed                       38035\n",
              "new_tests_smoothed_per_thousand          38035\n",
              "positive_rate                            39361\n",
              "tests_per_case                           39915\n",
              "tests_units                              36671\n",
              "total_vaccinations                       73095\n",
              "people_vaccinated                        73700\n",
              "people_fully_vaccinated                  75388\n",
              "new_vaccinations                         74048\n",
              "new_vaccinations_smoothed                69555\n",
              "total_vaccinations_per_hundred           73095\n",
              "people_vaccinated_per_hundred            73700\n",
              "people_fully_vaccinated_per_hundred      75388\n",
              "new_vaccinations_smoothed_per_million    69555\n",
              "stringency_index                         11938\n",
              "population                                 493\n",
              "population_density                        5381\n",
              "median_age                                7584\n",
              "aged_65_older                             8406\n",
              "aged_70_older                             7987\n",
              "gdp_per_capita                            7305\n",
              "extreme_poverty                          30195\n",
              "cardiovasc_death_rate                     6708\n",
              "diabetes_prevalence                       5746\n",
              "female_smokers                           22299\n",
              "male_smokers                             23135\n",
              "handwashing_facilities                   42835\n",
              "hospital_beds_per_thousand               12928\n",
              "life_expectancy                           4016\n",
              "human_development_index                   6762\n",
              "dtype: int64"
            ]
          },
          "metadata": {
            "tags": []
          },
          "execution_count": 19
        }
      ]
    },
    {
      "cell_type": "code",
      "metadata": {
        "id": "LcnReQsodudQ"
      },
      "source": [
        "data.fillna(0, inplace=True)"
      ],
      "execution_count": 20,
      "outputs": []
    },
    {
      "cell_type": "code",
      "metadata": {
        "colab": {
          "base_uri": "https://localhost:8080/"
        },
        "id": "LpRke5ClzxDU",
        "outputId": "6148eeab-af6f-4f71-f204-ef4a28580fe2"
      },
      "source": [
        "data.columns"
      ],
      "execution_count": 21,
      "outputs": [
        {
          "output_type": "execute_result",
          "data": {
            "text/plain": [
              "Index(['iso_code', 'continent', 'location', 'date', 'total_cases', 'new_cases',\n",
              "       'new_cases_smoothed', 'total_deaths', 'new_deaths',\n",
              "       'new_deaths_smoothed', 'total_cases_per_million',\n",
              "       'new_cases_per_million', 'new_cases_smoothed_per_million',\n",
              "       'total_deaths_per_million', 'new_deaths_per_million',\n",
              "       'new_deaths_smoothed_per_million', 'reproduction_rate', 'icu_patients',\n",
              "       'icu_patients_per_million', 'hosp_patients',\n",
              "       'hosp_patients_per_million', 'weekly_icu_admissions',\n",
              "       'weekly_icu_admissions_per_million', 'weekly_hosp_admissions',\n",
              "       'weekly_hosp_admissions_per_million', 'new_tests', 'total_tests',\n",
              "       'total_tests_per_thousand', 'new_tests_per_thousand',\n",
              "       'new_tests_smoothed', 'new_tests_smoothed_per_thousand',\n",
              "       'positive_rate', 'tests_per_case', 'tests_units', 'total_vaccinations',\n",
              "       'people_vaccinated', 'people_fully_vaccinated', 'new_vaccinations',\n",
              "       'new_vaccinations_smoothed', 'total_vaccinations_per_hundred',\n",
              "       'people_vaccinated_per_hundred', 'people_fully_vaccinated_per_hundred',\n",
              "       'new_vaccinations_smoothed_per_million', 'stringency_index',\n",
              "       'population', 'population_density', 'median_age', 'aged_65_older',\n",
              "       'aged_70_older', 'gdp_per_capita', 'extreme_poverty',\n",
              "       'cardiovasc_death_rate', 'diabetes_prevalence', 'female_smokers',\n",
              "       'male_smokers', 'handwashing_facilities', 'hospital_beds_per_thousand',\n",
              "       'life_expectancy', 'human_development_index'],\n",
              "      dtype='object')"
            ]
          },
          "metadata": {
            "tags": []
          },
          "execution_count": 21
        }
      ]
    },
    {
      "cell_type": "code",
      "metadata": {
        "colab": {
          "base_uri": "https://localhost:8080/",
          "height": 305
        },
        "id": "mlo0BoETzzMV",
        "outputId": "7a3135c2-bc95-46ad-c1dd-7eae9377cc48"
      },
      "source": [
        "  data.tail()"
      ],
      "execution_count": 22,
      "outputs": [
        {
          "output_type": "execute_result",
          "data": {
            "text/html": [
              "<div>\n",
              "<style scoped>\n",
              "    .dataframe tbody tr th:only-of-type {\n",
              "        vertical-align: middle;\n",
              "    }\n",
              "\n",
              "    .dataframe tbody tr th {\n",
              "        vertical-align: top;\n",
              "    }\n",
              "\n",
              "    .dataframe thead th {\n",
              "        text-align: right;\n",
              "    }\n",
              "</style>\n",
              "<table border=\"1\" class=\"dataframe\">\n",
              "  <thead>\n",
              "    <tr style=\"text-align: right;\">\n",
              "      <th></th>\n",
              "      <th>iso_code</th>\n",
              "      <th>continent</th>\n",
              "      <th>location</th>\n",
              "      <th>date</th>\n",
              "      <th>total_cases</th>\n",
              "      <th>new_cases</th>\n",
              "      <th>new_cases_smoothed</th>\n",
              "      <th>total_deaths</th>\n",
              "      <th>new_deaths</th>\n",
              "      <th>new_deaths_smoothed</th>\n",
              "      <th>total_cases_per_million</th>\n",
              "      <th>new_cases_per_million</th>\n",
              "      <th>new_cases_smoothed_per_million</th>\n",
              "      <th>total_deaths_per_million</th>\n",
              "      <th>new_deaths_per_million</th>\n",
              "      <th>new_deaths_smoothed_per_million</th>\n",
              "      <th>reproduction_rate</th>\n",
              "      <th>icu_patients</th>\n",
              "      <th>icu_patients_per_million</th>\n",
              "      <th>hosp_patients</th>\n",
              "      <th>hosp_patients_per_million</th>\n",
              "      <th>weekly_icu_admissions</th>\n",
              "      <th>weekly_icu_admissions_per_million</th>\n",
              "      <th>weekly_hosp_admissions</th>\n",
              "      <th>weekly_hosp_admissions_per_million</th>\n",
              "      <th>new_tests</th>\n",
              "      <th>total_tests</th>\n",
              "      <th>total_tests_per_thousand</th>\n",
              "      <th>new_tests_per_thousand</th>\n",
              "      <th>new_tests_smoothed</th>\n",
              "      <th>new_tests_smoothed_per_thousand</th>\n",
              "      <th>positive_rate</th>\n",
              "      <th>tests_per_case</th>\n",
              "      <th>tests_units</th>\n",
              "      <th>total_vaccinations</th>\n",
              "      <th>people_vaccinated</th>\n",
              "      <th>people_fully_vaccinated</th>\n",
              "      <th>new_vaccinations</th>\n",
              "      <th>new_vaccinations_smoothed</th>\n",
              "      <th>total_vaccinations_per_hundred</th>\n",
              "      <th>people_vaccinated_per_hundred</th>\n",
              "      <th>people_fully_vaccinated_per_hundred</th>\n",
              "      <th>new_vaccinations_smoothed_per_million</th>\n",
              "      <th>stringency_index</th>\n",
              "      <th>population</th>\n",
              "      <th>population_density</th>\n",
              "      <th>median_age</th>\n",
              "      <th>aged_65_older</th>\n",
              "      <th>aged_70_older</th>\n",
              "      <th>gdp_per_capita</th>\n",
              "      <th>extreme_poverty</th>\n",
              "      <th>cardiovasc_death_rate</th>\n",
              "      <th>diabetes_prevalence</th>\n",
              "      <th>female_smokers</th>\n",
              "      <th>male_smokers</th>\n",
              "      <th>handwashing_facilities</th>\n",
              "      <th>hospital_beds_per_thousand</th>\n",
              "      <th>life_expectancy</th>\n",
              "      <th>human_development_index</th>\n",
              "    </tr>\n",
              "  </thead>\n",
              "  <tbody>\n",
              "    <tr>\n",
              "      <th>79272</th>\n",
              "      <td>ZWE</td>\n",
              "      <td>Africa</td>\n",
              "      <td>Zimbabwe</td>\n",
              "      <td>2021-03-30</td>\n",
              "      <td>36839.0</td>\n",
              "      <td>0.0</td>\n",
              "      <td>17.429</td>\n",
              "      <td>1520.0</td>\n",
              "      <td>0.0</td>\n",
              "      <td>0.571</td>\n",
              "      <td>2478.583</td>\n",
              "      <td>0.000</td>\n",
              "      <td>1.173</td>\n",
              "      <td>102.268</td>\n",
              "      <td>0.000</td>\n",
              "      <td>0.038</td>\n",
              "      <td>0.80</td>\n",
              "      <td>0.0</td>\n",
              "      <td>0.0</td>\n",
              "      <td>0.0</td>\n",
              "      <td>0.0</td>\n",
              "      <td>0.0</td>\n",
              "      <td>0.0</td>\n",
              "      <td>0.0</td>\n",
              "      <td>0.0</td>\n",
              "      <td>2675.0</td>\n",
              "      <td>435853.0</td>\n",
              "      <td>29.325</td>\n",
              "      <td>0.180</td>\n",
              "      <td>2248.0</td>\n",
              "      <td>0.151</td>\n",
              "      <td>0.008</td>\n",
              "      <td>129.0</td>\n",
              "      <td>tests performed</td>\n",
              "      <td>85866.0</td>\n",
              "      <td>72944.0</td>\n",
              "      <td>12922.0</td>\n",
              "      <td>4256.0</td>\n",
              "      <td>5810.0</td>\n",
              "      <td>0.58</td>\n",
              "      <td>0.49</td>\n",
              "      <td>0.09</td>\n",
              "      <td>391.0</td>\n",
              "      <td>0.0</td>\n",
              "      <td>14862927.0</td>\n",
              "      <td>42.729</td>\n",
              "      <td>19.6</td>\n",
              "      <td>2.822</td>\n",
              "      <td>1.882</td>\n",
              "      <td>1899.775</td>\n",
              "      <td>21.4</td>\n",
              "      <td>307.846</td>\n",
              "      <td>1.82</td>\n",
              "      <td>1.6</td>\n",
              "      <td>30.7</td>\n",
              "      <td>36.791</td>\n",
              "      <td>1.7</td>\n",
              "      <td>61.49</td>\n",
              "      <td>0.571</td>\n",
              "    </tr>\n",
              "    <tr>\n",
              "      <th>79273</th>\n",
              "      <td>ZWE</td>\n",
              "      <td>Africa</td>\n",
              "      <td>Zimbabwe</td>\n",
              "      <td>2021-03-31</td>\n",
              "      <td>36882.0</td>\n",
              "      <td>43.0</td>\n",
              "      <td>19.000</td>\n",
              "      <td>1523.0</td>\n",
              "      <td>3.0</td>\n",
              "      <td>1.000</td>\n",
              "      <td>2481.476</td>\n",
              "      <td>2.893</td>\n",
              "      <td>1.278</td>\n",
              "      <td>102.470</td>\n",
              "      <td>0.202</td>\n",
              "      <td>0.067</td>\n",
              "      <td>0.81</td>\n",
              "      <td>0.0</td>\n",
              "      <td>0.0</td>\n",
              "      <td>0.0</td>\n",
              "      <td>0.0</td>\n",
              "      <td>0.0</td>\n",
              "      <td>0.0</td>\n",
              "      <td>0.0</td>\n",
              "      <td>0.0</td>\n",
              "      <td>1440.0</td>\n",
              "      <td>437293.0</td>\n",
              "      <td>29.422</td>\n",
              "      <td>0.097</td>\n",
              "      <td>1951.0</td>\n",
              "      <td>0.131</td>\n",
              "      <td>0.010</td>\n",
              "      <td>102.7</td>\n",
              "      <td>tests performed</td>\n",
              "      <td>91880.0</td>\n",
              "      <td>76995.0</td>\n",
              "      <td>14885.0</td>\n",
              "      <td>6014.0</td>\n",
              "      <td>5712.0</td>\n",
              "      <td>0.62</td>\n",
              "      <td>0.52</td>\n",
              "      <td>0.10</td>\n",
              "      <td>384.0</td>\n",
              "      <td>0.0</td>\n",
              "      <td>14862927.0</td>\n",
              "      <td>42.729</td>\n",
              "      <td>19.6</td>\n",
              "      <td>2.822</td>\n",
              "      <td>1.882</td>\n",
              "      <td>1899.775</td>\n",
              "      <td>21.4</td>\n",
              "      <td>307.846</td>\n",
              "      <td>1.82</td>\n",
              "      <td>1.6</td>\n",
              "      <td>30.7</td>\n",
              "      <td>36.791</td>\n",
              "      <td>1.7</td>\n",
              "      <td>61.49</td>\n",
              "      <td>0.571</td>\n",
              "    </tr>\n",
              "    <tr>\n",
              "      <th>79274</th>\n",
              "      <td>ZWE</td>\n",
              "      <td>Africa</td>\n",
              "      <td>Zimbabwe</td>\n",
              "      <td>2021-04-01</td>\n",
              "      <td>36896.0</td>\n",
              "      <td>14.0</td>\n",
              "      <td>16.857</td>\n",
              "      <td>1523.0</td>\n",
              "      <td>0.0</td>\n",
              "      <td>0.714</td>\n",
              "      <td>2482.418</td>\n",
              "      <td>0.942</td>\n",
              "      <td>1.134</td>\n",
              "      <td>102.470</td>\n",
              "      <td>0.000</td>\n",
              "      <td>0.048</td>\n",
              "      <td>0.81</td>\n",
              "      <td>0.0</td>\n",
              "      <td>0.0</td>\n",
              "      <td>0.0</td>\n",
              "      <td>0.0</td>\n",
              "      <td>0.0</td>\n",
              "      <td>0.0</td>\n",
              "      <td>0.0</td>\n",
              "      <td>0.0</td>\n",
              "      <td>2337.0</td>\n",
              "      <td>439630.0</td>\n",
              "      <td>29.579</td>\n",
              "      <td>0.157</td>\n",
              "      <td>2012.0</td>\n",
              "      <td>0.135</td>\n",
              "      <td>0.008</td>\n",
              "      <td>119.4</td>\n",
              "      <td>tests performed</td>\n",
              "      <td>105307.0</td>\n",
              "      <td>87791.0</td>\n",
              "      <td>17516.0</td>\n",
              "      <td>13427.0</td>\n",
              "      <td>6617.0</td>\n",
              "      <td>0.71</td>\n",
              "      <td>0.59</td>\n",
              "      <td>0.12</td>\n",
              "      <td>445.0</td>\n",
              "      <td>0.0</td>\n",
              "      <td>14862927.0</td>\n",
              "      <td>42.729</td>\n",
              "      <td>19.6</td>\n",
              "      <td>2.822</td>\n",
              "      <td>1.882</td>\n",
              "      <td>1899.775</td>\n",
              "      <td>21.4</td>\n",
              "      <td>307.846</td>\n",
              "      <td>1.82</td>\n",
              "      <td>1.6</td>\n",
              "      <td>30.7</td>\n",
              "      <td>36.791</td>\n",
              "      <td>1.7</td>\n",
              "      <td>61.49</td>\n",
              "      <td>0.571</td>\n",
              "    </tr>\n",
              "    <tr>\n",
              "      <th>79275</th>\n",
              "      <td>ZWE</td>\n",
              "      <td>Africa</td>\n",
              "      <td>Zimbabwe</td>\n",
              "      <td>2021-04-02</td>\n",
              "      <td>36903.0</td>\n",
              "      <td>7.0</td>\n",
              "      <td>14.000</td>\n",
              "      <td>1524.0</td>\n",
              "      <td>1.0</td>\n",
              "      <td>0.857</td>\n",
              "      <td>2482.889</td>\n",
              "      <td>0.471</td>\n",
              "      <td>0.942</td>\n",
              "      <td>102.537</td>\n",
              "      <td>0.067</td>\n",
              "      <td>0.058</td>\n",
              "      <td>0.00</td>\n",
              "      <td>0.0</td>\n",
              "      <td>0.0</td>\n",
              "      <td>0.0</td>\n",
              "      <td>0.0</td>\n",
              "      <td>0.0</td>\n",
              "      <td>0.0</td>\n",
              "      <td>0.0</td>\n",
              "      <td>0.0</td>\n",
              "      <td>0.0</td>\n",
              "      <td>0.0</td>\n",
              "      <td>0.000</td>\n",
              "      <td>0.000</td>\n",
              "      <td>0.0</td>\n",
              "      <td>0.000</td>\n",
              "      <td>0.000</td>\n",
              "      <td>0.0</td>\n",
              "      <td>0</td>\n",
              "      <td>124753.0</td>\n",
              "      <td>103815.0</td>\n",
              "      <td>20938.0</td>\n",
              "      <td>19446.0</td>\n",
              "      <td>8156.0</td>\n",
              "      <td>0.84</td>\n",
              "      <td>0.70</td>\n",
              "      <td>0.14</td>\n",
              "      <td>549.0</td>\n",
              "      <td>0.0</td>\n",
              "      <td>14862927.0</td>\n",
              "      <td>42.729</td>\n",
              "      <td>19.6</td>\n",
              "      <td>2.822</td>\n",
              "      <td>1.882</td>\n",
              "      <td>1899.775</td>\n",
              "      <td>21.4</td>\n",
              "      <td>307.846</td>\n",
              "      <td>1.82</td>\n",
              "      <td>1.6</td>\n",
              "      <td>30.7</td>\n",
              "      <td>36.791</td>\n",
              "      <td>1.7</td>\n",
              "      <td>61.49</td>\n",
              "      <td>0.571</td>\n",
              "    </tr>\n",
              "    <tr>\n",
              "      <th>79276</th>\n",
              "      <td>ZWE</td>\n",
              "      <td>Africa</td>\n",
              "      <td>Zimbabwe</td>\n",
              "      <td>2021-04-03</td>\n",
              "      <td>36911.0</td>\n",
              "      <td>8.0</td>\n",
              "      <td>13.286</td>\n",
              "      <td>1524.0</td>\n",
              "      <td>0.0</td>\n",
              "      <td>0.714</td>\n",
              "      <td>2483.427</td>\n",
              "      <td>0.538</td>\n",
              "      <td>0.894</td>\n",
              "      <td>102.537</td>\n",
              "      <td>0.000</td>\n",
              "      <td>0.048</td>\n",
              "      <td>0.00</td>\n",
              "      <td>0.0</td>\n",
              "      <td>0.0</td>\n",
              "      <td>0.0</td>\n",
              "      <td>0.0</td>\n",
              "      <td>0.0</td>\n",
              "      <td>0.0</td>\n",
              "      <td>0.0</td>\n",
              "      <td>0.0</td>\n",
              "      <td>0.0</td>\n",
              "      <td>0.0</td>\n",
              "      <td>0.000</td>\n",
              "      <td>0.000</td>\n",
              "      <td>0.0</td>\n",
              "      <td>0.000</td>\n",
              "      <td>0.000</td>\n",
              "      <td>0.0</td>\n",
              "      <td>0</td>\n",
              "      <td>0.0</td>\n",
              "      <td>0.0</td>\n",
              "      <td>0.0</td>\n",
              "      <td>0.0</td>\n",
              "      <td>0.0</td>\n",
              "      <td>0.00</td>\n",
              "      <td>0.00</td>\n",
              "      <td>0.00</td>\n",
              "      <td>0.0</td>\n",
              "      <td>0.0</td>\n",
              "      <td>14862927.0</td>\n",
              "      <td>42.729</td>\n",
              "      <td>19.6</td>\n",
              "      <td>2.822</td>\n",
              "      <td>1.882</td>\n",
              "      <td>1899.775</td>\n",
              "      <td>21.4</td>\n",
              "      <td>307.846</td>\n",
              "      <td>1.82</td>\n",
              "      <td>1.6</td>\n",
              "      <td>30.7</td>\n",
              "      <td>36.791</td>\n",
              "      <td>1.7</td>\n",
              "      <td>61.49</td>\n",
              "      <td>0.571</td>\n",
              "    </tr>\n",
              "  </tbody>\n",
              "</table>\n",
              "</div>"
            ],
            "text/plain": [
              "      iso_code continent  ... life_expectancy human_development_index\n",
              "79272      ZWE    Africa  ...           61.49                   0.571\n",
              "79273      ZWE    Africa  ...           61.49                   0.571\n",
              "79274      ZWE    Africa  ...           61.49                   0.571\n",
              "79275      ZWE    Africa  ...           61.49                   0.571\n",
              "79276      ZWE    Africa  ...           61.49                   0.571\n",
              "\n",
              "[5 rows x 59 columns]"
            ]
          },
          "metadata": {
            "tags": []
          },
          "execution_count": 22
        }
      ]
    },
    {
      "cell_type": "code",
      "metadata": {
        "id": "qC0fxcG8z-AW"
      },
      "source": [
        "to_drop = ['iso_code',\n",
        "           'new_cases_smoothed',\n",
        "           'new_deaths_smoothed',\n",
        "           'new_cases_per_million', \n",
        "           'new_cases_smoothed_per_million',\n",
        "           'new_deaths_smoothed_per_million',\n",
        "           'reproduction_rate',\n",
        "           'icu_patients',\n",
        "           'icu_patients_per_million',\n",
        "           'hosp_patients_per_million', \n",
        "           'weekly_icu_admissions',\n",
        "           'weekly_icu_admissions_per_million',\n",
        "           'weekly_hosp_admissions',\n",
        "           'weekly_hosp_admissions_per_million',\n",
        "           'total_tests_per_thousand',\n",
        "           'new_tests_per_thousand',\n",
        "           'new_tests_smoothed',\n",
        "           'new_tests_smoothed_per_thousand',\n",
        "           'positive_rate',\n",
        "           'tests_per_case',\n",
        "           'tests_units',\n",
        "           'people_fully_vaccinated', \n",
        "           'new_vaccinations_smoothed',\n",
        "           'total_vaccinations_per_hundred',\n",
        "           'people_vaccinated_per_hundred',\n",
        "           'people_fully_vaccinated_per_hundred',\n",
        "           'new_vaccinations_smoothed_per_million',\n",
        "           'stringency_index',\n",
        "           'population_density',\n",
        "           'median_age',\n",
        "           'aged_65_older',\n",
        "           'aged_70_older',\n",
        "           'gdp_per_capita',\n",
        "           'extreme_poverty',\n",
        "           'cardiovasc_death_rate',\n",
        "           'diabetes_prevalence',\n",
        "           'female_smokers',\n",
        "           'male_smokers',\n",
        "           'handwashing_facilities',\n",
        "           'hospital_beds_per_thousand',\n",
        "           'life_expectancy',\n",
        "           'hosp_patients',\n",
        "           'human_development_index']\n",
        "data.drop(to_drop, inplace=True, axis=1)"
      ],
      "execution_count": 23,
      "outputs": []
    },
    {
      "cell_type": "code",
      "metadata": {
        "colab": {
          "base_uri": "https://localhost:8080/",
          "height": 600
        },
        "id": "4aRyAAhnpbZP",
        "outputId": "6c54ef62-d6aa-42b7-a776-889c9f35f37f"
      },
      "source": [
        "data['active+recovered'] = data['total_cases'] - data['total_deaths']\n",
        "data"
      ],
      "execution_count": 24,
      "outputs": [
        {
          "output_type": "execute_result",
          "data": {
            "text/html": [
              "<div>\n",
              "<style scoped>\n",
              "    .dataframe tbody tr th:only-of-type {\n",
              "        vertical-align: middle;\n",
              "    }\n",
              "\n",
              "    .dataframe tbody tr th {\n",
              "        vertical-align: top;\n",
              "    }\n",
              "\n",
              "    .dataframe thead th {\n",
              "        text-align: right;\n",
              "    }\n",
              "</style>\n",
              "<table border=\"1\" class=\"dataframe\">\n",
              "  <thead>\n",
              "    <tr style=\"text-align: right;\">\n",
              "      <th></th>\n",
              "      <th>continent</th>\n",
              "      <th>location</th>\n",
              "      <th>date</th>\n",
              "      <th>total_cases</th>\n",
              "      <th>new_cases</th>\n",
              "      <th>total_deaths</th>\n",
              "      <th>new_deaths</th>\n",
              "      <th>total_cases_per_million</th>\n",
              "      <th>total_deaths_per_million</th>\n",
              "      <th>new_deaths_per_million</th>\n",
              "      <th>new_tests</th>\n",
              "      <th>total_tests</th>\n",
              "      <th>total_vaccinations</th>\n",
              "      <th>people_vaccinated</th>\n",
              "      <th>new_vaccinations</th>\n",
              "      <th>population</th>\n",
              "      <th>active+recovered</th>\n",
              "    </tr>\n",
              "  </thead>\n",
              "  <tbody>\n",
              "    <tr>\n",
              "      <th>0</th>\n",
              "      <td>Asia</td>\n",
              "      <td>Afghanistan</td>\n",
              "      <td>2020-02-24</td>\n",
              "      <td>1.0</td>\n",
              "      <td>1.0</td>\n",
              "      <td>0.0</td>\n",
              "      <td>0.0</td>\n",
              "      <td>0.026</td>\n",
              "      <td>0.000</td>\n",
              "      <td>0.000</td>\n",
              "      <td>0.0</td>\n",
              "      <td>0.0</td>\n",
              "      <td>0.0</td>\n",
              "      <td>0.0</td>\n",
              "      <td>0.0</td>\n",
              "      <td>38928341.0</td>\n",
              "      <td>1.0</td>\n",
              "    </tr>\n",
              "    <tr>\n",
              "      <th>1</th>\n",
              "      <td>Asia</td>\n",
              "      <td>Afghanistan</td>\n",
              "      <td>2020-02-25</td>\n",
              "      <td>1.0</td>\n",
              "      <td>0.0</td>\n",
              "      <td>0.0</td>\n",
              "      <td>0.0</td>\n",
              "      <td>0.026</td>\n",
              "      <td>0.000</td>\n",
              "      <td>0.000</td>\n",
              "      <td>0.0</td>\n",
              "      <td>0.0</td>\n",
              "      <td>0.0</td>\n",
              "      <td>0.0</td>\n",
              "      <td>0.0</td>\n",
              "      <td>38928341.0</td>\n",
              "      <td>1.0</td>\n",
              "    </tr>\n",
              "    <tr>\n",
              "      <th>2</th>\n",
              "      <td>Asia</td>\n",
              "      <td>Afghanistan</td>\n",
              "      <td>2020-02-26</td>\n",
              "      <td>1.0</td>\n",
              "      <td>0.0</td>\n",
              "      <td>0.0</td>\n",
              "      <td>0.0</td>\n",
              "      <td>0.026</td>\n",
              "      <td>0.000</td>\n",
              "      <td>0.000</td>\n",
              "      <td>0.0</td>\n",
              "      <td>0.0</td>\n",
              "      <td>0.0</td>\n",
              "      <td>0.0</td>\n",
              "      <td>0.0</td>\n",
              "      <td>38928341.0</td>\n",
              "      <td>1.0</td>\n",
              "    </tr>\n",
              "    <tr>\n",
              "      <th>3</th>\n",
              "      <td>Asia</td>\n",
              "      <td>Afghanistan</td>\n",
              "      <td>2020-02-27</td>\n",
              "      <td>1.0</td>\n",
              "      <td>0.0</td>\n",
              "      <td>0.0</td>\n",
              "      <td>0.0</td>\n",
              "      <td>0.026</td>\n",
              "      <td>0.000</td>\n",
              "      <td>0.000</td>\n",
              "      <td>0.0</td>\n",
              "      <td>0.0</td>\n",
              "      <td>0.0</td>\n",
              "      <td>0.0</td>\n",
              "      <td>0.0</td>\n",
              "      <td>38928341.0</td>\n",
              "      <td>1.0</td>\n",
              "    </tr>\n",
              "    <tr>\n",
              "      <th>4</th>\n",
              "      <td>Asia</td>\n",
              "      <td>Afghanistan</td>\n",
              "      <td>2020-02-28</td>\n",
              "      <td>1.0</td>\n",
              "      <td>0.0</td>\n",
              "      <td>0.0</td>\n",
              "      <td>0.0</td>\n",
              "      <td>0.026</td>\n",
              "      <td>0.000</td>\n",
              "      <td>0.000</td>\n",
              "      <td>0.0</td>\n",
              "      <td>0.0</td>\n",
              "      <td>0.0</td>\n",
              "      <td>0.0</td>\n",
              "      <td>0.0</td>\n",
              "      <td>38928341.0</td>\n",
              "      <td>1.0</td>\n",
              "    </tr>\n",
              "    <tr>\n",
              "      <th>...</th>\n",
              "      <td>...</td>\n",
              "      <td>...</td>\n",
              "      <td>...</td>\n",
              "      <td>...</td>\n",
              "      <td>...</td>\n",
              "      <td>...</td>\n",
              "      <td>...</td>\n",
              "      <td>...</td>\n",
              "      <td>...</td>\n",
              "      <td>...</td>\n",
              "      <td>...</td>\n",
              "      <td>...</td>\n",
              "      <td>...</td>\n",
              "      <td>...</td>\n",
              "      <td>...</td>\n",
              "      <td>...</td>\n",
              "      <td>...</td>\n",
              "    </tr>\n",
              "    <tr>\n",
              "      <th>79272</th>\n",
              "      <td>Africa</td>\n",
              "      <td>Zimbabwe</td>\n",
              "      <td>2021-03-30</td>\n",
              "      <td>36839.0</td>\n",
              "      <td>0.0</td>\n",
              "      <td>1520.0</td>\n",
              "      <td>0.0</td>\n",
              "      <td>2478.583</td>\n",
              "      <td>102.268</td>\n",
              "      <td>0.000</td>\n",
              "      <td>2675.0</td>\n",
              "      <td>435853.0</td>\n",
              "      <td>85866.0</td>\n",
              "      <td>72944.0</td>\n",
              "      <td>4256.0</td>\n",
              "      <td>14862927.0</td>\n",
              "      <td>35319.0</td>\n",
              "    </tr>\n",
              "    <tr>\n",
              "      <th>79273</th>\n",
              "      <td>Africa</td>\n",
              "      <td>Zimbabwe</td>\n",
              "      <td>2021-03-31</td>\n",
              "      <td>36882.0</td>\n",
              "      <td>43.0</td>\n",
              "      <td>1523.0</td>\n",
              "      <td>3.0</td>\n",
              "      <td>2481.476</td>\n",
              "      <td>102.470</td>\n",
              "      <td>0.202</td>\n",
              "      <td>1440.0</td>\n",
              "      <td>437293.0</td>\n",
              "      <td>91880.0</td>\n",
              "      <td>76995.0</td>\n",
              "      <td>6014.0</td>\n",
              "      <td>14862927.0</td>\n",
              "      <td>35359.0</td>\n",
              "    </tr>\n",
              "    <tr>\n",
              "      <th>79274</th>\n",
              "      <td>Africa</td>\n",
              "      <td>Zimbabwe</td>\n",
              "      <td>2021-04-01</td>\n",
              "      <td>36896.0</td>\n",
              "      <td>14.0</td>\n",
              "      <td>1523.0</td>\n",
              "      <td>0.0</td>\n",
              "      <td>2482.418</td>\n",
              "      <td>102.470</td>\n",
              "      <td>0.000</td>\n",
              "      <td>2337.0</td>\n",
              "      <td>439630.0</td>\n",
              "      <td>105307.0</td>\n",
              "      <td>87791.0</td>\n",
              "      <td>13427.0</td>\n",
              "      <td>14862927.0</td>\n",
              "      <td>35373.0</td>\n",
              "    </tr>\n",
              "    <tr>\n",
              "      <th>79275</th>\n",
              "      <td>Africa</td>\n",
              "      <td>Zimbabwe</td>\n",
              "      <td>2021-04-02</td>\n",
              "      <td>36903.0</td>\n",
              "      <td>7.0</td>\n",
              "      <td>1524.0</td>\n",
              "      <td>1.0</td>\n",
              "      <td>2482.889</td>\n",
              "      <td>102.537</td>\n",
              "      <td>0.067</td>\n",
              "      <td>0.0</td>\n",
              "      <td>0.0</td>\n",
              "      <td>124753.0</td>\n",
              "      <td>103815.0</td>\n",
              "      <td>19446.0</td>\n",
              "      <td>14862927.0</td>\n",
              "      <td>35379.0</td>\n",
              "    </tr>\n",
              "    <tr>\n",
              "      <th>79276</th>\n",
              "      <td>Africa</td>\n",
              "      <td>Zimbabwe</td>\n",
              "      <td>2021-04-03</td>\n",
              "      <td>36911.0</td>\n",
              "      <td>8.0</td>\n",
              "      <td>1524.0</td>\n",
              "      <td>0.0</td>\n",
              "      <td>2483.427</td>\n",
              "      <td>102.537</td>\n",
              "      <td>0.000</td>\n",
              "      <td>0.0</td>\n",
              "      <td>0.0</td>\n",
              "      <td>0.0</td>\n",
              "      <td>0.0</td>\n",
              "      <td>0.0</td>\n",
              "      <td>14862927.0</td>\n",
              "      <td>35387.0</td>\n",
              "    </tr>\n",
              "  </tbody>\n",
              "</table>\n",
              "<p>79277 rows × 17 columns</p>\n",
              "</div>"
            ],
            "text/plain": [
              "      continent     location  ...  population  active+recovered\n",
              "0          Asia  Afghanistan  ...  38928341.0               1.0\n",
              "1          Asia  Afghanistan  ...  38928341.0               1.0\n",
              "2          Asia  Afghanistan  ...  38928341.0               1.0\n",
              "3          Asia  Afghanistan  ...  38928341.0               1.0\n",
              "4          Asia  Afghanistan  ...  38928341.0               1.0\n",
              "...         ...          ...  ...         ...               ...\n",
              "79272    Africa     Zimbabwe  ...  14862927.0           35319.0\n",
              "79273    Africa     Zimbabwe  ...  14862927.0           35359.0\n",
              "79274    Africa     Zimbabwe  ...  14862927.0           35373.0\n",
              "79275    Africa     Zimbabwe  ...  14862927.0           35379.0\n",
              "79276    Africa     Zimbabwe  ...  14862927.0           35387.0\n",
              "\n",
              "[79277 rows x 17 columns]"
            ]
          },
          "metadata": {
            "tags": []
          },
          "execution_count": 24
        }
      ]
    },
    {
      "cell_type": "code",
      "metadata": {
        "colab": {
          "base_uri": "https://localhost:8080/"
        },
        "id": "nPt19cS80HYa",
        "outputId": "04ff1f0a-72e0-4a1c-e952-d0bd26ed9579"
      },
      "source": [
        "data.columns"
      ],
      "execution_count": 25,
      "outputs": [
        {
          "output_type": "execute_result",
          "data": {
            "text/plain": [
              "Index(['continent', 'location', 'date', 'total_cases', 'new_cases',\n",
              "       'total_deaths', 'new_deaths', 'total_cases_per_million',\n",
              "       'total_deaths_per_million', 'new_deaths_per_million', 'new_tests',\n",
              "       'total_tests', 'total_vaccinations', 'people_vaccinated',\n",
              "       'new_vaccinations', 'population', 'active+recovered'],\n",
              "      dtype='object')"
            ]
          },
          "metadata": {
            "tags": []
          },
          "execution_count": 25
        }
      ]
    },
    {
      "cell_type": "code",
      "metadata": {
        "id": "GA_dR3YGxLfp"
      },
      "source": [
        "#data.to_excel('/content/drive/MyDrive/Data Science/forecast.xlsx')"
      ],
      "execution_count": 47,
      "outputs": []
    },
    {
      "cell_type": "code",
      "metadata": {
        "colab": {
          "base_uri": "https://localhost:8080/",
          "height": 437
        },
        "id": "AZrNS5vGcUpa",
        "outputId": "8861b61d-30f1-4b91-b23d-57ae90cc7840"
      },
      "source": [
        "dict = data.groupby(\"location\").sum()\n",
        "dict = dict[['total_cases', 'total_deaths', 'active+recovered']]\n",
        "dict"
      ],
      "execution_count": 27,
      "outputs": [
        {
          "output_type": "execute_result",
          "data": {
            "text/html": [
              "<div>\n",
              "<style scoped>\n",
              "    .dataframe tbody tr th:only-of-type {\n",
              "        vertical-align: middle;\n",
              "    }\n",
              "\n",
              "    .dataframe tbody tr th {\n",
              "        vertical-align: top;\n",
              "    }\n",
              "\n",
              "    .dataframe thead th {\n",
              "        text-align: right;\n",
              "    }\n",
              "</style>\n",
              "<table border=\"1\" class=\"dataframe\">\n",
              "  <thead>\n",
              "    <tr style=\"text-align: right;\">\n",
              "      <th></th>\n",
              "      <th>total_cases</th>\n",
              "      <th>total_deaths</th>\n",
              "      <th>active+recovered</th>\n",
              "    </tr>\n",
              "    <tr>\n",
              "      <th>location</th>\n",
              "      <th></th>\n",
              "      <th></th>\n",
              "      <th></th>\n",
              "    </tr>\n",
              "  </thead>\n",
              "  <tbody>\n",
              "    <tr>\n",
              "      <th>Afghanistan</th>\n",
              "      <td>1.361352e+07</td>\n",
              "      <td>520732.0</td>\n",
              "      <td>1.309278e+07</td>\n",
              "    </tr>\n",
              "    <tr>\n",
              "      <th>Africa</th>\n",
              "      <td>6.363634e+08</td>\n",
              "      <td>15887554.0</td>\n",
              "      <td>6.204758e+08</td>\n",
              "    </tr>\n",
              "    <tr>\n",
              "      <th>Albania</th>\n",
              "      <td>1.245621e+07</td>\n",
              "      <td>242446.0</td>\n",
              "      <td>1.221376e+07</td>\n",
              "    </tr>\n",
              "    <tr>\n",
              "      <th>Algeria</th>\n",
              "      <td>2.082251e+07</td>\n",
              "      <td>651454.0</td>\n",
              "      <td>2.017106e+07</td>\n",
              "    </tr>\n",
              "    <tr>\n",
              "      <th>Andorra</th>\n",
              "      <td>1.644177e+06</td>\n",
              "      <td>25130.0</td>\n",
              "      <td>1.619047e+06</td>\n",
              "    </tr>\n",
              "    <tr>\n",
              "      <th>...</th>\n",
              "      <td>...</td>\n",
              "      <td>...</td>\n",
              "      <td>...</td>\n",
              "    </tr>\n",
              "    <tr>\n",
              "      <th>Vietnam</th>\n",
              "      <td>4.160680e+05</td>\n",
              "      <td>8163.0</td>\n",
              "      <td>4.079050e+05</td>\n",
              "    </tr>\n",
              "    <tr>\n",
              "      <th>World</th>\n",
              "      <td>1.775358e+10</td>\n",
              "      <td>445091667.0</td>\n",
              "      <td>1.730849e+10</td>\n",
              "    </tr>\n",
              "    <tr>\n",
              "      <th>Yemen</th>\n",
              "      <td>6.188420e+05</td>\n",
              "      <td>170565.0</td>\n",
              "      <td>4.482770e+05</td>\n",
              "    </tr>\n",
              "    <tr>\n",
              "      <th>Zambia</th>\n",
              "      <td>8.363075e+06</td>\n",
              "      <td>136047.0</td>\n",
              "      <td>8.227028e+06</td>\n",
              "    </tr>\n",
              "    <tr>\n",
              "      <th>Zimbabwe</th>\n",
              "      <td>4.350722e+06</td>\n",
              "      <td>149575.0</td>\n",
              "      <td>4.201147e+06</td>\n",
              "    </tr>\n",
              "  </tbody>\n",
              "</table>\n",
              "<p>215 rows × 3 columns</p>\n",
              "</div>"
            ],
            "text/plain": [
              "              total_cases  total_deaths  active+recovered\n",
              "location                                                 \n",
              "Afghanistan  1.361352e+07      520732.0      1.309278e+07\n",
              "Africa       6.363634e+08    15887554.0      6.204758e+08\n",
              "Albania      1.245621e+07      242446.0      1.221376e+07\n",
              "Algeria      2.082251e+07      651454.0      2.017106e+07\n",
              "Andorra      1.644177e+06       25130.0      1.619047e+06\n",
              "...                   ...           ...               ...\n",
              "Vietnam      4.160680e+05        8163.0      4.079050e+05\n",
              "World        1.775358e+10   445091667.0      1.730849e+10\n",
              "Yemen        6.188420e+05      170565.0      4.482770e+05\n",
              "Zambia       8.363075e+06      136047.0      8.227028e+06\n",
              "Zimbabwe     4.350722e+06      149575.0      4.201147e+06\n",
              "\n",
              "[215 rows x 3 columns]"
            ]
          },
          "metadata": {
            "tags": []
          },
          "execution_count": 27
        }
      ]
    },
    {
      "cell_type": "code",
      "metadata": {
        "id": "ASTBCJQOeKXs"
      },
      "source": [
        "minimum_cases = dict.sort_values(by = ['total_cases']).reset_index().head(1)\n",
        "maximum_cases = dict.sort_values(by = ['total_cases'], ascending=False).reset_index().head(2).drop(0).reset_index()\n",
        "maximum_cases.drop('index', axis=1, inplace=True)"
      ],
      "execution_count": 28,
      "outputs": []
    },
    {
      "cell_type": "code",
      "metadata": {
        "id": "UrrnFXTBeCMK"
      },
      "source": [
        "minimum_deaths = dict.sort_values(by = ['total_deaths']).reset_index().head(1)\n",
        "maximum_deaths = dict.sort_values(by = ['total_deaths'], ascending=False).reset_index().head(2).drop(0).reset_index()\n",
        "maximum_deaths.drop('index', axis=1, inplace=True)"
      ],
      "execution_count": 29,
      "outputs": []
    },
    {
      "cell_type": "code",
      "metadata": {
        "id": "if7pqP3Fsq3j"
      },
      "source": [
        "minimum_act_rec = dict.sort_values(by = ['active+recovered']).reset_index().head(1)\n",
        "maximum_act_rec = dict.sort_values(by = ['active+recovered'], ascending=False).reset_index().head(2).drop(0).reset_index()\n",
        "maximum_act_rec.drop('index', axis=1, inplace=True)"
      ],
      "execution_count": 30,
      "outputs": []
    },
    {
      "cell_type": "code",
      "metadata": {
        "id": "j2LeK7NRal8n"
      },
      "source": [
        "minimum_cases = minimum_cases.drop(['total_deaths', 'active+recovered'], axis=1)\n",
        "maximum_cases = maximum_cases.drop(['total_deaths', 'active+recovered'], axis=1)"
      ],
      "execution_count": 31,
      "outputs": []
    },
    {
      "cell_type": "code",
      "metadata": {
        "id": "h5WIH2b1eR-5"
      },
      "source": [
        "minimum_deaths = minimum_deaths.drop(['total_cases', 'active+recovered'], axis=1)\n",
        "maximum_deaths = maximum_deaths.drop(['total_cases', 'active+recovered'], axis=1)"
      ],
      "execution_count": 32,
      "outputs": []
    },
    {
      "cell_type": "code",
      "metadata": {
        "id": "pFjb-xZxs2-4"
      },
      "source": [
        "minimum_act_rec = minimum_act_rec.drop(['total_cases', 'total_deaths'], axis=1)\n",
        "maximum_act_rec = maximum_act_rec.drop(['total_cases', 'total_deaths'], axis=1)"
      ],
      "execution_count": 33,
      "outputs": []
    },
    {
      "cell_type": "code",
      "metadata": {
        "id": "C0WYA7EehFye"
      },
      "source": [
        "dict = dict.reset_index()"
      ],
      "execution_count": 34,
      "outputs": []
    },
    {
      "cell_type": "code",
      "metadata": {
        "colab": {
          "base_uri": "https://localhost:8080/",
          "height": 407
        },
        "id": "xSg9d7NhhHjg",
        "outputId": "4783cabe-c599-4826-b22e-8443169821d3"
      },
      "source": [
        "dict"
      ],
      "execution_count": 35,
      "outputs": [
        {
          "output_type": "execute_result",
          "data": {
            "text/html": [
              "<div>\n",
              "<style scoped>\n",
              "    .dataframe tbody tr th:only-of-type {\n",
              "        vertical-align: middle;\n",
              "    }\n",
              "\n",
              "    .dataframe tbody tr th {\n",
              "        vertical-align: top;\n",
              "    }\n",
              "\n",
              "    .dataframe thead th {\n",
              "        text-align: right;\n",
              "    }\n",
              "</style>\n",
              "<table border=\"1\" class=\"dataframe\">\n",
              "  <thead>\n",
              "    <tr style=\"text-align: right;\">\n",
              "      <th></th>\n",
              "      <th>location</th>\n",
              "      <th>total_cases</th>\n",
              "      <th>total_deaths</th>\n",
              "      <th>active+recovered</th>\n",
              "    </tr>\n",
              "  </thead>\n",
              "  <tbody>\n",
              "    <tr>\n",
              "      <th>0</th>\n",
              "      <td>Afghanistan</td>\n",
              "      <td>1.361352e+07</td>\n",
              "      <td>520732.0</td>\n",
              "      <td>1.309278e+07</td>\n",
              "    </tr>\n",
              "    <tr>\n",
              "      <th>1</th>\n",
              "      <td>Africa</td>\n",
              "      <td>6.363634e+08</td>\n",
              "      <td>15887554.0</td>\n",
              "      <td>6.204758e+08</td>\n",
              "    </tr>\n",
              "    <tr>\n",
              "      <th>2</th>\n",
              "      <td>Albania</td>\n",
              "      <td>1.245621e+07</td>\n",
              "      <td>242446.0</td>\n",
              "      <td>1.221376e+07</td>\n",
              "    </tr>\n",
              "    <tr>\n",
              "      <th>3</th>\n",
              "      <td>Algeria</td>\n",
              "      <td>2.082251e+07</td>\n",
              "      <td>651454.0</td>\n",
              "      <td>2.017106e+07</td>\n",
              "    </tr>\n",
              "    <tr>\n",
              "      <th>4</th>\n",
              "      <td>Andorra</td>\n",
              "      <td>1.644177e+06</td>\n",
              "      <td>25130.0</td>\n",
              "      <td>1.619047e+06</td>\n",
              "    </tr>\n",
              "    <tr>\n",
              "      <th>...</th>\n",
              "      <td>...</td>\n",
              "      <td>...</td>\n",
              "      <td>...</td>\n",
              "      <td>...</td>\n",
              "    </tr>\n",
              "    <tr>\n",
              "      <th>210</th>\n",
              "      <td>Vietnam</td>\n",
              "      <td>4.160680e+05</td>\n",
              "      <td>8163.0</td>\n",
              "      <td>4.079050e+05</td>\n",
              "    </tr>\n",
              "    <tr>\n",
              "      <th>211</th>\n",
              "      <td>World</td>\n",
              "      <td>1.775358e+10</td>\n",
              "      <td>445091667.0</td>\n",
              "      <td>1.730849e+10</td>\n",
              "    </tr>\n",
              "    <tr>\n",
              "      <th>212</th>\n",
              "      <td>Yemen</td>\n",
              "      <td>6.188420e+05</td>\n",
              "      <td>170565.0</td>\n",
              "      <td>4.482770e+05</td>\n",
              "    </tr>\n",
              "    <tr>\n",
              "      <th>213</th>\n",
              "      <td>Zambia</td>\n",
              "      <td>8.363075e+06</td>\n",
              "      <td>136047.0</td>\n",
              "      <td>8.227028e+06</td>\n",
              "    </tr>\n",
              "    <tr>\n",
              "      <th>214</th>\n",
              "      <td>Zimbabwe</td>\n",
              "      <td>4.350722e+06</td>\n",
              "      <td>149575.0</td>\n",
              "      <td>4.201147e+06</td>\n",
              "    </tr>\n",
              "  </tbody>\n",
              "</table>\n",
              "<p>215 rows × 4 columns</p>\n",
              "</div>"
            ],
            "text/plain": [
              "        location   total_cases  total_deaths  active+recovered\n",
              "0    Afghanistan  1.361352e+07      520732.0      1.309278e+07\n",
              "1         Africa  6.363634e+08    15887554.0      6.204758e+08\n",
              "2        Albania  1.245621e+07      242446.0      1.221376e+07\n",
              "3        Algeria  2.082251e+07      651454.0      2.017106e+07\n",
              "4        Andorra  1.644177e+06       25130.0      1.619047e+06\n",
              "..           ...           ...           ...               ...\n",
              "210      Vietnam  4.160680e+05        8163.0      4.079050e+05\n",
              "211        World  1.775358e+10   445091667.0      1.730849e+10\n",
              "212        Yemen  6.188420e+05      170565.0      4.482770e+05\n",
              "213       Zambia  8.363075e+06      136047.0      8.227028e+06\n",
              "214     Zimbabwe  4.350722e+06      149575.0      4.201147e+06\n",
              "\n",
              "[215 rows x 4 columns]"
            ]
          },
          "metadata": {
            "tags": []
          },
          "execution_count": 35
        }
      ]
    },
    {
      "cell_type": "markdown",
      "metadata": {
        "id": "QeDrmP-zh8mI"
      },
      "source": [
        "------------------------------------"
      ]
    },
    {
      "cell_type": "markdown",
      "metadata": {
        "id": "bAVHF0lSjolg"
      },
      "source": [
        "-------------------------"
      ]
    },
    {
      "cell_type": "markdown",
      "metadata": {
        "id": "A0_gTXw1iAlK"
      },
      "source": [
        "Enter the Country Name and you will get the Total number of Cases"
      ]
    },
    {
      "cell_type": "code",
      "metadata": {
        "colab": {
          "base_uri": "https://localhost:8080/"
        },
        "id": "x96JfU3ghdQo",
        "outputId": "ab7564f1-b67b-43a7-be28-59a276accf8a"
      },
      "source": [
        "country = 'India'\n",
        "dict[dict.location==country].total_cases"
      ],
      "execution_count": 36,
      "outputs": [
        {
          "output_type": "execute_result",
          "data": {
            "text/plain": [
              "89    2.111728e+09\n",
              "Name: total_cases, dtype: float64"
            ]
          },
          "metadata": {
            "tags": []
          },
          "execution_count": 36
        }
      ]
    },
    {
      "cell_type": "markdown",
      "metadata": {
        "id": "57FtV0s_jsEm"
      },
      "source": [
        "--------------------"
      ]
    },
    {
      "cell_type": "markdown",
      "metadata": {
        "id": "X-_dPw6biwy2"
      },
      "source": [
        "Which country is having lowest number of cases?"
      ]
    },
    {
      "cell_type": "code",
      "metadata": {
        "colab": {
          "base_uri": "https://localhost:8080/",
          "height": 78
        },
        "id": "uyKtkvf9eav4",
        "outputId": "3ae947d5-cc94-4062-ab88-5df75a26c55e"
      },
      "source": [
        "minimum_cases"
      ],
      "execution_count": 37,
      "outputs": [
        {
          "output_type": "execute_result",
          "data": {
            "text/html": [
              "<div>\n",
              "<style scoped>\n",
              "    .dataframe tbody tr th:only-of-type {\n",
              "        vertical-align: middle;\n",
              "    }\n",
              "\n",
              "    .dataframe tbody tr th {\n",
              "        vertical-align: top;\n",
              "    }\n",
              "\n",
              "    .dataframe thead th {\n",
              "        text-align: right;\n",
              "    }\n",
              "</style>\n",
              "<table border=\"1\" class=\"dataframe\">\n",
              "  <thead>\n",
              "    <tr style=\"text-align: right;\">\n",
              "      <th></th>\n",
              "      <th>location</th>\n",
              "      <th>total_cases</th>\n",
              "    </tr>\n",
              "  </thead>\n",
              "  <tbody>\n",
              "    <tr>\n",
              "      <th>0</th>\n",
              "      <td>Isle of Man</td>\n",
              "      <td>0.0</td>\n",
              "    </tr>\n",
              "  </tbody>\n",
              "</table>\n",
              "</div>"
            ],
            "text/plain": [
              "      location  total_cases\n",
              "0  Isle of Man          0.0"
            ]
          },
          "metadata": {
            "tags": []
          },
          "execution_count": 37
        }
      ]
    },
    {
      "cell_type": "markdown",
      "metadata": {
        "id": "sPB4dzHVjuaU"
      },
      "source": [
        "----------------------"
      ]
    },
    {
      "cell_type": "markdown",
      "metadata": {
        "id": "FVOQsU9vi_7b"
      },
      "source": [
        "Which country is having highest number of cases?\n"
      ]
    },
    {
      "cell_type": "code",
      "metadata": {
        "colab": {
          "base_uri": "https://localhost:8080/",
          "height": 78
        },
        "id": "eeD8JzM9go-s",
        "outputId": "41472fd6-e672-45d0-98cb-e95b60c1160f"
      },
      "source": [
        "maximum_cases"
      ],
      "execution_count": 38,
      "outputs": [
        {
          "output_type": "execute_result",
          "data": {
            "text/html": [
              "<div>\n",
              "<style scoped>\n",
              "    .dataframe tbody tr th:only-of-type {\n",
              "        vertical-align: middle;\n",
              "    }\n",
              "\n",
              "    .dataframe tbody tr th {\n",
              "        vertical-align: top;\n",
              "    }\n",
              "\n",
              "    .dataframe thead th {\n",
              "        text-align: right;\n",
              "    }\n",
              "</style>\n",
              "<table border=\"1\" class=\"dataframe\">\n",
              "  <thead>\n",
              "    <tr style=\"text-align: right;\">\n",
              "      <th></th>\n",
              "      <th>location</th>\n",
              "      <th>total_cases</th>\n",
              "    </tr>\n",
              "  </thead>\n",
              "  <tbody>\n",
              "    <tr>\n",
              "      <th>0</th>\n",
              "      <td>North America</td>\n",
              "      <td>4.913517e+09</td>\n",
              "    </tr>\n",
              "  </tbody>\n",
              "</table>\n",
              "</div>"
            ],
            "text/plain": [
              "        location   total_cases\n",
              "0  North America  4.913517e+09"
            ]
          },
          "metadata": {
            "tags": []
          },
          "execution_count": 38
        }
      ]
    },
    {
      "cell_type": "markdown",
      "metadata": {
        "id": "SfPcxCf8jxTc"
      },
      "source": [
        "------------------------"
      ]
    },
    {
      "cell_type": "markdown",
      "metadata": {
        "id": "hPNUqtDrjF9P"
      },
      "source": [
        "Which country is having lowest number of deaths?"
      ]
    },
    {
      "cell_type": "code",
      "metadata": {
        "colab": {
          "base_uri": "https://localhost:8080/",
          "height": 78
        },
        "id": "Dq923Ww3efEE",
        "outputId": "5be1b346-1f0e-4beb-d846-c082d25c599f"
      },
      "source": [
        "minimum_deaths"
      ],
      "execution_count": 39,
      "outputs": [
        {
          "output_type": "execute_result",
          "data": {
            "text/html": [
              "<div>\n",
              "<style scoped>\n",
              "    .dataframe tbody tr th:only-of-type {\n",
              "        vertical-align: middle;\n",
              "    }\n",
              "\n",
              "    .dataframe tbody tr th {\n",
              "        vertical-align: top;\n",
              "    }\n",
              "\n",
              "    .dataframe thead th {\n",
              "        text-align: right;\n",
              "    }\n",
              "</style>\n",
              "<table border=\"1\" class=\"dataframe\">\n",
              "  <thead>\n",
              "    <tr style=\"text-align: right;\">\n",
              "      <th></th>\n",
              "      <th>location</th>\n",
              "      <th>total_deaths</th>\n",
              "    </tr>\n",
              "  </thead>\n",
              "  <tbody>\n",
              "    <tr>\n",
              "      <th>0</th>\n",
              "      <td>Laos</td>\n",
              "      <td>0.0</td>\n",
              "    </tr>\n",
              "  </tbody>\n",
              "</table>\n",
              "</div>"
            ],
            "text/plain": [
              "  location  total_deaths\n",
              "0     Laos           0.0"
            ]
          },
          "metadata": {
            "tags": []
          },
          "execution_count": 39
        }
      ]
    },
    {
      "cell_type": "markdown",
      "metadata": {
        "id": "c8-DhyezjzK6"
      },
      "source": [
        "--------------------------"
      ]
    },
    {
      "cell_type": "markdown",
      "metadata": {
        "id": "-vfav0H0jKkf"
      },
      "source": [
        "Which country is having highest number of deaths?"
      ]
    },
    {
      "cell_type": "code",
      "metadata": {
        "colab": {
          "base_uri": "https://localhost:8080/",
          "height": 78
        },
        "id": "Jvwvrn5DekF2",
        "outputId": "59621b41-cef4-4e43-9e98-ac1c7326bdba"
      },
      "source": [
        "maximum_deaths"
      ],
      "execution_count": 40,
      "outputs": [
        {
          "output_type": "execute_result",
          "data": {
            "text/html": [
              "<div>\n",
              "<style scoped>\n",
              "    .dataframe tbody tr th:only-of-type {\n",
              "        vertical-align: middle;\n",
              "    }\n",
              "\n",
              "    .dataframe tbody tr th {\n",
              "        vertical-align: top;\n",
              "    }\n",
              "\n",
              "    .dataframe thead th {\n",
              "        text-align: right;\n",
              "    }\n",
              "</style>\n",
              "<table border=\"1\" class=\"dataframe\">\n",
              "  <thead>\n",
              "    <tr style=\"text-align: right;\">\n",
              "      <th></th>\n",
              "      <th>location</th>\n",
              "      <th>total_deaths</th>\n",
              "    </tr>\n",
              "  </thead>\n",
              "  <tbody>\n",
              "    <tr>\n",
              "      <th>0</th>\n",
              "      <td>Europe</td>\n",
              "      <td>134516967.0</td>\n",
              "    </tr>\n",
              "  </tbody>\n",
              "</table>\n",
              "</div>"
            ],
            "text/plain": [
              "  location  total_deaths\n",
              "0   Europe   134516967.0"
            ]
          },
          "metadata": {
            "tags": []
          },
          "execution_count": 40
        }
      ]
    },
    {
      "cell_type": "markdown",
      "metadata": {
        "id": "AOpFGp3xj1TH"
      },
      "source": [
        "-------------------"
      ]
    },
    {
      "cell_type": "code",
      "metadata": {
        "id": "UWEU1jElFDQt"
      },
      "source": [
        "US_daily_data = data[data.location == \"United States\"][[\"total_cases\", \"total_deaths\"]]\n",
        "India_daily_data = data[data.location == \"India\"][[\"total_cases\", \"total_deaths\"]]\n",
        "Italy_daily_data = data[data.location == \"Italy\"][[\"total_cases\", \"total_deaths\"]]\n",
        "Europe_daily_data = data[data.location == \"Europe\"][[\"total_cases\", \"total_deaths\"]]"
      ],
      "execution_count": 41,
      "outputs": []
    },
    {
      "cell_type": "code",
      "metadata": {
        "colab": {
          "base_uri": "https://localhost:8080/",
          "height": 482
        },
        "id": "N2GzrCxpGmAM",
        "outputId": "cf057910-a37b-474d-da3e-b034ce4520b0"
      },
      "source": [
        "plt.figure(figsize=(15, 8))\n",
        "sns.lineplot(data=US_daily_data, x=\"total_cases\", y=\"total_deaths\").set_title('Total_deaths VS Total_cases (Historical Data)')\n",
        "sns.lineplot(data=India_daily_data, x=\"total_cases\", y=\"total_deaths\")\n",
        "sns.lineplot(data=Italy_daily_data, x=\"total_cases\", y=\"total_deaths\")\n",
        "sns.lineplot(data=Europe_daily_data, x=\"total_cases\", y=\"total_deaths\")\n",
        "plt.legend(labels=['US', 'INDIA', 'ITAY', 'EUROPE'])"
      ],
      "execution_count": 42,
      "outputs": [
        {
          "output_type": "execute_result",
          "data": {
            "text/plain": [
              "<matplotlib.legend.Legend at 0x7f285f468310>"
            ]
          },
          "metadata": {
            "tags": []
          },
          "execution_count": 42
        },
        {
          "output_type": "display_data",
          "data": {
            "image/png": "[encoded data removed]",
            "text/plain": [
              "<Figure size 1080x576 with 1 Axes>"
            ]
          },
          "metadata": {
            "tags": [],
            "needs_background": "light"
          }
        }
      ]
    },
    {
      "cell_type": "markdown",
      "metadata": {
        "id": "aoyGDspmmpq0"
      },
      "source": [
        "-------------------"
      ]
    },
    {
      "cell_type": "code",
      "metadata": {
        "colab": {
          "base_uri": "https://localhost:8080/",
          "height": 600
        },
        "id": "Ju2pblVfmrgX",
        "outputId": "97dbfe36-bafc-4cc9-aec8-fbd9d4bb2929"
      },
      "source": [
        "data"
      ],
      "execution_count": 43,
      "outputs": [
        {
          "output_type": "execute_result",
          "data": {
            "text/html": [
              "<div>\n",
              "<style scoped>\n",
              "    .dataframe tbody tr th:only-of-type {\n",
              "        vertical-align: middle;\n",
              "    }\n",
              "\n",
              "    .dataframe tbody tr th {\n",
              "        vertical-align: top;\n",
              "    }\n",
              "\n",
              "    .dataframe thead th {\n",
              "        text-align: right;\n",
              "    }\n",
              "</style>\n",
              "<table border=\"1\" class=\"dataframe\">\n",
              "  <thead>\n",
              "    <tr style=\"text-align: right;\">\n",
              "      <th></th>\n",
              "      <th>continent</th>\n",
              "      <th>location</th>\n",
              "      <th>date</th>\n",
              "      <th>total_cases</th>\n",
              "      <th>new_cases</th>\n",
              "      <th>total_deaths</th>\n",
              "      <th>new_deaths</th>\n",
              "      <th>total_cases_per_million</th>\n",
              "      <th>total_deaths_per_million</th>\n",
              "      <th>new_deaths_per_million</th>\n",
              "      <th>new_tests</th>\n",
              "      <th>total_tests</th>\n",
              "      <th>total_vaccinations</th>\n",
              "      <th>people_vaccinated</th>\n",
              "      <th>new_vaccinations</th>\n",
              "      <th>population</th>\n",
              "      <th>active+recovered</th>\n",
              "    </tr>\n",
              "  </thead>\n",
              "  <tbody>\n",
              "    <tr>\n",
              "      <th>0</th>\n",
              "      <td>Asia</td>\n",
              "      <td>Afghanistan</td>\n",
              "      <td>2020-02-24</td>\n",
              "      <td>1.0</td>\n",
              "      <td>1.0</td>\n",
              "      <td>0.0</td>\n",
              "      <td>0.0</td>\n",
              "      <td>0.026</td>\n",
              "      <td>0.000</td>\n",
              "      <td>0.000</td>\n",
              "      <td>0.0</td>\n",
              "      <td>0.0</td>\n",
              "      <td>0.0</td>\n",
              "      <td>0.0</td>\n",
              "      <td>0.0</td>\n",
              "      <td>38928341.0</td>\n",
              "      <td>1.0</td>\n",
              "    </tr>\n",
              "    <tr>\n",
              "      <th>1</th>\n",
              "      <td>Asia</td>\n",
              "      <td>Afghanistan</td>\n",
              "      <td>2020-02-25</td>\n",
              "      <td>1.0</td>\n",
              "      <td>0.0</td>\n",
              "      <td>0.0</td>\n",
              "      <td>0.0</td>\n",
              "      <td>0.026</td>\n",
              "      <td>0.000</td>\n",
              "      <td>0.000</td>\n",
              "      <td>0.0</td>\n",
              "      <td>0.0</td>\n",
              "      <td>0.0</td>\n",
              "      <td>0.0</td>\n",
              "      <td>0.0</td>\n",
              "      <td>38928341.0</td>\n",
              "      <td>1.0</td>\n",
              "    </tr>\n",
              "    <tr>\n",
              "      <th>2</th>\n",
              "      <td>Asia</td>\n",
              "      <td>Afghanistan</td>\n",
              "      <td>2020-02-26</td>\n",
              "      <td>1.0</td>\n",
              "      <td>0.0</td>\n",
              "      <td>0.0</td>\n",
              "      <td>0.0</td>\n",
              "      <td>0.026</td>\n",
              "      <td>0.000</td>\n",
              "      <td>0.000</td>\n",
              "      <td>0.0</td>\n",
              "      <td>0.0</td>\n",
              "      <td>0.0</td>\n",
              "      <td>0.0</td>\n",
              "      <td>0.0</td>\n",
              "      <td>38928341.0</td>\n",
              "      <td>1.0</td>\n",
              "    </tr>\n",
              "    <tr>\n",
              "      <th>3</th>\n",
              "      <td>Asia</td>\n",
              "      <td>Afghanistan</td>\n",
              "      <td>2020-02-27</td>\n",
              "      <td>1.0</td>\n",
              "      <td>0.0</td>\n",
              "      <td>0.0</td>\n",
              "      <td>0.0</td>\n",
              "      <td>0.026</td>\n",
              "      <td>0.000</td>\n",
              "      <td>0.000</td>\n",
              "      <td>0.0</td>\n",
              "      <td>0.0</td>\n",
              "      <td>0.0</td>\n",
              "      <td>0.0</td>\n",
              "      <td>0.0</td>\n",
              "      <td>38928341.0</td>\n",
              "      <td>1.0</td>\n",
              "    </tr>\n",
              "    <tr>\n",
              "      <th>4</th>\n",
              "      <td>Asia</td>\n",
              "      <td>Afghanistan</td>\n",
              "      <td>2020-02-28</td>\n",
              "      <td>1.0</td>\n",
              "      <td>0.0</td>\n",
              "      <td>0.0</td>\n",
              "      <td>0.0</td>\n",
              "      <td>0.026</td>\n",
              "      <td>0.000</td>\n",
              "      <td>0.000</td>\n",
              "      <td>0.0</td>\n",
              "      <td>0.0</td>\n",
              "      <td>0.0</td>\n",
              "      <td>0.0</td>\n",
              "      <td>0.0</td>\n",
              "      <td>38928341.0</td>\n",
              "      <td>1.0</td>\n",
              "    </tr>\n",
              "    <tr>\n",
              "      <th>...</th>\n",
              "      <td>...</td>\n",
              "      <td>...</td>\n",
              "      <td>...</td>\n",
              "      <td>...</td>\n",
              "      <td>...</td>\n",
              "      <td>...</td>\n",
              "      <td>...</td>\n",
              "      <td>...</td>\n",
              "      <td>...</td>\n",
              "      <td>...</td>\n",
              "      <td>...</td>\n",
              "      <td>...</td>\n",
              "      <td>...</td>\n",
              "      <td>...</td>\n",
              "      <td>...</td>\n",
              "      <td>...</td>\n",
              "      <td>...</td>\n",
              "    </tr>\n",
              "    <tr>\n",
              "      <th>79272</th>\n",
              "      <td>Africa</td>\n",
              "      <td>Zimbabwe</td>\n",
              "      <td>2021-03-30</td>\n",
              "      <td>36839.0</td>\n",
              "      <td>0.0</td>\n",
              "      <td>1520.0</td>\n",
              "      <td>0.0</td>\n",
              "      <td>2478.583</td>\n",
              "      <td>102.268</td>\n",
              "      <td>0.000</td>\n",
              "      <td>2675.0</td>\n",
              "      <td>435853.0</td>\n",
              "      <td>85866.0</td>\n",
              "      <td>72944.0</td>\n",
              "      <td>4256.0</td>\n",
              "      <td>14862927.0</td>\n",
              "      <td>35319.0</td>\n",
              "    </tr>\n",
              "    <tr>\n",
              "      <th>79273</th>\n",
              "      <td>Africa</td>\n",
              "      <td>Zimbabwe</td>\n",
              "      <td>2021-03-31</td>\n",
              "      <td>36882.0</td>\n",
              "      <td>43.0</td>\n",
              "      <td>1523.0</td>\n",
              "      <td>3.0</td>\n",
              "      <td>2481.476</td>\n",
              "      <td>102.470</td>\n",
              "      <td>0.202</td>\n",
              "      <td>1440.0</td>\n",
              "      <td>437293.0</td>\n",
              "      <td>91880.0</td>\n",
              "      <td>76995.0</td>\n",
              "      <td>6014.0</td>\n",
              "      <td>14862927.0</td>\n",
              "      <td>35359.0</td>\n",
              "    </tr>\n",
              "    <tr>\n",
              "      <th>79274</th>\n",
              "      <td>Africa</td>\n",
              "      <td>Zimbabwe</td>\n",
              "      <td>2021-04-01</td>\n",
              "      <td>36896.0</td>\n",
              "      <td>14.0</td>\n",
              "      <td>1523.0</td>\n",
              "      <td>0.0</td>\n",
              "      <td>2482.418</td>\n",
              "      <td>102.470</td>\n",
              "      <td>0.000</td>\n",
              "      <td>2337.0</td>\n",
              "      <td>439630.0</td>\n",
              "      <td>105307.0</td>\n",
              "      <td>87791.0</td>\n",
              "      <td>13427.0</td>\n",
              "      <td>14862927.0</td>\n",
              "      <td>35373.0</td>\n",
              "    </tr>\n",
              "    <tr>\n",
              "      <th>79275</th>\n",
              "      <td>Africa</td>\n",
              "      <td>Zimbabwe</td>\n",
              "      <td>2021-04-02</td>\n",
              "      <td>36903.0</td>\n",
              "      <td>7.0</td>\n",
              "      <td>1524.0</td>\n",
              "      <td>1.0</td>\n",
              "      <td>2482.889</td>\n",
              "      <td>102.537</td>\n",
              "      <td>0.067</td>\n",
              "      <td>0.0</td>\n",
              "      <td>0.0</td>\n",
              "      <td>124753.0</td>\n",
              "      <td>103815.0</td>\n",
              "      <td>19446.0</td>\n",
              "      <td>14862927.0</td>\n",
              "      <td>35379.0</td>\n",
              "    </tr>\n",
              "    <tr>\n",
              "      <th>79276</th>\n",
              "      <td>Africa</td>\n",
              "      <td>Zimbabwe</td>\n",
              "      <td>2021-04-03</td>\n",
              "      <td>36911.0</td>\n",
              "      <td>8.0</td>\n",
              "      <td>1524.0</td>\n",
              "      <td>0.0</td>\n",
              "      <td>2483.427</td>\n",
              "      <td>102.537</td>\n",
              "      <td>0.000</td>\n",
              "      <td>0.0</td>\n",
              "      <td>0.0</td>\n",
              "      <td>0.0</td>\n",
              "      <td>0.0</td>\n",
              "      <td>0.0</td>\n",
              "      <td>14862927.0</td>\n",
              "      <td>35387.0</td>\n",
              "    </tr>\n",
              "  </tbody>\n",
              "</table>\n",
              "<p>79277 rows × 17 columns</p>\n",
              "</div>"
            ],
            "text/plain": [
              "      continent     location  ...  population  active+recovered\n",
              "0          Asia  Afghanistan  ...  38928341.0               1.0\n",
              "1          Asia  Afghanistan  ...  38928341.0               1.0\n",
              "2          Asia  Afghanistan  ...  38928341.0               1.0\n",
              "3          Asia  Afghanistan  ...  38928341.0               1.0\n",
              "4          Asia  Afghanistan  ...  38928341.0               1.0\n",
              "...         ...          ...  ...         ...               ...\n",
              "79272    Africa     Zimbabwe  ...  14862927.0           35319.0\n",
              "79273    Africa     Zimbabwe  ...  14862927.0           35359.0\n",
              "79274    Africa     Zimbabwe  ...  14862927.0           35373.0\n",
              "79275    Africa     Zimbabwe  ...  14862927.0           35379.0\n",
              "79276    Africa     Zimbabwe  ...  14862927.0           35387.0\n",
              "\n",
              "[79277 rows x 17 columns]"
            ]
          },
          "metadata": {
            "tags": []
          },
          "execution_count": 43
        }
      ]
    },
    {
      "cell_type": "code",
      "metadata": {
        "id": "QO3G_k7XqFvb"
      },
      "source": [
        "US_act_rec_data = data[data.location == \"United States\"][[\"active+recovered\", \"total_deaths\"]]\n",
        "India_act_rec_data = data[data.location == \"India\"][[\"active+recovered\", \"total_deaths\"]]\n",
        "Italy_act_rec_data = data[data.location == \"Italy\"][[\"active+recovered\",\"total_deaths\"]]\n",
        "Europe_act_rec_data = data[data.location == \"Europe\"][[\"active+recovered\",\"total_deaths\"]]"
      ],
      "execution_count": 44,
      "outputs": []
    },
    {
      "cell_type": "code",
      "metadata": {
        "colab": {
          "base_uri": "https://localhost:8080/",
          "height": 482
        },
        "id": "ZB3fnaxsqX5G",
        "outputId": "6a73c846-7de4-404c-dfaf-1880ee5afe06"
      },
      "source": [
        "plt.figure(figsize=(15, 8))\n",
        "sns.lineplot(data=US_act_rec_data, x=\"active+recovered\", y=\"total_deaths\").set_title('active+recovered VS total_deaths (Historical Data)')\n",
        "sns.lineplot(data=India_act_rec_data, x=\"active+recovered\", y=\"total_deaths\")\n",
        "sns.lineplot(data=Italy_act_rec_data, x=\"active+recovered\", y=\"total_deaths\")\n",
        "sns.lineplot(data=Europe_act_rec_data, x=\"active+recovered\", y=\"total_deaths\")\n",
        "plt.legend(labels=['US', 'INDIA', 'ITAY', 'EUROPE'])"
      ],
      "execution_count": 45,
      "outputs": [
        {
          "output_type": "execute_result",
          "data": {
            "text/plain": [
              "<matplotlib.legend.Legend at 0x7f285f511b90>"
            ]
          },
          "metadata": {
            "tags": []
          },
          "execution_count": 45
        },
        {
          "output_type": "display_data",
          "data": {
            "image/png": "[encoded data removed]",
            "text/plain": [
              "<Figure size 1080x576 with 1 Axes>"
            ]
          },
          "metadata": {
            "tags": [],
            "needs_background": "light"
          }
        }
      ]
    },
    {
      "cell_type": "markdown",
      "metadata": {
        "id": "lI7Z9s5fjIfl"
      },
      "source": [
        "There is very minor difference between the above two graphs."
      ]
    },
    {
      "cell_type": "markdown",
      "metadata": {
        "id": "TCCCTJsFw5lt"
      },
      "source": [
        "------------"
      ]
    },
    {
      "cell_type": "markdown",
      "metadata": {
        "id": "qZEeIiAojb4v"
      },
      "source": [
        "----"
      ]
    },
    {
      "cell_type": "markdown",
      "metadata": {
        "id": "MMhpiGIiwQyI"
      },
      "source": [
        "Link to the preprocessed data used for forecasting: \n",
        "https://drive.google.com/file/d/1-1ymlggilBR-yipZ8ERcIcqmzQ21PV7x/view?usp=sharing"
      ]
    },
    {
      "cell_type": "markdown",
      "metadata": {
        "id": "xZlgS8Z3jdzc"
      },
      "source": [
        "# **Forecasting Part**"
      ]
    },
    {
      "cell_type": "code",
      "metadata": {
        "colab": {
          "base_uri": "https://localhost:8080/",
          "height": 322
        },
        "id": "wigfIo4sq2Ih",
        "outputId": "82ccead9-ee46-49ca-b059-21e94f989b6c"
      },
      "source": [
        "df1 = pd.read_excel('/content/drive/MyDrive/Data Science/forecast.xlsx')\n",
        "df1.head()"
      ],
      "execution_count": 49,
      "outputs": [
        {
          "output_type": "execute_result",
          "data": {
            "text/html": [
              "<div>\n",
              "<style scoped>\n",
              "    .dataframe tbody tr th:only-of-type {\n",
              "        vertical-align: middle;\n",
              "    }\n",
              "\n",
              "    .dataframe tbody tr th {\n",
              "        vertical-align: top;\n",
              "    }\n",
              "\n",
              "    .dataframe thead th {\n",
              "        text-align: right;\n",
              "    }\n",
              "</style>\n",
              "<table border=\"1\" class=\"dataframe\">\n",
              "  <thead>\n",
              "    <tr style=\"text-align: right;\">\n",
              "      <th></th>\n",
              "      <th>Unnamed: 0</th>\n",
              "      <th>continent</th>\n",
              "      <th>location</th>\n",
              "      <th>date</th>\n",
              "      <th>total_cases</th>\n",
              "      <th>new_cases</th>\n",
              "      <th>total_deaths</th>\n",
              "      <th>new_deaths</th>\n",
              "      <th>total_cases_per_million</th>\n",
              "      <th>total_deaths_per_million</th>\n",
              "      <th>new_deaths_per_million</th>\n",
              "      <th>new_tests</th>\n",
              "      <th>total_tests</th>\n",
              "      <th>total_vaccinations</th>\n",
              "      <th>people_vaccinated</th>\n",
              "      <th>new_vaccinations</th>\n",
              "      <th>population</th>\n",
              "      <th>active+recovered</th>\n",
              "    </tr>\n",
              "  </thead>\n",
              "  <tbody>\n",
              "    <tr>\n",
              "      <th>0</th>\n",
              "      <td>0</td>\n",
              "      <td>Asia</td>\n",
              "      <td>Afghanistan</td>\n",
              "      <td>2020-02-24</td>\n",
              "      <td>1</td>\n",
              "      <td>1</td>\n",
              "      <td>0</td>\n",
              "      <td>0</td>\n",
              "      <td>0.026</td>\n",
              "      <td>0.0</td>\n",
              "      <td>0.0</td>\n",
              "      <td>0</td>\n",
              "      <td>0</td>\n",
              "      <td>0</td>\n",
              "      <td>0</td>\n",
              "      <td>0</td>\n",
              "      <td>38928341</td>\n",
              "      <td>1</td>\n",
              "    </tr>\n",
              "    <tr>\n",
              "      <th>1</th>\n",
              "      <td>1</td>\n",
              "      <td>Asia</td>\n",
              "      <td>Afghanistan</td>\n",
              "      <td>2020-02-25</td>\n",
              "      <td>1</td>\n",
              "      <td>0</td>\n",
              "      <td>0</td>\n",
              "      <td>0</td>\n",
              "      <td>0.026</td>\n",
              "      <td>0.0</td>\n",
              "      <td>0.0</td>\n",
              "      <td>0</td>\n",
              "      <td>0</td>\n",
              "      <td>0</td>\n",
              "      <td>0</td>\n",
              "      <td>0</td>\n",
              "      <td>38928341</td>\n",
              "      <td>1</td>\n",
              "    </tr>\n",
              "    <tr>\n",
              "      <th>2</th>\n",
              "      <td>2</td>\n",
              "      <td>Asia</td>\n",
              "      <td>Afghanistan</td>\n",
              "      <td>2020-02-26</td>\n",
              "      <td>1</td>\n",
              "      <td>0</td>\n",
              "      <td>0</td>\n",
              "      <td>0</td>\n",
              "      <td>0.026</td>\n",
              "      <td>0.0</td>\n",
              "      <td>0.0</td>\n",
              "      <td>0</td>\n",
              "      <td>0</td>\n",
              "      <td>0</td>\n",
              "      <td>0</td>\n",
              "      <td>0</td>\n",
              "      <td>38928341</td>\n",
              "      <td>1</td>\n",
              "    </tr>\n",
              "    <tr>\n",
              "      <th>3</th>\n",
              "      <td>3</td>\n",
              "      <td>Asia</td>\n",
              "      <td>Afghanistan</td>\n",
              "      <td>2020-02-27</td>\n",
              "      <td>1</td>\n",
              "      <td>0</td>\n",
              "      <td>0</td>\n",
              "      <td>0</td>\n",
              "      <td>0.026</td>\n",
              "      <td>0.0</td>\n",
              "      <td>0.0</td>\n",
              "      <td>0</td>\n",
              "      <td>0</td>\n",
              "      <td>0</td>\n",
              "      <td>0</td>\n",
              "      <td>0</td>\n",
              "      <td>38928341</td>\n",
              "      <td>1</td>\n",
              "    </tr>\n",
              "    <tr>\n",
              "      <th>4</th>\n",
              "      <td>4</td>\n",
              "      <td>Asia</td>\n",
              "      <td>Afghanistan</td>\n",
              "      <td>2020-02-28</td>\n",
              "      <td>1</td>\n",
              "      <td>0</td>\n",
              "      <td>0</td>\n",
              "      <td>0</td>\n",
              "      <td>0.026</td>\n",
              "      <td>0.0</td>\n",
              "      <td>0.0</td>\n",
              "      <td>0</td>\n",
              "      <td>0</td>\n",
              "      <td>0</td>\n",
              "      <td>0</td>\n",
              "      <td>0</td>\n",
              "      <td>38928341</td>\n",
              "      <td>1</td>\n",
              "    </tr>\n",
              "  </tbody>\n",
              "</table>\n",
              "</div>"
            ],
            "text/plain": [
              "   Unnamed: 0 continent  ... population active+recovered\n",
              "0           0      Asia  ...   38928341                1\n",
              "1           1      Asia  ...   38928341                1\n",
              "2           2      Asia  ...   38928341                1\n",
              "3           3      Asia  ...   38928341                1\n",
              "4           4      Asia  ...   38928341                1\n",
              "\n",
              "[5 rows x 18 columns]"
            ]
          },
          "metadata": {
            "tags": []
          },
          "execution_count": 49
        }
      ]
    },
    {
      "cell_type": "code",
      "metadata": {
        "colab": {
          "base_uri": "https://localhost:8080/"
        },
        "id": "Js6lrA_0yL_1",
        "outputId": "b4954b40-855e-4d3d-b598-d65ad150e781"
      },
      "source": [
        "df1.info()"
      ],
      "execution_count": 50,
      "outputs": [
        {
          "output_type": "stream",
          "text": [
            "<class 'pandas.core.frame.DataFrame'>\n",
            "RangeIndex: 79277 entries, 0 to 79276\n",
            "Data columns (total 18 columns):\n",
            " #   Column                    Non-Null Count  Dtype  \n",
            "---  ------                    --------------  -----  \n",
            " 0   Unnamed: 0                79277 non-null  int64  \n",
            " 1   continent                 79277 non-null  object \n",
            " 2   location                  79277 non-null  object \n",
            " 3   date                      79277 non-null  object \n",
            " 4   total_cases               79277 non-null  int64  \n",
            " 5   new_cases                 79277 non-null  int64  \n",
            " 6   total_deaths              79277 non-null  int64  \n",
            " 7   new_deaths                79277 non-null  int64  \n",
            " 8   total_cases_per_million   79277 non-null  float64\n",
            " 9   total_deaths_per_million  79277 non-null  float64\n",
            " 10  new_deaths_per_million    79277 non-null  float64\n",
            " 11  new_tests                 79277 non-null  int64  \n",
            " 12  total_tests               79277 non-null  int64  \n",
            " 13  total_vaccinations        79277 non-null  int64  \n",
            " 14  people_vaccinated         79277 non-null  int64  \n",
            " 15  new_vaccinations          79277 non-null  int64  \n",
            " 16  population                79277 non-null  int64  \n",
            " 17  active+recovered          79277 non-null  int64  \n",
            "dtypes: float64(3), int64(12), object(3)\n",
            "memory usage: 10.9+ MB\n"
          ],
          "name": "stdout"
        }
      ]
    },
    {
      "cell_type": "code",
      "metadata": {
        "colab": {
          "base_uri": "https://localhost:8080/"
        },
        "id": "vOXp-Vbz4aq2",
        "outputId": "29f60cd0-29b2-4b32-b9f8-38dc6281b59a"
      },
      "source": [
        "df1.pop('Unnamed: 0')"
      ],
      "execution_count": 51,
      "outputs": [
        {
          "output_type": "execute_result",
          "data": {
            "text/plain": [
              "0            0\n",
              "1            1\n",
              "2            2\n",
              "3            3\n",
              "4            4\n",
              "         ...  \n",
              "79272    79272\n",
              "79273    79273\n",
              "79274    79274\n",
              "79275    79275\n",
              "79276    79276\n",
              "Name: Unnamed: 0, Length: 79277, dtype: int64"
            ]
          },
          "metadata": {
            "tags": []
          },
          "execution_count": 51
        }
      ]
    },
    {
      "cell_type": "code",
      "metadata": {
        "colab": {
          "base_uri": "https://localhost:8080/",
          "height": 600
        },
        "id": "fU1UVJh47NBF",
        "outputId": "b5d96aee-988d-4be4-cddb-fc93151d9e7f"
      },
      "source": [
        "df1"
      ],
      "execution_count": 52,
      "outputs": [
        {
          "output_type": "execute_result",
          "data": {
            "text/html": [
              "<div>\n",
              "<style scoped>\n",
              "    .dataframe tbody tr th:only-of-type {\n",
              "        vertical-align: middle;\n",
              "    }\n",
              "\n",
              "    .dataframe tbody tr th {\n",
              "        vertical-align: top;\n",
              "    }\n",
              "\n",
              "    .dataframe thead th {\n",
              "        text-align: right;\n",
              "    }\n",
              "</style>\n",
              "<table border=\"1\" class=\"dataframe\">\n",
              "  <thead>\n",
              "    <tr style=\"text-align: right;\">\n",
              "      <th></th>\n",
              "      <th>continent</th>\n",
              "      <th>location</th>\n",
              "      <th>date</th>\n",
              "      <th>total_cases</th>\n",
              "      <th>new_cases</th>\n",
              "      <th>total_deaths</th>\n",
              "      <th>new_deaths</th>\n",
              "      <th>total_cases_per_million</th>\n",
              "      <th>total_deaths_per_million</th>\n",
              "      <th>new_deaths_per_million</th>\n",
              "      <th>new_tests</th>\n",
              "      <th>total_tests</th>\n",
              "      <th>total_vaccinations</th>\n",
              "      <th>people_vaccinated</th>\n",
              "      <th>new_vaccinations</th>\n",
              "      <th>population</th>\n",
              "      <th>active+recovered</th>\n",
              "    </tr>\n",
              "  </thead>\n",
              "  <tbody>\n",
              "    <tr>\n",
              "      <th>0</th>\n",
              "      <td>Asia</td>\n",
              "      <td>Afghanistan</td>\n",
              "      <td>2020-02-24</td>\n",
              "      <td>1</td>\n",
              "      <td>1</td>\n",
              "      <td>0</td>\n",
              "      <td>0</td>\n",
              "      <td>0.026</td>\n",
              "      <td>0.000</td>\n",
              "      <td>0.000</td>\n",
              "      <td>0</td>\n",
              "      <td>0</td>\n",
              "      <td>0</td>\n",
              "      <td>0</td>\n",
              "      <td>0</td>\n",
              "      <td>38928341</td>\n",
              "      <td>1</td>\n",
              "    </tr>\n",
              "    <tr>\n",
              "      <th>1</th>\n",
              "      <td>Asia</td>\n",
              "      <td>Afghanistan</td>\n",
              "      <td>2020-02-25</td>\n",
              "      <td>1</td>\n",
              "      <td>0</td>\n",
              "      <td>0</td>\n",
              "      <td>0</td>\n",
              "      <td>0.026</td>\n",
              "      <td>0.000</td>\n",
              "      <td>0.000</td>\n",
              "      <td>0</td>\n",
              "      <td>0</td>\n",
              "      <td>0</td>\n",
              "      <td>0</td>\n",
              "      <td>0</td>\n",
              "      <td>38928341</td>\n",
              "      <td>1</td>\n",
              "    </tr>\n",
              "    <tr>\n",
              "      <th>2</th>\n",
              "      <td>Asia</td>\n",
              "      <td>Afghanistan</td>\n",
              "      <td>2020-02-26</td>\n",
              "      <td>1</td>\n",
              "      <td>0</td>\n",
              "      <td>0</td>\n",
              "      <td>0</td>\n",
              "      <td>0.026</td>\n",
              "      <td>0.000</td>\n",
              "      <td>0.000</td>\n",
              "      <td>0</td>\n",
              "      <td>0</td>\n",
              "      <td>0</td>\n",
              "      <td>0</td>\n",
              "      <td>0</td>\n",
              "      <td>38928341</td>\n",
              "      <td>1</td>\n",
              "    </tr>\n",
              "    <tr>\n",
              "      <th>3</th>\n",
              "      <td>Asia</td>\n",
              "      <td>Afghanistan</td>\n",
              "      <td>2020-02-27</td>\n",
              "      <td>1</td>\n",
              "      <td>0</td>\n",
              "      <td>0</td>\n",
              "      <td>0</td>\n",
              "      <td>0.026</td>\n",
              "      <td>0.000</td>\n",
              "      <td>0.000</td>\n",
              "      <td>0</td>\n",
              "      <td>0</td>\n",
              "      <td>0</td>\n",
              "      <td>0</td>\n",
              "      <td>0</td>\n",
              "      <td>38928341</td>\n",
              "      <td>1</td>\n",
              "    </tr>\n",
              "    <tr>\n",
              "      <th>4</th>\n",
              "      <td>Asia</td>\n",
              "      <td>Afghanistan</td>\n",
              "      <td>2020-02-28</td>\n",
              "      <td>1</td>\n",
              "      <td>0</td>\n",
              "      <td>0</td>\n",
              "      <td>0</td>\n",
              "      <td>0.026</td>\n",
              "      <td>0.000</td>\n",
              "      <td>0.000</td>\n",
              "      <td>0</td>\n",
              "      <td>0</td>\n",
              "      <td>0</td>\n",
              "      <td>0</td>\n",
              "      <td>0</td>\n",
              "      <td>38928341</td>\n",
              "      <td>1</td>\n",
              "    </tr>\n",
              "    <tr>\n",
              "      <th>...</th>\n",
              "      <td>...</td>\n",
              "      <td>...</td>\n",
              "      <td>...</td>\n",
              "      <td>...</td>\n",
              "      <td>...</td>\n",
              "      <td>...</td>\n",
              "      <td>...</td>\n",
              "      <td>...</td>\n",
              "      <td>...</td>\n",
              "      <td>...</td>\n",
              "      <td>...</td>\n",
              "      <td>...</td>\n",
              "      <td>...</td>\n",
              "      <td>...</td>\n",
              "      <td>...</td>\n",
              "      <td>...</td>\n",
              "      <td>...</td>\n",
              "    </tr>\n",
              "    <tr>\n",
              "      <th>79272</th>\n",
              "      <td>Africa</td>\n",
              "      <td>Zimbabwe</td>\n",
              "      <td>2021-03-30</td>\n",
              "      <td>36839</td>\n",
              "      <td>0</td>\n",
              "      <td>1520</td>\n",
              "      <td>0</td>\n",
              "      <td>2478.583</td>\n",
              "      <td>102.268</td>\n",
              "      <td>0.000</td>\n",
              "      <td>2675</td>\n",
              "      <td>435853</td>\n",
              "      <td>85866</td>\n",
              "      <td>72944</td>\n",
              "      <td>4256</td>\n",
              "      <td>14862927</td>\n",
              "      <td>35319</td>\n",
              "    </tr>\n",
              "    <tr>\n",
              "      <th>79273</th>\n",
              "      <td>Africa</td>\n",
              "      <td>Zimbabwe</td>\n",
              "      <td>2021-03-31</td>\n",
              "      <td>36882</td>\n",
              "      <td>43</td>\n",
              "      <td>1523</td>\n",
              "      <td>3</td>\n",
              "      <td>2481.476</td>\n",
              "      <td>102.470</td>\n",
              "      <td>0.202</td>\n",
              "      <td>1440</td>\n",
              "      <td>437293</td>\n",
              "      <td>91880</td>\n",
              "      <td>76995</td>\n",
              "      <td>6014</td>\n",
              "      <td>14862927</td>\n",
              "      <td>35359</td>\n",
              "    </tr>\n",
              "    <tr>\n",
              "      <th>79274</th>\n",
              "      <td>Africa</td>\n",
              "      <td>Zimbabwe</td>\n",
              "      <td>2021-04-01</td>\n",
              "      <td>36896</td>\n",
              "      <td>14</td>\n",
              "      <td>1523</td>\n",
              "      <td>0</td>\n",
              "      <td>2482.418</td>\n",
              "      <td>102.470</td>\n",
              "      <td>0.000</td>\n",
              "      <td>2337</td>\n",
              "      <td>439630</td>\n",
              "      <td>105307</td>\n",
              "      <td>87791</td>\n",
              "      <td>13427</td>\n",
              "      <td>14862927</td>\n",
              "      <td>35373</td>\n",
              "    </tr>\n",
              "    <tr>\n",
              "      <th>79275</th>\n",
              "      <td>Africa</td>\n",
              "      <td>Zimbabwe</td>\n",
              "      <td>2021-04-02</td>\n",
              "      <td>36903</td>\n",
              "      <td>7</td>\n",
              "      <td>1524</td>\n",
              "      <td>1</td>\n",
              "      <td>2482.889</td>\n",
              "      <td>102.537</td>\n",
              "      <td>0.067</td>\n",
              "      <td>0</td>\n",
              "      <td>0</td>\n",
              "      <td>124753</td>\n",
              "      <td>103815</td>\n",
              "      <td>19446</td>\n",
              "      <td>14862927</td>\n",
              "      <td>35379</td>\n",
              "    </tr>\n",
              "    <tr>\n",
              "      <th>79276</th>\n",
              "      <td>Africa</td>\n",
              "      <td>Zimbabwe</td>\n",
              "      <td>2021-04-03</td>\n",
              "      <td>36911</td>\n",
              "      <td>8</td>\n",
              "      <td>1524</td>\n",
              "      <td>0</td>\n",
              "      <td>2483.427</td>\n",
              "      <td>102.537</td>\n",
              "      <td>0.000</td>\n",
              "      <td>0</td>\n",
              "      <td>0</td>\n",
              "      <td>0</td>\n",
              "      <td>0</td>\n",
              "      <td>0</td>\n",
              "      <td>14862927</td>\n",
              "      <td>35387</td>\n",
              "    </tr>\n",
              "  </tbody>\n",
              "</table>\n",
              "<p>79277 rows × 17 columns</p>\n",
              "</div>"
            ],
            "text/plain": [
              "      continent     location  ... population  active+recovered\n",
              "0          Asia  Afghanistan  ...   38928341                 1\n",
              "1          Asia  Afghanistan  ...   38928341                 1\n",
              "2          Asia  Afghanistan  ...   38928341                 1\n",
              "3          Asia  Afghanistan  ...   38928341                 1\n",
              "4          Asia  Afghanistan  ...   38928341                 1\n",
              "...         ...          ...  ...        ...               ...\n",
              "79272    Africa     Zimbabwe  ...   14862927             35319\n",
              "79273    Africa     Zimbabwe  ...   14862927             35359\n",
              "79274    Africa     Zimbabwe  ...   14862927             35373\n",
              "79275    Africa     Zimbabwe  ...   14862927             35379\n",
              "79276    Africa     Zimbabwe  ...   14862927             35387\n",
              "\n",
              "[79277 rows x 17 columns]"
            ]
          },
          "metadata": {
            "tags": []
          },
          "execution_count": 52
        }
      ]
    },
    {
      "cell_type": "code",
      "metadata": {
        "colab": {
          "base_uri": "https://localhost:8080/"
        },
        "id": "ktSBKdaQAyma",
        "outputId": "e8f14d8b-ddbe-495f-d31c-916b5dbe6e54"
      },
      "source": [
        "df1['date'] = pd.to_datetime(df1['date'])\n",
        "df1['total_cases'] = df1['total_cases'].astype(int)\n",
        "df1.info()"
      ],
      "execution_count": 53,
      "outputs": [
        {
          "output_type": "stream",
          "text": [
            "<class 'pandas.core.frame.DataFrame'>\n",
            "RangeIndex: 79277 entries, 0 to 79276\n",
            "Data columns (total 17 columns):\n",
            " #   Column                    Non-Null Count  Dtype         \n",
            "---  ------                    --------------  -----         \n",
            " 0   continent                 79277 non-null  object        \n",
            " 1   location                  79277 non-null  object        \n",
            " 2   date                      79277 non-null  datetime64[ns]\n",
            " 3   total_cases               79277 non-null  int64         \n",
            " 4   new_cases                 79277 non-null  int64         \n",
            " 5   total_deaths              79277 non-null  int64         \n",
            " 6   new_deaths                79277 non-null  int64         \n",
            " 7   total_cases_per_million   79277 non-null  float64       \n",
            " 8   total_deaths_per_million  79277 non-null  float64       \n",
            " 9   new_deaths_per_million    79277 non-null  float64       \n",
            " 10  new_tests                 79277 non-null  int64         \n",
            " 11  total_tests               79277 non-null  int64         \n",
            " 12  total_vaccinations        79277 non-null  int64         \n",
            " 13  people_vaccinated         79277 non-null  int64         \n",
            " 14  new_vaccinations          79277 non-null  int64         \n",
            " 15  population                79277 non-null  int64         \n",
            " 16  active+recovered          79277 non-null  int64         \n",
            "dtypes: datetime64[ns](1), float64(3), int64(11), object(2)\n",
            "memory usage: 10.3+ MB\n"
          ],
          "name": "stdout"
        }
      ]
    },
    {
      "cell_type": "code",
      "metadata": {
        "id": "76jPvjma9ep-"
      },
      "source": [
        "dfin=df1.loc[df1['location'] == 'India', ['date', 'total_cases']]"
      ],
      "execution_count": 54,
      "outputs": []
    },
    {
      "cell_type": "code",
      "metadata": {
        "id": "PlJ-MBFL_3f3"
      },
      "source": [
        "dfus=df1.loc[df1['location'] == 'United States', ['date', 'total_cases']]"
      ],
      "execution_count": 55,
      "outputs": []
    },
    {
      "cell_type": "code",
      "metadata": {
        "id": "NtdQEWib_9Au"
      },
      "source": [
        "dfeu=df1.loc[df1['location'] == 'Europe', ['date', 'total_cases']]"
      ],
      "execution_count": 56,
      "outputs": []
    },
    {
      "cell_type": "code",
      "metadata": {
        "colab": {
          "base_uri": "https://localhost:8080/",
          "height": 407
        },
        "id": "HubEpmSJ8X2J",
        "outputId": "1cfa2d7f-7be8-44da-8a5e-0228f520e87b"
      },
      "source": [
        "dfin"
      ],
      "execution_count": 57,
      "outputs": [
        {
          "output_type": "execute_result",
          "data": {
            "text/html": [
              "<div>\n",
              "<style scoped>\n",
              "    .dataframe tbody tr th:only-of-type {\n",
              "        vertical-align: middle;\n",
              "    }\n",
              "\n",
              "    .dataframe tbody tr th {\n",
              "        vertical-align: top;\n",
              "    }\n",
              "\n",
              "    .dataframe thead th {\n",
              "        text-align: right;\n",
              "    }\n",
              "</style>\n",
              "<table border=\"1\" class=\"dataframe\">\n",
              "  <thead>\n",
              "    <tr style=\"text-align: right;\">\n",
              "      <th></th>\n",
              "      <th>date</th>\n",
              "      <th>total_cases</th>\n",
              "    </tr>\n",
              "  </thead>\n",
              "  <tbody>\n",
              "    <tr>\n",
              "      <th>32525</th>\n",
              "      <td>2020-01-30</td>\n",
              "      <td>1</td>\n",
              "    </tr>\n",
              "    <tr>\n",
              "      <th>32526</th>\n",
              "      <td>2020-01-31</td>\n",
              "      <td>1</td>\n",
              "    </tr>\n",
              "    <tr>\n",
              "      <th>32527</th>\n",
              "      <td>2020-02-01</td>\n",
              "      <td>1</td>\n",
              "    </tr>\n",
              "    <tr>\n",
              "      <th>32528</th>\n",
              "      <td>2020-02-02</td>\n",
              "      <td>2</td>\n",
              "    </tr>\n",
              "    <tr>\n",
              "      <th>32529</th>\n",
              "      <td>2020-02-03</td>\n",
              "      <td>3</td>\n",
              "    </tr>\n",
              "    <tr>\n",
              "      <th>...</th>\n",
              "      <td>...</td>\n",
              "      <td>...</td>\n",
              "    </tr>\n",
              "    <tr>\n",
              "      <th>32950</th>\n",
              "      <td>2021-03-30</td>\n",
              "      <td>12149335</td>\n",
              "    </tr>\n",
              "    <tr>\n",
              "      <th>32951</th>\n",
              "      <td>2021-03-31</td>\n",
              "      <td>12221665</td>\n",
              "    </tr>\n",
              "    <tr>\n",
              "      <th>32952</th>\n",
              "      <td>2021-04-01</td>\n",
              "      <td>12303131</td>\n",
              "    </tr>\n",
              "    <tr>\n",
              "      <th>32953</th>\n",
              "      <td>2021-04-02</td>\n",
              "      <td>12392260</td>\n",
              "    </tr>\n",
              "    <tr>\n",
              "      <th>32954</th>\n",
              "      <td>2021-04-03</td>\n",
              "      <td>12392260</td>\n",
              "    </tr>\n",
              "  </tbody>\n",
              "</table>\n",
              "<p>430 rows × 2 columns</p>\n",
              "</div>"
            ],
            "text/plain": [
              "            date  total_cases\n",
              "32525 2020-01-30            1\n",
              "32526 2020-01-31            1\n",
              "32527 2020-02-01            1\n",
              "32528 2020-02-02            2\n",
              "32529 2020-02-03            3\n",
              "...          ...          ...\n",
              "32950 2021-03-30     12149335\n",
              "32951 2021-03-31     12221665\n",
              "32952 2021-04-01     12303131\n",
              "32953 2021-04-02     12392260\n",
              "32954 2021-04-03     12392260\n",
              "\n",
              "[430 rows x 2 columns]"
            ]
          },
          "metadata": {
            "tags": []
          },
          "execution_count": 57
        }
      ]
    },
    {
      "cell_type": "code",
      "metadata": {
        "colab": {
          "base_uri": "https://localhost:8080/",
          "height": 407
        },
        "id": "mggwygV2AZp7",
        "outputId": "cf885d3f-2a03-463a-83b3-b2a60edba2e3"
      },
      "source": [
        "dfus"
      ],
      "execution_count": 58,
      "outputs": [
        {
          "output_type": "execute_result",
          "data": {
            "text/html": [
              "<div>\n",
              "<style scoped>\n",
              "    .dataframe tbody tr th:only-of-type {\n",
              "        vertical-align: middle;\n",
              "    }\n",
              "\n",
              "    .dataframe tbody tr th {\n",
              "        vertical-align: top;\n",
              "    }\n",
              "\n",
              "    .dataframe thead th {\n",
              "        text-align: right;\n",
              "    }\n",
              "</style>\n",
              "<table border=\"1\" class=\"dataframe\">\n",
              "  <thead>\n",
              "    <tr style=\"text-align: right;\">\n",
              "      <th></th>\n",
              "      <th>date</th>\n",
              "      <th>total_cases</th>\n",
              "    </tr>\n",
              "  </thead>\n",
              "  <tbody>\n",
              "    <tr>\n",
              "      <th>75146</th>\n",
              "      <td>2020-01-22</td>\n",
              "      <td>1</td>\n",
              "    </tr>\n",
              "    <tr>\n",
              "      <th>75147</th>\n",
              "      <td>2020-01-23</td>\n",
              "      <td>1</td>\n",
              "    </tr>\n",
              "    <tr>\n",
              "      <th>75148</th>\n",
              "      <td>2020-01-24</td>\n",
              "      <td>2</td>\n",
              "    </tr>\n",
              "    <tr>\n",
              "      <th>75149</th>\n",
              "      <td>2020-01-25</td>\n",
              "      <td>2</td>\n",
              "    </tr>\n",
              "    <tr>\n",
              "      <th>75150</th>\n",
              "      <td>2020-01-26</td>\n",
              "      <td>5</td>\n",
              "    </tr>\n",
              "    <tr>\n",
              "      <th>...</th>\n",
              "      <td>...</td>\n",
              "      <td>...</td>\n",
              "    </tr>\n",
              "    <tr>\n",
              "      <th>75579</th>\n",
              "      <td>2021-03-30</td>\n",
              "      <td>30393805</td>\n",
              "    </tr>\n",
              "    <tr>\n",
              "      <th>75580</th>\n",
              "      <td>2021-03-31</td>\n",
              "      <td>30460834</td>\n",
              "    </tr>\n",
              "    <tr>\n",
              "      <th>75581</th>\n",
              "      <td>2021-04-01</td>\n",
              "      <td>30539868</td>\n",
              "    </tr>\n",
              "    <tr>\n",
              "      <th>75582</th>\n",
              "      <td>2021-04-02</td>\n",
              "      <td>30609690</td>\n",
              "    </tr>\n",
              "    <tr>\n",
              "      <th>75583</th>\n",
              "      <td>2021-04-03</td>\n",
              "      <td>30671844</td>\n",
              "    </tr>\n",
              "  </tbody>\n",
              "</table>\n",
              "<p>438 rows × 2 columns</p>\n",
              "</div>"
            ],
            "text/plain": [
              "            date  total_cases\n",
              "75146 2020-01-22            1\n",
              "75147 2020-01-23            1\n",
              "75148 2020-01-24            2\n",
              "75149 2020-01-25            2\n",
              "75150 2020-01-26            5\n",
              "...          ...          ...\n",
              "75579 2021-03-30     30393805\n",
              "75580 2021-03-31     30460834\n",
              "75581 2021-04-01     30539868\n",
              "75582 2021-04-02     30609690\n",
              "75583 2021-04-03     30671844\n",
              "\n",
              "[438 rows x 2 columns]"
            ]
          },
          "metadata": {
            "tags": []
          },
          "execution_count": 58
        }
      ]
    },
    {
      "cell_type": "code",
      "metadata": {
        "colab": {
          "base_uri": "https://localhost:8080/",
          "height": 407
        },
        "id": "m6D5nW7DAccm",
        "outputId": "682ced7a-3293-4add-b44c-d49b7091552f"
      },
      "source": [
        "dfeu"
      ],
      "execution_count": 59,
      "outputs": [
        {
          "output_type": "execute_result",
          "data": {
            "text/html": [
              "<div>\n",
              "<style scoped>\n",
              "    .dataframe tbody tr th:only-of-type {\n",
              "        vertical-align: middle;\n",
              "    }\n",
              "\n",
              "    .dataframe tbody tr th {\n",
              "        vertical-align: top;\n",
              "    }\n",
              "\n",
              "    .dataframe thead th {\n",
              "        text-align: right;\n",
              "    }\n",
              "</style>\n",
              "<table border=\"1\" class=\"dataframe\">\n",
              "  <thead>\n",
              "    <tr style=\"text-align: right;\">\n",
              "      <th></th>\n",
              "      <th>date</th>\n",
              "      <th>total_cases</th>\n",
              "    </tr>\n",
              "  </thead>\n",
              "  <tbody>\n",
              "    <tr>\n",
              "      <th>24043</th>\n",
              "      <td>2020-01-23</td>\n",
              "      <td>0</td>\n",
              "    </tr>\n",
              "    <tr>\n",
              "      <th>24044</th>\n",
              "      <td>2020-01-24</td>\n",
              "      <td>2</td>\n",
              "    </tr>\n",
              "    <tr>\n",
              "      <th>24045</th>\n",
              "      <td>2020-01-25</td>\n",
              "      <td>3</td>\n",
              "    </tr>\n",
              "    <tr>\n",
              "      <th>24046</th>\n",
              "      <td>2020-01-26</td>\n",
              "      <td>3</td>\n",
              "    </tr>\n",
              "    <tr>\n",
              "      <th>24047</th>\n",
              "      <td>2020-01-27</td>\n",
              "      <td>4</td>\n",
              "    </tr>\n",
              "    <tr>\n",
              "      <th>...</th>\n",
              "      <td>...</td>\n",
              "      <td>...</td>\n",
              "    </tr>\n",
              "    <tr>\n",
              "      <th>24475</th>\n",
              "      <td>2021-03-30</td>\n",
              "      <td>39592373</td>\n",
              "    </tr>\n",
              "    <tr>\n",
              "      <th>24476</th>\n",
              "      <td>2021-03-31</td>\n",
              "      <td>39848358</td>\n",
              "    </tr>\n",
              "    <tr>\n",
              "      <th>24477</th>\n",
              "      <td>2021-04-01</td>\n",
              "      <td>40099507</td>\n",
              "    </tr>\n",
              "    <tr>\n",
              "      <th>24478</th>\n",
              "      <td>2021-04-02</td>\n",
              "      <td>40316339</td>\n",
              "    </tr>\n",
              "    <tr>\n",
              "      <th>24479</th>\n",
              "      <td>2021-04-03</td>\n",
              "      <td>40469351</td>\n",
              "    </tr>\n",
              "  </tbody>\n",
              "</table>\n",
              "<p>437 rows × 2 columns</p>\n",
              "</div>"
            ],
            "text/plain": [
              "            date  total_cases\n",
              "24043 2020-01-23            0\n",
              "24044 2020-01-24            2\n",
              "24045 2020-01-25            3\n",
              "24046 2020-01-26            3\n",
              "24047 2020-01-27            4\n",
              "...          ...          ...\n",
              "24475 2021-03-30     39592373\n",
              "24476 2021-03-31     39848358\n",
              "24477 2021-04-01     40099507\n",
              "24478 2021-04-02     40316339\n",
              "24479 2021-04-03     40469351\n",
              "\n",
              "[437 rows x 2 columns]"
            ]
          },
          "metadata": {
            "tags": []
          },
          "execution_count": 59
        }
      ]
    },
    {
      "cell_type": "code",
      "metadata": {
        "colab": {
          "base_uri": "https://localhost:8080/",
          "height": 264
        },
        "id": "nISlFKjy8qq5",
        "outputId": "302d36ae-9ccf-48ae-bfaf-6e30c05cb715"
      },
      "source": [
        "plt.figure(figsize=(18,5))\n",
        "plt.plot(dfin['date'],dfin['total_cases'])\n",
        "plt.plot(dfus['date'],dfus['total_cases'])\n",
        "plt.plot(dfeu['date'],dfeu['total_cases'])\n",
        "plt.show()"
      ],
      "execution_count": 60,
      "outputs": [
        {
          "output_type": "display_data",
          "data": {
            "image/png": "[encoded data removed]",
            "text/plain": [
              "<Figure size 1296x360 with 1 Axes>"
            ]
          },
          "metadata": {
            "tags": [],
            "needs_background": "light"
          }
        }
      ]
    },
    {
      "cell_type": "code",
      "metadata": {
        "id": "VAnl023X8_PL"
      },
      "source": [
        "from fbprophet import Prophet"
      ],
      "execution_count": 61,
      "outputs": []
    },
    {
      "cell_type": "code",
      "metadata": {
        "id": "H3LrSjF7DJlv"
      },
      "source": [
        "dfin = dfin.rename(columns={'date':'ds','total_cases':'y'})\n",
        "dfus = dfus.rename(columns={'date':'ds','total_cases':'y'})\n",
        "dfeu = dfeu.rename(columns={'date':'ds','total_cases':'y'})"
      ],
      "execution_count": 62,
      "outputs": []
    },
    {
      "cell_type": "code",
      "metadata": {
        "colab": {
          "base_uri": "https://localhost:8080/"
        },
        "id": "mvlS5haHCgFy",
        "outputId": "628f452a-4d2f-4784-cfa7-ef5a8cce437d"
      },
      "source": [
        "model = Prophet(changepoint_prior_scale=1)\n",
        "model.fit(dfin)\n",
        "forecast = model.make_future_dataframe(periods=30,freq='D')\n",
        "forecast = model.predict(forecast)"
      ],
      "execution_count": 63,
      "outputs": [
        {
          "output_type": "stream",
          "text": [
            "INFO:fbprophet:Disabling yearly seasonality. Run prophet with yearly_seasonality=True to override this.\n",
            "INFO:fbprophet:Disabling daily seasonality. Run prophet with daily_seasonality=True to override this.\n"
          ],
          "name": "stderr"
        }
      ]
    },
    {
      "cell_type": "code",
      "metadata": {
        "colab": {
          "base_uri": "https://localhost:8080/",
          "height": 198
        },
        "id": "gsIVrgt0C-Ns",
        "outputId": "4e24b7df-6de7-453d-bedd-16fd20f05920"
      },
      "source": [
        "forecast[['ds','yhat','yhat_lower','yhat_upper']].head()"
      ],
      "execution_count": 64,
      "outputs": [
        {
          "output_type": "execute_result",
          "data": {
            "text/html": [
              "<div>\n",
              "<style scoped>\n",
              "    .dataframe tbody tr th:only-of-type {\n",
              "        vertical-align: middle;\n",
              "    }\n",
              "\n",
              "    .dataframe tbody tr th {\n",
              "        vertical-align: top;\n",
              "    }\n",
              "\n",
              "    .dataframe thead th {\n",
              "        text-align: right;\n",
              "    }\n",
              "</style>\n",
              "<table border=\"1\" class=\"dataframe\">\n",
              "  <thead>\n",
              "    <tr style=\"text-align: right;\">\n",
              "      <th></th>\n",
              "      <th>ds</th>\n",
              "      <th>yhat</th>\n",
              "      <th>yhat_lower</th>\n",
              "      <th>yhat_upper</th>\n",
              "    </tr>\n",
              "  </thead>\n",
              "  <tbody>\n",
              "    <tr>\n",
              "      <th>0</th>\n",
              "      <td>2020-01-30</td>\n",
              "      <td>1016.752431</td>\n",
              "      <td>-86703.459203</td>\n",
              "      <td>89423.877435</td>\n",
              "    </tr>\n",
              "    <tr>\n",
              "      <th>1</th>\n",
              "      <td>2020-01-31</td>\n",
              "      <td>3566.170250</td>\n",
              "      <td>-89675.884988</td>\n",
              "      <td>86876.971950</td>\n",
              "    </tr>\n",
              "    <tr>\n",
              "      <th>2</th>\n",
              "      <td>2020-02-01</td>\n",
              "      <td>5932.444693</td>\n",
              "      <td>-83450.320826</td>\n",
              "      <td>95009.708166</td>\n",
              "    </tr>\n",
              "    <tr>\n",
              "      <th>3</th>\n",
              "      <td>2020-02-02</td>\n",
              "      <td>-456.266984</td>\n",
              "      <td>-90573.702924</td>\n",
              "      <td>86667.577678</td>\n",
              "    </tr>\n",
              "    <tr>\n",
              "      <th>4</th>\n",
              "      <td>2020-02-03</td>\n",
              "      <td>-3406.687754</td>\n",
              "      <td>-93096.355637</td>\n",
              "      <td>84520.277170</td>\n",
              "    </tr>\n",
              "  </tbody>\n",
              "</table>\n",
              "</div>"
            ],
            "text/plain": [
              "          ds         yhat    yhat_lower    yhat_upper\n",
              "0 2020-01-30  1016.752431 -86703.459203  89423.877435\n",
              "1 2020-01-31  3566.170250 -89675.884988  86876.971950\n",
              "2 2020-02-01  5932.444693 -83450.320826  95009.708166\n",
              "3 2020-02-02  -456.266984 -90573.702924  86667.577678\n",
              "4 2020-02-03 -3406.687754 -93096.355637  84520.277170"
            ]
          },
          "metadata": {
            "tags": []
          },
          "execution_count": 64
        }
      ]
    },
    {
      "cell_type": "code",
      "metadata": {
        "colab": {
          "base_uri": "https://localhost:8080/",
          "height": 818
        },
        "id": "D3hEGsw9DeiX",
        "outputId": "0d24ae23-e14f-40f0-acfb-fb4503efe061"
      },
      "source": [
        "plt.figure(figsize=(20,20))\n",
        "plt.scatter(dfin['ds'],dfin['y'],s=5,c='k')\n",
        "plt.plot(forecast['ds'],forecast['yhat'])\n",
        "plt.plot(forecast['ds'],forecast['yhat_lower'])\n",
        "plt.plot(forecast['ds'],forecast['yhat_upper'])\n",
        "plt.show()"
      ],
      "execution_count": 65,
      "outputs": [
        {
          "output_type": "display_data",
          "data": {
            "image/png": "[encoded data removed]",
            "text/plain": [
              "<Figure size 1440x1440 with 1 Axes>"
            ]
          },
          "metadata": {
            "tags": [],
            "needs_background": "light"
          }
        }
      ]
    },
    {
      "cell_type": "code",
      "metadata": {
        "colab": {
          "base_uri": "https://localhost:8080/",
          "height": 835
        },
        "id": "jSr7XAMwEAVC",
        "outputId": "676e5ee0-ca9f-4342-ddd5-1183b4ce4f95"
      },
      "source": [
        "model.plot(forecast,figsize=(20,20));"
      ],
      "execution_count": 66,
      "outputs": [
        {
          "output_type": "display_data",
          "data": {
            "image/png": "[encoded data removed]",
            "text/plain": [
              "<Figure size 1440x1440 with 1 Axes>"
            ]
          },
          "metadata": {
            "tags": []
          }
        }
      ]
    },
    {
      "cell_type": "code",
      "metadata": {
        "colab": {
          "base_uri": "https://localhost:8080/"
        },
        "id": "I2LMTZw_EPnr",
        "outputId": "9d92e8ba-8364-420a-ad5b-1a221cb1eba2"
      },
      "source": [
        "model = Prophet(changepoint_prior_scale=1)\n",
        "model.fit(dfus)\n",
        "forecast = model.make_future_dataframe(periods=30,freq='D')\n",
        "forecast = model.predict(forecast)"
      ],
      "execution_count": 67,
      "outputs": [
        {
          "output_type": "stream",
          "text": [
            "INFO:fbprophet:Disabling yearly seasonality. Run prophet with yearly_seasonality=True to override this.\n",
            "INFO:fbprophet:Disabling daily seasonality. Run prophet with daily_seasonality=True to override this.\n"
          ],
          "name": "stderr"
        }
      ]
    },
    {
      "cell_type": "code",
      "metadata": {
        "colab": {
          "base_uri": "https://localhost:8080/",
          "height": 198
        },
        "id": "t8IqTdPQFGju",
        "outputId": "6644b3f6-b4a8-459e-b4c3-1715ecf0282c"
      },
      "source": [
        "forecast[['ds','yhat','yhat_lower','yhat_upper']].head()"
      ],
      "execution_count": 68,
      "outputs": [
        {
          "output_type": "execute_result",
          "data": {
            "text/html": [
              "<div>\n",
              "<style scoped>\n",
              "    .dataframe tbody tr th:only-of-type {\n",
              "        vertical-align: middle;\n",
              "    }\n",
              "\n",
              "    .dataframe tbody tr th {\n",
              "        vertical-align: top;\n",
              "    }\n",
              "\n",
              "    .dataframe thead th {\n",
              "        text-align: right;\n",
              "    }\n",
              "</style>\n",
              "<table border=\"1\" class=\"dataframe\">\n",
              "  <thead>\n",
              "    <tr style=\"text-align: right;\">\n",
              "      <th></th>\n",
              "      <th>ds</th>\n",
              "      <th>yhat</th>\n",
              "      <th>yhat_lower</th>\n",
              "      <th>yhat_upper</th>\n",
              "    </tr>\n",
              "  </thead>\n",
              "  <tbody>\n",
              "    <tr>\n",
              "      <th>0</th>\n",
              "      <td>2020-01-22</td>\n",
              "      <td>-3218.721808</td>\n",
              "      <td>-462840.752089</td>\n",
              "      <td>442677.098433</td>\n",
              "    </tr>\n",
              "    <tr>\n",
              "      <th>1</th>\n",
              "      <td>2020-01-23</td>\n",
              "      <td>-448.631091</td>\n",
              "      <td>-437849.401696</td>\n",
              "      <td>457912.139437</td>\n",
              "    </tr>\n",
              "    <tr>\n",
              "      <th>2</th>\n",
              "      <td>2020-01-24</td>\n",
              "      <td>3733.742873</td>\n",
              "      <td>-465321.606963</td>\n",
              "      <td>424804.868272</td>\n",
              "    </tr>\n",
              "    <tr>\n",
              "      <th>3</th>\n",
              "      <td>2020-01-25</td>\n",
              "      <td>3180.258657</td>\n",
              "      <td>-432810.436746</td>\n",
              "      <td>472508.519017</td>\n",
              "    </tr>\n",
              "    <tr>\n",
              "      <th>4</th>\n",
              "      <td>2020-01-26</td>\n",
              "      <td>6581.447494</td>\n",
              "      <td>-464699.193640</td>\n",
              "      <td>467741.382466</td>\n",
              "    </tr>\n",
              "  </tbody>\n",
              "</table>\n",
              "</div>"
            ],
            "text/plain": [
              "          ds         yhat     yhat_lower     yhat_upper\n",
              "0 2020-01-22 -3218.721808 -462840.752089  442677.098433\n",
              "1 2020-01-23  -448.631091 -437849.401696  457912.139437\n",
              "2 2020-01-24  3733.742873 -465321.606963  424804.868272\n",
              "3 2020-01-25  3180.258657 -432810.436746  472508.519017\n",
              "4 2020-01-26  6581.447494 -464699.193640  467741.382466"
            ]
          },
          "metadata": {
            "tags": []
          },
          "execution_count": 68
        }
      ]
    },
    {
      "cell_type": "code",
      "metadata": {
        "colab": {
          "base_uri": "https://localhost:8080/",
          "height": 818
        },
        "id": "uVyEWqL_FOi7",
        "outputId": "3491d07f-f6a0-459c-bdf8-442d931dd3b3"
      },
      "source": [
        "plt.figure(figsize=(20,20))\n",
        "plt.scatter(dfus['ds'],dfus['y'],s=5,c='k')\n",
        "plt.plot(forecast['ds'],forecast['yhat'])\n",
        "plt.plot(forecast['ds'],forecast['yhat_lower'])\n",
        "plt.plot(forecast['ds'],forecast['yhat_upper'])\n",
        "plt.show()"
      ],
      "execution_count": 69,
      "outputs": [
        {
          "output_type": "display_data",
          "data": {
            "image/png": "[encoded data removed]",
            "text/plain": [
              "<Figure size 1440x1440 with 1 Axes>"
            ]
          },
          "metadata": {
            "tags": [],
            "needs_background": "light"
          }
        }
      ]
    },
    {
      "cell_type": "code",
      "metadata": {
        "colab": {
          "base_uri": "https://localhost:8080/",
          "height": 835
        },
        "id": "Ht_NIJ8cFsUW",
        "outputId": "99ba772a-e28a-44fc-e10c-02ac7d83d7b8"
      },
      "source": [
        "model.plot(forecast,figsize=(20,20));"
      ],
      "execution_count": 70,
      "outputs": [
        {
          "output_type": "display_data",
          "data": {
            "image/png": "[encoded data removed]",
            "text/plain": [
              "<Figure size 1440x1440 with 1 Axes>"
            ]
          },
          "metadata": {
            "tags": []
          }
        }
      ]
    },
    {
      "cell_type": "code",
      "metadata": {
        "colab": {
          "base_uri": "https://localhost:8080/"
        },
        "id": "LNR2nwlVFEan",
        "outputId": "2c5352f7-3776-48d8-bc0d-ab8fb71d54cf"
      },
      "source": [
        "model = Prophet(changepoint_prior_scale=1)\n",
        "model.fit(dfeu)\n",
        "forecast = model.make_future_dataframe(periods=30,freq='D')\n",
        "forecast = model.predict(forecast)"
      ],
      "execution_count": 71,
      "outputs": [
        {
          "output_type": "stream",
          "text": [
            "INFO:fbprophet:Disabling yearly seasonality. Run prophet with yearly_seasonality=True to override this.\n",
            "INFO:fbprophet:Disabling daily seasonality. Run prophet with daily_seasonality=True to override this.\n"
          ],
          "name": "stderr"
        }
      ]
    },
    {
      "cell_type": "code",
      "metadata": {
        "colab": {
          "base_uri": "https://localhost:8080/",
          "height": 198
        },
        "id": "V4t5J63yEvvc",
        "outputId": "5ab9d113-5fd5-4522-9395-0f10eb6c0f6b"
      },
      "source": [
        "forecast[['ds','yhat','yhat_lower','yhat_upper']].head()"
      ],
      "execution_count": 72,
      "outputs": [
        {
          "output_type": "execute_result",
          "data": {
            "text/html": [
              "<div>\n",
              "<style scoped>\n",
              "    .dataframe tbody tr th:only-of-type {\n",
              "        vertical-align: middle;\n",
              "    }\n",
              "\n",
              "    .dataframe tbody tr th {\n",
              "        vertical-align: top;\n",
              "    }\n",
              "\n",
              "    .dataframe thead th {\n",
              "        text-align: right;\n",
              "    }\n",
              "</style>\n",
              "<table border=\"1\" class=\"dataframe\">\n",
              "  <thead>\n",
              "    <tr style=\"text-align: right;\">\n",
              "      <th></th>\n",
              "      <th>ds</th>\n",
              "      <th>yhat</th>\n",
              "      <th>yhat_lower</th>\n",
              "      <th>yhat_upper</th>\n",
              "    </tr>\n",
              "  </thead>\n",
              "  <tbody>\n",
              "    <tr>\n",
              "      <th>0</th>\n",
              "      <td>2020-01-23</td>\n",
              "      <td>10823.338076</td>\n",
              "      <td>-206432.953880</td>\n",
              "      <td>222761.271640</td>\n",
              "    </tr>\n",
              "    <tr>\n",
              "      <th>1</th>\n",
              "      <td>2020-01-24</td>\n",
              "      <td>21555.282366</td>\n",
              "      <td>-182294.847885</td>\n",
              "      <td>223843.348810</td>\n",
              "    </tr>\n",
              "    <tr>\n",
              "      <th>2</th>\n",
              "      <td>2020-01-25</td>\n",
              "      <td>14914.761952</td>\n",
              "      <td>-201547.755494</td>\n",
              "      <td>228735.639170</td>\n",
              "    </tr>\n",
              "    <tr>\n",
              "      <th>3</th>\n",
              "      <td>2020-01-26</td>\n",
              "      <td>-10125.708121</td>\n",
              "      <td>-223108.415935</td>\n",
              "      <td>200286.006115</td>\n",
              "    </tr>\n",
              "    <tr>\n",
              "      <th>4</th>\n",
              "      <td>2020-01-27</td>\n",
              "      <td>-17170.468643</td>\n",
              "      <td>-219289.109457</td>\n",
              "      <td>199317.485446</td>\n",
              "    </tr>\n",
              "  </tbody>\n",
              "</table>\n",
              "</div>"
            ],
            "text/plain": [
              "          ds          yhat     yhat_lower     yhat_upper\n",
              "0 2020-01-23  10823.338076 -206432.953880  222761.271640\n",
              "1 2020-01-24  21555.282366 -182294.847885  223843.348810\n",
              "2 2020-01-25  14914.761952 -201547.755494  228735.639170\n",
              "3 2020-01-26 -10125.708121 -223108.415935  200286.006115\n",
              "4 2020-01-27 -17170.468643 -219289.109457  199317.485446"
            ]
          },
          "metadata": {
            "tags": []
          },
          "execution_count": 72
        }
      ]
    },
    {
      "cell_type": "code",
      "metadata": {
        "colab": {
          "base_uri": "https://localhost:8080/",
          "height": 822
        },
        "id": "U7KejJOBFc-S",
        "outputId": "3245d7b4-11a9-441b-bcd1-bfbecc482d23"
      },
      "source": [
        "plt.figure(figsize=(20,20))\n",
        "plt.scatter(dfeu['ds'],dfeu['y'],s=5,c='k')\n",
        "plt.plot(forecast['ds'],forecast['yhat'])\n",
        "plt.plot(forecast['ds'],forecast['yhat_lower'])\n",
        "plt.plot(forecast['ds'],forecast['yhat_upper'])\n",
        "plt.show()"
      ],
      "execution_count": 73,
      "outputs": [
        {
          "output_type": "display_data",
          "data": {
            "image/png": "[encoded data removed]",
            "text/plain": [
              "<Figure size 1440x1440 with 1 Axes>"
            ]
          },
          "metadata": {
            "tags": [],
            "needs_background": "light"
          }
        }
      ]
    },
    {
      "cell_type": "code",
      "metadata": {
        "colab": {
          "base_uri": "https://localhost:8080/",
          "height": 835
        },
        "id": "hNgkDFR-FhNC",
        "outputId": "3d4be9ba-05e1-46a8-9695-2516ed9456d6"
      },
      "source": [
        "model.plot(forecast,figsize=(20,20));"
      ],
      "execution_count": 74,
      "outputs": [
        {
          "output_type": "display_data",
          "data": {
            "image/png": "[encoded data removed]",
            "text/plain": [
              "<Figure size 1440x1440 with 1 Axes>"
            ]
          },
          "metadata": {
            "tags": []
          }
        }
      ]
    },
    {
      "cell_type": "code",
      "metadata": {
        "id": "v9-I-B-SWtSr"
      },
      "source": [
        ""
      ],
      "execution_count": null,
      "outputs": []
    }
  ]
}
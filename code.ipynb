{
  "nbformat": 4,
  "nbformat_minor": 0,
  "metadata": {
    "colab": {
      "name": "DS-MAJOR-FEB-DS-02-BM2.ipynb",
      "provenance": [],
      "collapsed_sections": []
    },
    "kernelspec": {
      "name": "python3",
      "display_name": "Python 3"
    },
    "language_info": {
      "name": "python"
    }
  },
  "cells": [
    {
      "cell_type": "markdown",
      "metadata": {
        "id": "CL_81Wq5wHyb"
      },
      "source": [
        "Link to the downloaded covid data: https://drive.google.com/file/d/13DYafG8GYYcXa8U0Ywu7CvBgtsiND1J_/view?usp=sharing"
      ]
    },
    {
      "cell_type": "markdown",
      "metadata": {
        "id": "C_RMOlHChiTZ"
      },
      "source": [
        "# **PRE-PROCESSING**"
      ]
    },
    {
      "cell_type": "code",
      "metadata": {
        "id": "T0A4rax1zL2C"
      },
      "source": [
        "import pandas as pd\n",
        "import numpy as np\n",
        "import seaborn as sns\n",
        "import matplotlib.pyplot as plt"
      ],
      "execution_count": null,
      "outputs": []
    },
    {
      "cell_type": "code",
      "metadata": {
        "id": "icZFLej2zocH"
      },
      "source": [
        "data = pd.read_csv(r\"/content/drive/MyDrive/Data Science/covid.csv\")"
      ],
      "execution_count": null,
      "outputs": []
    },
    {
      "cell_type": "code",
      "metadata": {
        "colab": {
          "base_uri": "https://localhost:8080/",
          "height": 226
        },
        "id": "LHPvBz3oztsC",
        "outputId": "e7e30adf-69e9-45e2-dc35-efeb1816d777"
      },
      "source": [
        "data.head()"
      ],
      "execution_count": null,
      "outputs": [
        {
          "output_type": "execute_result",
          "data": {
            "text/html": [
              "<div>\n",
              "<style scoped>\n",
              "    .dataframe tbody tr th:only-of-type {\n",
              "        vertical-align: middle;\n",
              "    }\n",
              "\n",
              "    .dataframe tbody tr th {\n",
              "        vertical-align: top;\n",
              "    }\n",
              "\n",
              "    .dataframe thead th {\n",
              "        text-align: right;\n",
              "    }\n",
              "</style>\n",
              "<table border=\"1\" class=\"dataframe\">\n",
              "  <thead>\n",
              "    <tr style=\"text-align: right;\">\n",
              "      <th></th>\n",
              "      <th>iso_code</th>\n",
              "      <th>continent</th>\n",
              "      <th>location</th>\n",
              "      <th>date</th>\n",
              "      <th>total_cases</th>\n",
              "      <th>new_cases</th>\n",
              "      <th>new_cases_smoothed</th>\n",
              "      <th>total_deaths</th>\n",
              "      <th>new_deaths</th>\n",
              "      <th>new_deaths_smoothed</th>\n",
              "      <th>total_cases_per_million</th>\n",
              "      <th>new_cases_per_million</th>\n",
              "      <th>new_cases_smoothed_per_million</th>\n",
              "      <th>total_deaths_per_million</th>\n",
              "      <th>new_deaths_per_million</th>\n",
              "      <th>new_deaths_smoothed_per_million</th>\n",
              "      <th>reproduction_rate</th>\n",
              "      <th>icu_patients</th>\n",
              "      <th>icu_patients_per_million</th>\n",
              "      <th>hosp_patients</th>\n",
              "      <th>hosp_patients_per_million</th>\n",
              "      <th>weekly_icu_admissions</th>\n",
              "      <th>weekly_icu_admissions_per_million</th>\n",
              "      <th>weekly_hosp_admissions</th>\n",
              "      <th>weekly_hosp_admissions_per_million</th>\n",
              "      <th>new_tests</th>\n",
              "      <th>total_tests</th>\n",
              "      <th>total_tests_per_thousand</th>\n",
              "      <th>new_tests_per_thousand</th>\n",
              "      <th>new_tests_smoothed</th>\n",
              "      <th>new_tests_smoothed_per_thousand</th>\n",
              "      <th>positive_rate</th>\n",
              "      <th>tests_per_case</th>\n",
              "      <th>tests_units</th>\n",
              "      <th>total_vaccinations</th>\n",
              "      <th>people_vaccinated</th>\n",
              "      <th>people_fully_vaccinated</th>\n",
              "      <th>new_vaccinations</th>\n",
              "      <th>new_vaccinations_smoothed</th>\n",
              "      <th>total_vaccinations_per_hundred</th>\n",
              "      <th>people_vaccinated_per_hundred</th>\n",
              "      <th>people_fully_vaccinated_per_hundred</th>\n",
              "      <th>new_vaccinations_smoothed_per_million</th>\n",
              "      <th>stringency_index</th>\n",
              "      <th>population</th>\n",
              "      <th>population_density</th>\n",
              "      <th>median_age</th>\n",
              "      <th>aged_65_older</th>\n",
              "      <th>aged_70_older</th>\n",
              "      <th>gdp_per_capita</th>\n",
              "      <th>extreme_poverty</th>\n",
              "      <th>cardiovasc_death_rate</th>\n",
              "      <th>diabetes_prevalence</th>\n",
              "      <th>female_smokers</th>\n",
              "      <th>male_smokers</th>\n",
              "      <th>handwashing_facilities</th>\n",
              "      <th>hospital_beds_per_thousand</th>\n",
              "      <th>life_expectancy</th>\n",
              "      <th>human_development_index</th>\n",
              "    </tr>\n",
              "  </thead>\n",
              "  <tbody>\n",
              "    <tr>\n",
              "      <th>0</th>\n",
              "      <td>AFG</td>\n",
              "      <td>Asia</td>\n",
              "      <td>Afghanistan</td>\n",
              "      <td>2020-02-24</td>\n",
              "      <td>1.0</td>\n",
              "      <td>1.0</td>\n",
              "      <td>NaN</td>\n",
              "      <td>NaN</td>\n",
              "      <td>NaN</td>\n",
              "      <td>NaN</td>\n",
              "      <td>0.026</td>\n",
              "      <td>0.026</td>\n",
              "      <td>NaN</td>\n",
              "      <td>NaN</td>\n",
              "      <td>NaN</td>\n",
              "      <td>NaN</td>\n",
              "      <td>NaN</td>\n",
              "      <td>NaN</td>\n",
              "      <td>NaN</td>\n",
              "      <td>NaN</td>\n",
              "      <td>NaN</td>\n",
              "      <td>NaN</td>\n",
              "      <td>NaN</td>\n",
              "      <td>NaN</td>\n",
              "      <td>NaN</td>\n",
              "      <td>NaN</td>\n",
              "      <td>NaN</td>\n",
              "      <td>NaN</td>\n",
              "      <td>NaN</td>\n",
              "      <td>NaN</td>\n",
              "      <td>NaN</td>\n",
              "      <td>NaN</td>\n",
              "      <td>NaN</td>\n",
              "      <td>NaN</td>\n",
              "      <td>NaN</td>\n",
              "      <td>NaN</td>\n",
              "      <td>NaN</td>\n",
              "      <td>NaN</td>\n",
              "      <td>NaN</td>\n",
              "      <td>NaN</td>\n",
              "      <td>NaN</td>\n",
              "      <td>NaN</td>\n",
              "      <td>NaN</td>\n",
              "      <td>8.33</td>\n",
              "      <td>38928341.0</td>\n",
              "      <td>54.422</td>\n",
              "      <td>18.6</td>\n",
              "      <td>2.581</td>\n",
              "      <td>1.337</td>\n",
              "      <td>1803.987</td>\n",
              "      <td>NaN</td>\n",
              "      <td>597.029</td>\n",
              "      <td>9.59</td>\n",
              "      <td>NaN</td>\n",
              "      <td>NaN</td>\n",
              "      <td>37.746</td>\n",
              "      <td>0.5</td>\n",
              "      <td>64.83</td>\n",
              "      <td>0.511</td>\n",
              "    </tr>\n",
              "    <tr>\n",
              "      <th>1</th>\n",
              "      <td>AFG</td>\n",
              "      <td>Asia</td>\n",
              "      <td>Afghanistan</td>\n",
              "      <td>2020-02-25</td>\n",
              "      <td>1.0</td>\n",
              "      <td>0.0</td>\n",
              "      <td>NaN</td>\n",
              "      <td>NaN</td>\n",
              "      <td>NaN</td>\n",
              "      <td>NaN</td>\n",
              "      <td>0.026</td>\n",
              "      <td>0.000</td>\n",
              "      <td>NaN</td>\n",
              "      <td>NaN</td>\n",
              "      <td>NaN</td>\n",
              "      <td>NaN</td>\n",
              "      <td>NaN</td>\n",
              "      <td>NaN</td>\n",
              "      <td>NaN</td>\n",
              "      <td>NaN</td>\n",
              "      <td>NaN</td>\n",
              "      <td>NaN</td>\n",
              "      <td>NaN</td>\n",
              "      <td>NaN</td>\n",
              "      <td>NaN</td>\n",
              "      <td>NaN</td>\n",
              "      <td>NaN</td>\n",
              "      <td>NaN</td>\n",
              "      <td>NaN</td>\n",
              "      <td>NaN</td>\n",
              "      <td>NaN</td>\n",
              "      <td>NaN</td>\n",
              "      <td>NaN</td>\n",
              "      <td>NaN</td>\n",
              "      <td>NaN</td>\n",
              "      <td>NaN</td>\n",
              "      <td>NaN</td>\n",
              "      <td>NaN</td>\n",
              "      <td>NaN</td>\n",
              "      <td>NaN</td>\n",
              "      <td>NaN</td>\n",
              "      <td>NaN</td>\n",
              "      <td>NaN</td>\n",
              "      <td>8.33</td>\n",
              "      <td>38928341.0</td>\n",
              "      <td>54.422</td>\n",
              "      <td>18.6</td>\n",
              "      <td>2.581</td>\n",
              "      <td>1.337</td>\n",
              "      <td>1803.987</td>\n",
              "      <td>NaN</td>\n",
              "      <td>597.029</td>\n",
              "      <td>9.59</td>\n",
              "      <td>NaN</td>\n",
              "      <td>NaN</td>\n",
              "      <td>37.746</td>\n",
              "      <td>0.5</td>\n",
              "      <td>64.83</td>\n",
              "      <td>0.511</td>\n",
              "    </tr>\n",
              "    <tr>\n",
              "      <th>2</th>\n",
              "      <td>AFG</td>\n",
              "      <td>Asia</td>\n",
              "      <td>Afghanistan</td>\n",
              "      <td>2020-02-26</td>\n",
              "      <td>1.0</td>\n",
              "      <td>0.0</td>\n",
              "      <td>NaN</td>\n",
              "      <td>NaN</td>\n",
              "      <td>NaN</td>\n",
              "      <td>NaN</td>\n",
              "      <td>0.026</td>\n",
              "      <td>0.000</td>\n",
              "      <td>NaN</td>\n",
              "      <td>NaN</td>\n",
              "      <td>NaN</td>\n",
              "      <td>NaN</td>\n",
              "      <td>NaN</td>\n",
              "      <td>NaN</td>\n",
              "      <td>NaN</td>\n",
              "      <td>NaN</td>\n",
              "      <td>NaN</td>\n",
              "      <td>NaN</td>\n",
              "      <td>NaN</td>\n",
              "      <td>NaN</td>\n",
              "      <td>NaN</td>\n",
              "      <td>NaN</td>\n",
              "      <td>NaN</td>\n",
              "      <td>NaN</td>\n",
              "      <td>NaN</td>\n",
              "      <td>NaN</td>\n",
              "      <td>NaN</td>\n",
              "      <td>NaN</td>\n",
              "      <td>NaN</td>\n",
              "      <td>NaN</td>\n",
              "      <td>NaN</td>\n",
              "      <td>NaN</td>\n",
              "      <td>NaN</td>\n",
              "      <td>NaN</td>\n",
              "      <td>NaN</td>\n",
              "      <td>NaN</td>\n",
              "      <td>NaN</td>\n",
              "      <td>NaN</td>\n",
              "      <td>NaN</td>\n",
              "      <td>8.33</td>\n",
              "      <td>38928341.0</td>\n",
              "      <td>54.422</td>\n",
              "      <td>18.6</td>\n",
              "      <td>2.581</td>\n",
              "      <td>1.337</td>\n",
              "      <td>1803.987</td>\n",
              "      <td>NaN</td>\n",
              "      <td>597.029</td>\n",
              "      <td>9.59</td>\n",
              "      <td>NaN</td>\n",
              "      <td>NaN</td>\n",
              "      <td>37.746</td>\n",
              "      <td>0.5</td>\n",
              "      <td>64.83</td>\n",
              "      <td>0.511</td>\n",
              "    </tr>\n",
              "    <tr>\n",
              "      <th>3</th>\n",
              "      <td>AFG</td>\n",
              "      <td>Asia</td>\n",
              "      <td>Afghanistan</td>\n",
              "      <td>2020-02-27</td>\n",
              "      <td>1.0</td>\n",
              "      <td>0.0</td>\n",
              "      <td>NaN</td>\n",
              "      <td>NaN</td>\n",
              "      <td>NaN</td>\n",
              "      <td>NaN</td>\n",
              "      <td>0.026</td>\n",
              "      <td>0.000</td>\n",
              "      <td>NaN</td>\n",
              "      <td>NaN</td>\n",
              "      <td>NaN</td>\n",
              "      <td>NaN</td>\n",
              "      <td>NaN</td>\n",
              "      <td>NaN</td>\n",
              "      <td>NaN</td>\n",
              "      <td>NaN</td>\n",
              "      <td>NaN</td>\n",
              "      <td>NaN</td>\n",
              "      <td>NaN</td>\n",
              "      <td>NaN</td>\n",
              "      <td>NaN</td>\n",
              "      <td>NaN</td>\n",
              "      <td>NaN</td>\n",
              "      <td>NaN</td>\n",
              "      <td>NaN</td>\n",
              "      <td>NaN</td>\n",
              "      <td>NaN</td>\n",
              "      <td>NaN</td>\n",
              "      <td>NaN</td>\n",
              "      <td>NaN</td>\n",
              "      <td>NaN</td>\n",
              "      <td>NaN</td>\n",
              "      <td>NaN</td>\n",
              "      <td>NaN</td>\n",
              "      <td>NaN</td>\n",
              "      <td>NaN</td>\n",
              "      <td>NaN</td>\n",
              "      <td>NaN</td>\n",
              "      <td>NaN</td>\n",
              "      <td>8.33</td>\n",
              "      <td>38928341.0</td>\n",
              "      <td>54.422</td>\n",
              "      <td>18.6</td>\n",
              "      <td>2.581</td>\n",
              "      <td>1.337</td>\n",
              "      <td>1803.987</td>\n",
              "      <td>NaN</td>\n",
              "      <td>597.029</td>\n",
              "      <td>9.59</td>\n",
              "      <td>NaN</td>\n",
              "      <td>NaN</td>\n",
              "      <td>37.746</td>\n",
              "      <td>0.5</td>\n",
              "      <td>64.83</td>\n",
              "      <td>0.511</td>\n",
              "    </tr>\n",
              "    <tr>\n",
              "      <th>4</th>\n",
              "      <td>AFG</td>\n",
              "      <td>Asia</td>\n",
              "      <td>Afghanistan</td>\n",
              "      <td>2020-02-28</td>\n",
              "      <td>1.0</td>\n",
              "      <td>0.0</td>\n",
              "      <td>NaN</td>\n",
              "      <td>NaN</td>\n",
              "      <td>NaN</td>\n",
              "      <td>NaN</td>\n",
              "      <td>0.026</td>\n",
              "      <td>0.000</td>\n",
              "      <td>NaN</td>\n",
              "      <td>NaN</td>\n",
              "      <td>NaN</td>\n",
              "      <td>NaN</td>\n",
              "      <td>NaN</td>\n",
              "      <td>NaN</td>\n",
              "      <td>NaN</td>\n",
              "      <td>NaN</td>\n",
              "      <td>NaN</td>\n",
              "      <td>NaN</td>\n",
              "      <td>NaN</td>\n",
              "      <td>NaN</td>\n",
              "      <td>NaN</td>\n",
              "      <td>NaN</td>\n",
              "      <td>NaN</td>\n",
              "      <td>NaN</td>\n",
              "      <td>NaN</td>\n",
              "      <td>NaN</td>\n",
              "      <td>NaN</td>\n",
              "      <td>NaN</td>\n",
              "      <td>NaN</td>\n",
              "      <td>NaN</td>\n",
              "      <td>NaN</td>\n",
              "      <td>NaN</td>\n",
              "      <td>NaN</td>\n",
              "      <td>NaN</td>\n",
              "      <td>NaN</td>\n",
              "      <td>NaN</td>\n",
              "      <td>NaN</td>\n",
              "      <td>NaN</td>\n",
              "      <td>NaN</td>\n",
              "      <td>8.33</td>\n",
              "      <td>38928341.0</td>\n",
              "      <td>54.422</td>\n",
              "      <td>18.6</td>\n",
              "      <td>2.581</td>\n",
              "      <td>1.337</td>\n",
              "      <td>1803.987</td>\n",
              "      <td>NaN</td>\n",
              "      <td>597.029</td>\n",
              "      <td>9.59</td>\n",
              "      <td>NaN</td>\n",
              "      <td>NaN</td>\n",
              "      <td>37.746</td>\n",
              "      <td>0.5</td>\n",
              "      <td>64.83</td>\n",
              "      <td>0.511</td>\n",
              "    </tr>\n",
              "  </tbody>\n",
              "</table>\n",
              "</div>"
            ],
            "text/plain": [
              "  iso_code continent  ... life_expectancy human_development_index\n",
              "0      AFG      Asia  ...           64.83                   0.511\n",
              "1      AFG      Asia  ...           64.83                   0.511\n",
              "2      AFG      Asia  ...           64.83                   0.511\n",
              "3      AFG      Asia  ...           64.83                   0.511\n",
              "4      AFG      Asia  ...           64.83                   0.511\n",
              "\n",
              "[5 rows x 59 columns]"
            ]
          },
          "metadata": {
            "tags": []
          },
          "execution_count": 3
        }
      ]
    },
    {
      "cell_type": "code",
      "metadata": {
        "colab": {
          "base_uri": "https://localhost:8080/"
        },
        "id": "psZplC8qdlPH",
        "outputId": "d10dbf63-76d3-4857-e526-3dd5face9c81"
      },
      "source": [
        "data.info()"
      ],
      "execution_count": null,
      "outputs": [
        {
          "output_type": "stream",
          "text": [
            "<class 'pandas.core.frame.DataFrame'>\n",
            "RangeIndex: 79277 entries, 0 to 79276\n",
            "Data columns (total 59 columns):\n",
            " #   Column                                 Non-Null Count  Dtype  \n",
            "---  ------                                 --------------  -----  \n",
            " 0   iso_code                               79277 non-null  object \n",
            " 1   continent                              75409 non-null  object \n",
            " 2   location                               79277 non-null  object \n",
            " 3   date                                   79277 non-null  object \n",
            " 4   total_cases                            77699 non-null  float64\n",
            " 5   new_cases                              77697 non-null  float64\n",
            " 6   new_cases_smoothed                     76696 non-null  float64\n",
            " 7   total_deaths                           68270 non-null  float64\n",
            " 8   new_deaths                             68428 non-null  float64\n",
            " 9   new_deaths_smoothed                    76696 non-null  float64\n",
            " 10  total_cases_per_million                77277 non-null  float64\n",
            " 11  new_cases_per_million                  77275 non-null  float64\n",
            " 12  new_cases_smoothed_per_million         76279 non-null  float64\n",
            " 13  total_deaths_per_million               67861 non-null  float64\n",
            " 14  new_deaths_per_million                 68019 non-null  float64\n",
            " 15  new_deaths_smoothed_per_million        76279 non-null  float64\n",
            " 16  reproduction_rate                      63846 non-null  float64\n",
            " 17  icu_patients                           8303 non-null   float64\n",
            " 18  icu_patients_per_million               8303 non-null   float64\n",
            " 19  hosp_patients                          9944 non-null   float64\n",
            " 20  hosp_patients_per_million              9944 non-null   float64\n",
            " 21  weekly_icu_admissions                  726 non-null    float64\n",
            " 22  weekly_icu_admissions_per_million      726 non-null    float64\n",
            " 23  weekly_hosp_admissions                 1335 non-null   float64\n",
            " 24  weekly_hosp_admissions_per_million     1335 non-null   float64\n",
            " 25  new_tests                              36040 non-null  float64\n",
            " 26  total_tests                            35788 non-null  float64\n",
            " 27  total_tests_per_thousand               35788 non-null  float64\n",
            " 28  new_tests_per_thousand                 36040 non-null  float64\n",
            " 29  new_tests_smoothed                     41242 non-null  float64\n",
            " 30  new_tests_smoothed_per_thousand        41242 non-null  float64\n",
            " 31  positive_rate                          39916 non-null  float64\n",
            " 32  tests_per_case                         39362 non-null  float64\n",
            " 33  tests_units                            42606 non-null  object \n",
            " 34  total_vaccinations                     6182 non-null   float64\n",
            " 35  people_vaccinated                      5577 non-null   float64\n",
            " 36  people_fully_vaccinated                3889 non-null   float64\n",
            " 37  new_vaccinations                       5229 non-null   float64\n",
            " 38  new_vaccinations_smoothed              9722 non-null   float64\n",
            " 39  total_vaccinations_per_hundred         6182 non-null   float64\n",
            " 40  people_vaccinated_per_hundred          5577 non-null   float64\n",
            " 41  people_fully_vaccinated_per_hundred    3889 non-null   float64\n",
            " 42  new_vaccinations_smoothed_per_million  9722 non-null   float64\n",
            " 43  stringency_index                       67339 non-null  float64\n",
            " 44  population                             78784 non-null  float64\n",
            " 45  population_density                     73896 non-null  float64\n",
            " 46  median_age                             71693 non-null  float64\n",
            " 47  aged_65_older                          70871 non-null  float64\n",
            " 48  aged_70_older                          71290 non-null  float64\n",
            " 49  gdp_per_capita                         71972 non-null  float64\n",
            " 50  extreme_poverty                        49082 non-null  float64\n",
            " 51  cardiovasc_death_rate                  72569 non-null  float64\n",
            " 52  diabetes_prevalence                    73531 non-null  float64\n",
            " 53  female_smokers                         56978 non-null  float64\n",
            " 54  male_smokers                           56142 non-null  float64\n",
            " 55  handwashing_facilities                 36442 non-null  float64\n",
            " 56  hospital_beds_per_thousand             66349 non-null  float64\n",
            " 57  life_expectancy                        75261 non-null  float64\n",
            " 58  human_development_index                72515 non-null  float64\n",
            "dtypes: float64(54), object(5)\n",
            "memory usage: 35.7+ MB\n"
          ],
          "name": "stdout"
        }
      ]
    },
    {
      "cell_type": "code",
      "metadata": {
        "colab": {
          "base_uri": "https://localhost:8080/"
        },
        "id": "66yoN-WcddJj",
        "outputId": "629ceb21-87ca-46c1-f285-4e3745ad253f"
      },
      "source": [
        "data.isnull().sum()"
      ],
      "execution_count": null,
      "outputs": [
        {
          "output_type": "execute_result",
          "data": {
            "text/plain": [
              "iso_code                                     0\n",
              "continent                                 3868\n",
              "location                                     0\n",
              "date                                         0\n",
              "total_cases                               1578\n",
              "new_cases                                 1580\n",
              "new_cases_smoothed                        2581\n",
              "total_deaths                             11007\n",
              "new_deaths                               10849\n",
              "new_deaths_smoothed                       2581\n",
              "total_cases_per_million                   2000\n",
              "new_cases_per_million                     2002\n",
              "new_cases_smoothed_per_million            2998\n",
              "total_deaths_per_million                 11416\n",
              "new_deaths_per_million                   11258\n",
              "new_deaths_smoothed_per_million           2998\n",
              "reproduction_rate                        15431\n",
              "icu_patients                             70974\n",
              "icu_patients_per_million                 70974\n",
              "hosp_patients                            69333\n",
              "hosp_patients_per_million                69333\n",
              "weekly_icu_admissions                    78551\n",
              "weekly_icu_admissions_per_million        78551\n",
              "weekly_hosp_admissions                   77942\n",
              "weekly_hosp_admissions_per_million       77942\n",
              "new_tests                                43237\n",
              "total_tests                              43489\n",
              "total_tests_per_thousand                 43489\n",
              "new_tests_per_thousand                   43237\n",
              "new_tests_smoothed                       38035\n",
              "new_tests_smoothed_per_thousand          38035\n",
              "positive_rate                            39361\n",
              "tests_per_case                           39915\n",
              "tests_units                              36671\n",
              "total_vaccinations                       73095\n",
              "people_vaccinated                        73700\n",
              "people_fully_vaccinated                  75388\n",
              "new_vaccinations                         74048\n",
              "new_vaccinations_smoothed                69555\n",
              "total_vaccinations_per_hundred           73095\n",
              "people_vaccinated_per_hundred            73700\n",
              "people_fully_vaccinated_per_hundred      75388\n",
              "new_vaccinations_smoothed_per_million    69555\n",
              "stringency_index                         11938\n",
              "population                                 493\n",
              "population_density                        5381\n",
              "median_age                                7584\n",
              "aged_65_older                             8406\n",
              "aged_70_older                             7987\n",
              "gdp_per_capita                            7305\n",
              "extreme_poverty                          30195\n",
              "cardiovasc_death_rate                     6708\n",
              "diabetes_prevalence                       5746\n",
              "female_smokers                           22299\n",
              "male_smokers                             23135\n",
              "handwashing_facilities                   42835\n",
              "hospital_beds_per_thousand               12928\n",
              "life_expectancy                           4016\n",
              "human_development_index                   6762\n",
              "dtype: int64"
            ]
          },
          "metadata": {
            "tags": []
          },
          "execution_count": 5
        }
      ]
    },
    {
      "cell_type": "code",
      "metadata": {
        "id": "LcnReQsodudQ"
      },
      "source": [
        "data.fillna(0, inplace=True)"
      ],
      "execution_count": null,
      "outputs": []
    },
    {
      "cell_type": "code",
      "metadata": {
        "colab": {
          "base_uri": "https://localhost:8080/"
        },
        "id": "LpRke5ClzxDU",
        "outputId": "cd1841bd-a74e-4af0-ee70-eb6ebf39cc92"
      },
      "source": [
        "data.columns"
      ],
      "execution_count": null,
      "outputs": [
        {
          "output_type": "execute_result",
          "data": {
            "text/plain": [
              "Index(['iso_code', 'continent', 'location', 'date', 'total_cases', 'new_cases',\n",
              "       'new_cases_smoothed', 'total_deaths', 'new_deaths',\n",
              "       'new_deaths_smoothed', 'total_cases_per_million',\n",
              "       'new_cases_per_million', 'new_cases_smoothed_per_million',\n",
              "       'total_deaths_per_million', 'new_deaths_per_million',\n",
              "       'new_deaths_smoothed_per_million', 'reproduction_rate', 'icu_patients',\n",
              "       'icu_patients_per_million', 'hosp_patients',\n",
              "       'hosp_patients_per_million', 'weekly_icu_admissions',\n",
              "       'weekly_icu_admissions_per_million', 'weekly_hosp_admissions',\n",
              "       'weekly_hosp_admissions_per_million', 'new_tests', 'total_tests',\n",
              "       'total_tests_per_thousand', 'new_tests_per_thousand',\n",
              "       'new_tests_smoothed', 'new_tests_smoothed_per_thousand',\n",
              "       'positive_rate', 'tests_per_case', 'tests_units', 'total_vaccinations',\n",
              "       'people_vaccinated', 'people_fully_vaccinated', 'new_vaccinations',\n",
              "       'new_vaccinations_smoothed', 'total_vaccinations_per_hundred',\n",
              "       'people_vaccinated_per_hundred', 'people_fully_vaccinated_per_hundred',\n",
              "       'new_vaccinations_smoothed_per_million', 'stringency_index',\n",
              "       'population', 'population_density', 'median_age', 'aged_65_older',\n",
              "       'aged_70_older', 'gdp_per_capita', 'extreme_poverty',\n",
              "       'cardiovasc_death_rate', 'diabetes_prevalence', 'female_smokers',\n",
              "       'male_smokers', 'handwashing_facilities', 'hospital_beds_per_thousand',\n",
              "       'life_expectancy', 'human_development_index'],\n",
              "      dtype='object')"
            ]
          },
          "metadata": {
            "tags": []
          },
          "execution_count": 7
        }
      ]
    },
    {
      "cell_type": "code",
      "metadata": {
        "colab": {
          "base_uri": "https://localhost:8080/",
          "height": 278
        },
        "id": "mlo0BoETzzMV",
        "outputId": "6c7aa6c9-9533-4e28-c5e2-8d29f08d64a2"
      },
      "source": [
        "  data.tail()"
      ],
      "execution_count": null,
      "outputs": [
        {
          "output_type": "execute_result",
          "data": {
            "text/html": [
              "<div>\n",
              "<style scoped>\n",
              "    .dataframe tbody tr th:only-of-type {\n",
              "        vertical-align: middle;\n",
              "    }\n",
              "\n",
              "    .dataframe tbody tr th {\n",
              "        vertical-align: top;\n",
              "    }\n",
              "\n",
              "    .dataframe thead th {\n",
              "        text-align: right;\n",
              "    }\n",
              "</style>\n",
              "<table border=\"1\" class=\"dataframe\">\n",
              "  <thead>\n",
              "    <tr style=\"text-align: right;\">\n",
              "      <th></th>\n",
              "      <th>iso_code</th>\n",
              "      <th>continent</th>\n",
              "      <th>location</th>\n",
              "      <th>date</th>\n",
              "      <th>total_cases</th>\n",
              "      <th>new_cases</th>\n",
              "      <th>new_cases_smoothed</th>\n",
              "      <th>total_deaths</th>\n",
              "      <th>new_deaths</th>\n",
              "      <th>new_deaths_smoothed</th>\n",
              "      <th>total_cases_per_million</th>\n",
              "      <th>new_cases_per_million</th>\n",
              "      <th>new_cases_smoothed_per_million</th>\n",
              "      <th>total_deaths_per_million</th>\n",
              "      <th>new_deaths_per_million</th>\n",
              "      <th>new_deaths_smoothed_per_million</th>\n",
              "      <th>reproduction_rate</th>\n",
              "      <th>icu_patients</th>\n",
              "      <th>icu_patients_per_million</th>\n",
              "      <th>hosp_patients</th>\n",
              "      <th>hosp_patients_per_million</th>\n",
              "      <th>weekly_icu_admissions</th>\n",
              "      <th>weekly_icu_admissions_per_million</th>\n",
              "      <th>weekly_hosp_admissions</th>\n",
              "      <th>weekly_hosp_admissions_per_million</th>\n",
              "      <th>new_tests</th>\n",
              "      <th>total_tests</th>\n",
              "      <th>total_tests_per_thousand</th>\n",
              "      <th>new_tests_per_thousand</th>\n",
              "      <th>new_tests_smoothed</th>\n",
              "      <th>new_tests_smoothed_per_thousand</th>\n",
              "      <th>positive_rate</th>\n",
              "      <th>tests_per_case</th>\n",
              "      <th>tests_units</th>\n",
              "      <th>total_vaccinations</th>\n",
              "      <th>people_vaccinated</th>\n",
              "      <th>people_fully_vaccinated</th>\n",
              "      <th>new_vaccinations</th>\n",
              "      <th>new_vaccinations_smoothed</th>\n",
              "      <th>total_vaccinations_per_hundred</th>\n",
              "      <th>people_vaccinated_per_hundred</th>\n",
              "      <th>people_fully_vaccinated_per_hundred</th>\n",
              "      <th>new_vaccinations_smoothed_per_million</th>\n",
              "      <th>stringency_index</th>\n",
              "      <th>population</th>\n",
              "      <th>population_density</th>\n",
              "      <th>median_age</th>\n",
              "      <th>aged_65_older</th>\n",
              "      <th>aged_70_older</th>\n",
              "      <th>gdp_per_capita</th>\n",
              "      <th>extreme_poverty</th>\n",
              "      <th>cardiovasc_death_rate</th>\n",
              "      <th>diabetes_prevalence</th>\n",
              "      <th>female_smokers</th>\n",
              "      <th>male_smokers</th>\n",
              "      <th>handwashing_facilities</th>\n",
              "      <th>hospital_beds_per_thousand</th>\n",
              "      <th>life_expectancy</th>\n",
              "      <th>human_development_index</th>\n",
              "    </tr>\n",
              "  </thead>\n",
              "  <tbody>\n",
              "    <tr>\n",
              "      <th>79272</th>\n",
              "      <td>ZWE</td>\n",
              "      <td>Africa</td>\n",
              "      <td>Zimbabwe</td>\n",
              "      <td>2021-03-30</td>\n",
              "      <td>36839.0</td>\n",
              "      <td>0.0</td>\n",
              "      <td>17.429</td>\n",
              "      <td>1520.0</td>\n",
              "      <td>0.0</td>\n",
              "      <td>0.571</td>\n",
              "      <td>2478.583</td>\n",
              "      <td>0.000</td>\n",
              "      <td>1.173</td>\n",
              "      <td>102.268</td>\n",
              "      <td>0.000</td>\n",
              "      <td>0.038</td>\n",
              "      <td>0.80</td>\n",
              "      <td>0.0</td>\n",
              "      <td>0.0</td>\n",
              "      <td>0.0</td>\n",
              "      <td>0.0</td>\n",
              "      <td>0.0</td>\n",
              "      <td>0.0</td>\n",
              "      <td>0.0</td>\n",
              "      <td>0.0</td>\n",
              "      <td>2675.0</td>\n",
              "      <td>435853.0</td>\n",
              "      <td>29.325</td>\n",
              "      <td>0.180</td>\n",
              "      <td>2248.0</td>\n",
              "      <td>0.151</td>\n",
              "      <td>0.008</td>\n",
              "      <td>129.0</td>\n",
              "      <td>tests performed</td>\n",
              "      <td>85866.0</td>\n",
              "      <td>72944.0</td>\n",
              "      <td>12922.0</td>\n",
              "      <td>4256.0</td>\n",
              "      <td>5810.0</td>\n",
              "      <td>0.58</td>\n",
              "      <td>0.49</td>\n",
              "      <td>0.09</td>\n",
              "      <td>391.0</td>\n",
              "      <td>0.0</td>\n",
              "      <td>14862927.0</td>\n",
              "      <td>42.729</td>\n",
              "      <td>19.6</td>\n",
              "      <td>2.822</td>\n",
              "      <td>1.882</td>\n",
              "      <td>1899.775</td>\n",
              "      <td>21.4</td>\n",
              "      <td>307.846</td>\n",
              "      <td>1.82</td>\n",
              "      <td>1.6</td>\n",
              "      <td>30.7</td>\n",
              "      <td>36.791</td>\n",
              "      <td>1.7</td>\n",
              "      <td>61.49</td>\n",
              "      <td>0.571</td>\n",
              "    </tr>\n",
              "    <tr>\n",
              "      <th>79273</th>\n",
              "      <td>ZWE</td>\n",
              "      <td>Africa</td>\n",
              "      <td>Zimbabwe</td>\n",
              "      <td>2021-03-31</td>\n",
              "      <td>36882.0</td>\n",
              "      <td>43.0</td>\n",
              "      <td>19.000</td>\n",
              "      <td>1523.0</td>\n",
              "      <td>3.0</td>\n",
              "      <td>1.000</td>\n",
              "      <td>2481.476</td>\n",
              "      <td>2.893</td>\n",
              "      <td>1.278</td>\n",
              "      <td>102.470</td>\n",
              "      <td>0.202</td>\n",
              "      <td>0.067</td>\n",
              "      <td>0.81</td>\n",
              "      <td>0.0</td>\n",
              "      <td>0.0</td>\n",
              "      <td>0.0</td>\n",
              "      <td>0.0</td>\n",
              "      <td>0.0</td>\n",
              "      <td>0.0</td>\n",
              "      <td>0.0</td>\n",
              "      <td>0.0</td>\n",
              "      <td>1440.0</td>\n",
              "      <td>437293.0</td>\n",
              "      <td>29.422</td>\n",
              "      <td>0.097</td>\n",
              "      <td>1951.0</td>\n",
              "      <td>0.131</td>\n",
              "      <td>0.010</td>\n",
              "      <td>102.7</td>\n",
              "      <td>tests performed</td>\n",
              "      <td>91880.0</td>\n",
              "      <td>76995.0</td>\n",
              "      <td>14885.0</td>\n",
              "      <td>6014.0</td>\n",
              "      <td>5712.0</td>\n",
              "      <td>0.62</td>\n",
              "      <td>0.52</td>\n",
              "      <td>0.10</td>\n",
              "      <td>384.0</td>\n",
              "      <td>0.0</td>\n",
              "      <td>14862927.0</td>\n",
              "      <td>42.729</td>\n",
              "      <td>19.6</td>\n",
              "      <td>2.822</td>\n",
              "      <td>1.882</td>\n",
              "      <td>1899.775</td>\n",
              "      <td>21.4</td>\n",
              "      <td>307.846</td>\n",
              "      <td>1.82</td>\n",
              "      <td>1.6</td>\n",
              "      <td>30.7</td>\n",
              "      <td>36.791</td>\n",
              "      <td>1.7</td>\n",
              "      <td>61.49</td>\n",
              "      <td>0.571</td>\n",
              "    </tr>\n",
              "    <tr>\n",
              "      <th>79274</th>\n",
              "      <td>ZWE</td>\n",
              "      <td>Africa</td>\n",
              "      <td>Zimbabwe</td>\n",
              "      <td>2021-04-01</td>\n",
              "      <td>36896.0</td>\n",
              "      <td>14.0</td>\n",
              "      <td>16.857</td>\n",
              "      <td>1523.0</td>\n",
              "      <td>0.0</td>\n",
              "      <td>0.714</td>\n",
              "      <td>2482.418</td>\n",
              "      <td>0.942</td>\n",
              "      <td>1.134</td>\n",
              "      <td>102.470</td>\n",
              "      <td>0.000</td>\n",
              "      <td>0.048</td>\n",
              "      <td>0.81</td>\n",
              "      <td>0.0</td>\n",
              "      <td>0.0</td>\n",
              "      <td>0.0</td>\n",
              "      <td>0.0</td>\n",
              "      <td>0.0</td>\n",
              "      <td>0.0</td>\n",
              "      <td>0.0</td>\n",
              "      <td>0.0</td>\n",
              "      <td>2337.0</td>\n",
              "      <td>439630.0</td>\n",
              "      <td>29.579</td>\n",
              "      <td>0.157</td>\n",
              "      <td>2012.0</td>\n",
              "      <td>0.135</td>\n",
              "      <td>0.008</td>\n",
              "      <td>119.4</td>\n",
              "      <td>tests performed</td>\n",
              "      <td>105307.0</td>\n",
              "      <td>87791.0</td>\n",
              "      <td>17516.0</td>\n",
              "      <td>13427.0</td>\n",
              "      <td>6617.0</td>\n",
              "      <td>0.71</td>\n",
              "      <td>0.59</td>\n",
              "      <td>0.12</td>\n",
              "      <td>445.0</td>\n",
              "      <td>0.0</td>\n",
              "      <td>14862927.0</td>\n",
              "      <td>42.729</td>\n",
              "      <td>19.6</td>\n",
              "      <td>2.822</td>\n",
              "      <td>1.882</td>\n",
              "      <td>1899.775</td>\n",
              "      <td>21.4</td>\n",
              "      <td>307.846</td>\n",
              "      <td>1.82</td>\n",
              "      <td>1.6</td>\n",
              "      <td>30.7</td>\n",
              "      <td>36.791</td>\n",
              "      <td>1.7</td>\n",
              "      <td>61.49</td>\n",
              "      <td>0.571</td>\n",
              "    </tr>\n",
              "    <tr>\n",
              "      <th>79275</th>\n",
              "      <td>ZWE</td>\n",
              "      <td>Africa</td>\n",
              "      <td>Zimbabwe</td>\n",
              "      <td>2021-04-02</td>\n",
              "      <td>36903.0</td>\n",
              "      <td>7.0</td>\n",
              "      <td>14.000</td>\n",
              "      <td>1524.0</td>\n",
              "      <td>1.0</td>\n",
              "      <td>0.857</td>\n",
              "      <td>2482.889</td>\n",
              "      <td>0.471</td>\n",
              "      <td>0.942</td>\n",
              "      <td>102.537</td>\n",
              "      <td>0.067</td>\n",
              "      <td>0.058</td>\n",
              "      <td>0.00</td>\n",
              "      <td>0.0</td>\n",
              "      <td>0.0</td>\n",
              "      <td>0.0</td>\n",
              "      <td>0.0</td>\n",
              "      <td>0.0</td>\n",
              "      <td>0.0</td>\n",
              "      <td>0.0</td>\n",
              "      <td>0.0</td>\n",
              "      <td>0.0</td>\n",
              "      <td>0.0</td>\n",
              "      <td>0.000</td>\n",
              "      <td>0.000</td>\n",
              "      <td>0.0</td>\n",
              "      <td>0.000</td>\n",
              "      <td>0.000</td>\n",
              "      <td>0.0</td>\n",
              "      <td>0</td>\n",
              "      <td>124753.0</td>\n",
              "      <td>103815.0</td>\n",
              "      <td>20938.0</td>\n",
              "      <td>19446.0</td>\n",
              "      <td>8156.0</td>\n",
              "      <td>0.84</td>\n",
              "      <td>0.70</td>\n",
              "      <td>0.14</td>\n",
              "      <td>549.0</td>\n",
              "      <td>0.0</td>\n",
              "      <td>14862927.0</td>\n",
              "      <td>42.729</td>\n",
              "      <td>19.6</td>\n",
              "      <td>2.822</td>\n",
              "      <td>1.882</td>\n",
              "      <td>1899.775</td>\n",
              "      <td>21.4</td>\n",
              "      <td>307.846</td>\n",
              "      <td>1.82</td>\n",
              "      <td>1.6</td>\n",
              "      <td>30.7</td>\n",
              "      <td>36.791</td>\n",
              "      <td>1.7</td>\n",
              "      <td>61.49</td>\n",
              "      <td>0.571</td>\n",
              "    </tr>\n",
              "    <tr>\n",
              "      <th>79276</th>\n",
              "      <td>ZWE</td>\n",
              "      <td>Africa</td>\n",
              "      <td>Zimbabwe</td>\n",
              "      <td>2021-04-03</td>\n",
              "      <td>36911.0</td>\n",
              "      <td>8.0</td>\n",
              "      <td>13.286</td>\n",
              "      <td>1524.0</td>\n",
              "      <td>0.0</td>\n",
              "      <td>0.714</td>\n",
              "      <td>2483.427</td>\n",
              "      <td>0.538</td>\n",
              "      <td>0.894</td>\n",
              "      <td>102.537</td>\n",
              "      <td>0.000</td>\n",
              "      <td>0.048</td>\n",
              "      <td>0.00</td>\n",
              "      <td>0.0</td>\n",
              "      <td>0.0</td>\n",
              "      <td>0.0</td>\n",
              "      <td>0.0</td>\n",
              "      <td>0.0</td>\n",
              "      <td>0.0</td>\n",
              "      <td>0.0</td>\n",
              "      <td>0.0</td>\n",
              "      <td>0.0</td>\n",
              "      <td>0.0</td>\n",
              "      <td>0.000</td>\n",
              "      <td>0.000</td>\n",
              "      <td>0.0</td>\n",
              "      <td>0.000</td>\n",
              "      <td>0.000</td>\n",
              "      <td>0.0</td>\n",
              "      <td>0</td>\n",
              "      <td>0.0</td>\n",
              "      <td>0.0</td>\n",
              "      <td>0.0</td>\n",
              "      <td>0.0</td>\n",
              "      <td>0.0</td>\n",
              "      <td>0.00</td>\n",
              "      <td>0.00</td>\n",
              "      <td>0.00</td>\n",
              "      <td>0.0</td>\n",
              "      <td>0.0</td>\n",
              "      <td>14862927.0</td>\n",
              "      <td>42.729</td>\n",
              "      <td>19.6</td>\n",
              "      <td>2.822</td>\n",
              "      <td>1.882</td>\n",
              "      <td>1899.775</td>\n",
              "      <td>21.4</td>\n",
              "      <td>307.846</td>\n",
              "      <td>1.82</td>\n",
              "      <td>1.6</td>\n",
              "      <td>30.7</td>\n",
              "      <td>36.791</td>\n",
              "      <td>1.7</td>\n",
              "      <td>61.49</td>\n",
              "      <td>0.571</td>\n",
              "    </tr>\n",
              "  </tbody>\n",
              "</table>\n",
              "</div>"
            ],
            "text/plain": [
              "      iso_code continent  ... life_expectancy human_development_index\n",
              "79272      ZWE    Africa  ...           61.49                   0.571\n",
              "79273      ZWE    Africa  ...           61.49                   0.571\n",
              "79274      ZWE    Africa  ...           61.49                   0.571\n",
              "79275      ZWE    Africa  ...           61.49                   0.571\n",
              "79276      ZWE    Africa  ...           61.49                   0.571\n",
              "\n",
              "[5 rows x 59 columns]"
            ]
          },
          "metadata": {
            "tags": []
          },
          "execution_count": 8
        }
      ]
    },
    {
      "cell_type": "code",
      "metadata": {
        "colab": {
          "base_uri": "https://localhost:8080/",
          "height": 444
        },
        "id": "qC0fxcG8z-AW",
        "outputId": "618ba551-37fc-4a46-ac92-199fc65f8cb4"
      },
      "source": [
        "to_drop = ['iso_code',\n",
        "           'new_cases_smoothed',\n",
        "           'new_deaths_smoothed',\n",
        "           'new_cases_per_million', \n",
        "           'new_cases_smoothed_per_million',\n",
        "           'new_deaths_smoothed_per_million',\n",
        "           'reproduction_rate',\n",
        "           'icu_patients',\n",
        "           'icu_patients_per_million',\n",
        "           'hosp_patients_per_million', \n",
        "           'weekly_icu_admissions',\n",
        "           'weekly_icu_admissions_per_million',\n",
        "           'weekly_hosp_admissions',\n",
        "           'weekly_hosp_admissions_per_million',\n",
        "           'total_tests_per_thousand',\n",
        "           'new_tests_per_thousand',\n",
        "           'new_tests_smoothed',\n",
        "           'new_tests_smoothed_per_thousand',\n",
        "           'positive_rate',\n",
        "           'tests_per_case',\n",
        "           'tests_units',\n",
        "           'people_fully_vaccinated', \n",
        "           'new_vaccinations_smoothed',\n",
        "           'total_vaccinations_per_hundred',\n",
        "           'people_vaccinated_per_hundred',\n",
        "           'people_fully_vaccinated_per_hundred',\n",
        "           'new_vaccinations_smoothed_per_million',\n",
        "           'stringency_index',\n",
        "           'population_density',\n",
        "           'median_age',\n",
        "           'aged_65_older',\n",
        "           'aged_70_older',\n",
        "           'gdp_per_capita',\n",
        "           'extreme_poverty',\n",
        "           'cardiovasc_death_rate',\n",
        "           'diabetes_prevalence',\n",
        "           'female_smokers',\n",
        "           'male_smokers',\n",
        "           'handwashing_facilities',\n",
        "           'hospital_beds_per_thousand',\n",
        "           'life_expectancy',\n",
        "           'hosp_patients',\n",
        "           'human_development_index']\n",
        "data.drop(to_drop, inplace=True, axis=1)"
      ],
      "execution_count": null,
      "outputs": [
        {
          "output_type": "execute_result",
          "data": {
            "text/html": [
              "<div>\n",
              "<style scoped>\n",
              "    .dataframe tbody tr th:only-of-type {\n",
              "        vertical-align: middle;\n",
              "    }\n",
              "\n",
              "    .dataframe tbody tr th {\n",
              "        vertical-align: top;\n",
              "    }\n",
              "\n",
              "    .dataframe thead th {\n",
              "        text-align: right;\n",
              "    }\n",
              "</style>\n",
              "<table border=\"1\" class=\"dataframe\">\n",
              "  <thead>\n",
              "    <tr style=\"text-align: right;\">\n",
              "      <th></th>\n",
              "      <th>continent</th>\n",
              "      <th>location</th>\n",
              "      <th>date</th>\n",
              "      <th>total_cases</th>\n",
              "      <th>new_cases</th>\n",
              "      <th>total_deaths</th>\n",
              "      <th>new_deaths</th>\n",
              "      <th>total_cases_per_million</th>\n",
              "      <th>total_deaths_per_million</th>\n",
              "      <th>new_deaths_per_million</th>\n",
              "      <th>new_tests</th>\n",
              "      <th>total_tests</th>\n",
              "      <th>total_vaccinations</th>\n",
              "      <th>people_vaccinated</th>\n",
              "      <th>new_vaccinations</th>\n",
              "      <th>population</th>\n",
              "    </tr>\n",
              "  </thead>\n",
              "  <tbody>\n",
              "    <tr>\n",
              "      <th>0</th>\n",
              "      <td>Asia</td>\n",
              "      <td>Afghanistan</td>\n",
              "      <td>2020-02-24</td>\n",
              "      <td>1.0</td>\n",
              "      <td>1.0</td>\n",
              "      <td>0.0</td>\n",
              "      <td>0.0</td>\n",
              "      <td>0.026</td>\n",
              "      <td>0.000</td>\n",
              "      <td>0.000</td>\n",
              "      <td>0.0</td>\n",
              "      <td>0.0</td>\n",
              "      <td>0.0</td>\n",
              "      <td>0.0</td>\n",
              "      <td>0.0</td>\n",
              "      <td>38928341.0</td>\n",
              "    </tr>\n",
              "    <tr>\n",
              "      <th>1</th>\n",
              "      <td>Asia</td>\n",
              "      <td>Afghanistan</td>\n",
              "      <td>2020-02-25</td>\n",
              "      <td>1.0</td>\n",
              "      <td>0.0</td>\n",
              "      <td>0.0</td>\n",
              "      <td>0.0</td>\n",
              "      <td>0.026</td>\n",
              "      <td>0.000</td>\n",
              "      <td>0.000</td>\n",
              "      <td>0.0</td>\n",
              "      <td>0.0</td>\n",
              "      <td>0.0</td>\n",
              "      <td>0.0</td>\n",
              "      <td>0.0</td>\n",
              "      <td>38928341.0</td>\n",
              "    </tr>\n",
              "    <tr>\n",
              "      <th>2</th>\n",
              "      <td>Asia</td>\n",
              "      <td>Afghanistan</td>\n",
              "      <td>2020-02-26</td>\n",
              "      <td>1.0</td>\n",
              "      <td>0.0</td>\n",
              "      <td>0.0</td>\n",
              "      <td>0.0</td>\n",
              "      <td>0.026</td>\n",
              "      <td>0.000</td>\n",
              "      <td>0.000</td>\n",
              "      <td>0.0</td>\n",
              "      <td>0.0</td>\n",
              "      <td>0.0</td>\n",
              "      <td>0.0</td>\n",
              "      <td>0.0</td>\n",
              "      <td>38928341.0</td>\n",
              "    </tr>\n",
              "    <tr>\n",
              "      <th>3</th>\n",
              "      <td>Asia</td>\n",
              "      <td>Afghanistan</td>\n",
              "      <td>2020-02-27</td>\n",
              "      <td>1.0</td>\n",
              "      <td>0.0</td>\n",
              "      <td>0.0</td>\n",
              "      <td>0.0</td>\n",
              "      <td>0.026</td>\n",
              "      <td>0.000</td>\n",
              "      <td>0.000</td>\n",
              "      <td>0.0</td>\n",
              "      <td>0.0</td>\n",
              "      <td>0.0</td>\n",
              "      <td>0.0</td>\n",
              "      <td>0.0</td>\n",
              "      <td>38928341.0</td>\n",
              "    </tr>\n",
              "    <tr>\n",
              "      <th>4</th>\n",
              "      <td>Asia</td>\n",
              "      <td>Afghanistan</td>\n",
              "      <td>2020-02-28</td>\n",
              "      <td>1.0</td>\n",
              "      <td>0.0</td>\n",
              "      <td>0.0</td>\n",
              "      <td>0.0</td>\n",
              "      <td>0.026</td>\n",
              "      <td>0.000</td>\n",
              "      <td>0.000</td>\n",
              "      <td>0.0</td>\n",
              "      <td>0.0</td>\n",
              "      <td>0.0</td>\n",
              "      <td>0.0</td>\n",
              "      <td>0.0</td>\n",
              "      <td>38928341.0</td>\n",
              "    </tr>\n",
              "    <tr>\n",
              "      <th>...</th>\n",
              "      <td>...</td>\n",
              "      <td>...</td>\n",
              "      <td>...</td>\n",
              "      <td>...</td>\n",
              "      <td>...</td>\n",
              "      <td>...</td>\n",
              "      <td>...</td>\n",
              "      <td>...</td>\n",
              "      <td>...</td>\n",
              "      <td>...</td>\n",
              "      <td>...</td>\n",
              "      <td>...</td>\n",
              "      <td>...</td>\n",
              "      <td>...</td>\n",
              "      <td>...</td>\n",
              "      <td>...</td>\n",
              "    </tr>\n",
              "    <tr>\n",
              "      <th>79272</th>\n",
              "      <td>Africa</td>\n",
              "      <td>Zimbabwe</td>\n",
              "      <td>2021-03-30</td>\n",
              "      <td>36839.0</td>\n",
              "      <td>0.0</td>\n",
              "      <td>1520.0</td>\n",
              "      <td>0.0</td>\n",
              "      <td>2478.583</td>\n",
              "      <td>102.268</td>\n",
              "      <td>0.000</td>\n",
              "      <td>2675.0</td>\n",
              "      <td>435853.0</td>\n",
              "      <td>85866.0</td>\n",
              "      <td>72944.0</td>\n",
              "      <td>4256.0</td>\n",
              "      <td>14862927.0</td>\n",
              "    </tr>\n",
              "    <tr>\n",
              "      <th>79273</th>\n",
              "      <td>Africa</td>\n",
              "      <td>Zimbabwe</td>\n",
              "      <td>2021-03-31</td>\n",
              "      <td>36882.0</td>\n",
              "      <td>43.0</td>\n",
              "      <td>1523.0</td>\n",
              "      <td>3.0</td>\n",
              "      <td>2481.476</td>\n",
              "      <td>102.470</td>\n",
              "      <td>0.202</td>\n",
              "      <td>1440.0</td>\n",
              "      <td>437293.0</td>\n",
              "      <td>91880.0</td>\n",
              "      <td>76995.0</td>\n",
              "      <td>6014.0</td>\n",
              "      <td>14862927.0</td>\n",
              "    </tr>\n",
              "    <tr>\n",
              "      <th>79274</th>\n",
              "      <td>Africa</td>\n",
              "      <td>Zimbabwe</td>\n",
              "      <td>2021-04-01</td>\n",
              "      <td>36896.0</td>\n",
              "      <td>14.0</td>\n",
              "      <td>1523.0</td>\n",
              "      <td>0.0</td>\n",
              "      <td>2482.418</td>\n",
              "      <td>102.470</td>\n",
              "      <td>0.000</td>\n",
              "      <td>2337.0</td>\n",
              "      <td>439630.0</td>\n",
              "      <td>105307.0</td>\n",
              "      <td>87791.0</td>\n",
              "      <td>13427.0</td>\n",
              "      <td>14862927.0</td>\n",
              "    </tr>\n",
              "    <tr>\n",
              "      <th>79275</th>\n",
              "      <td>Africa</td>\n",
              "      <td>Zimbabwe</td>\n",
              "      <td>2021-04-02</td>\n",
              "      <td>36903.0</td>\n",
              "      <td>7.0</td>\n",
              "      <td>1524.0</td>\n",
              "      <td>1.0</td>\n",
              "      <td>2482.889</td>\n",
              "      <td>102.537</td>\n",
              "      <td>0.067</td>\n",
              "      <td>0.0</td>\n",
              "      <td>0.0</td>\n",
              "      <td>124753.0</td>\n",
              "      <td>103815.0</td>\n",
              "      <td>19446.0</td>\n",
              "      <td>14862927.0</td>\n",
              "    </tr>\n",
              "    <tr>\n",
              "      <th>79276</th>\n",
              "      <td>Africa</td>\n",
              "      <td>Zimbabwe</td>\n",
              "      <td>2021-04-03</td>\n",
              "      <td>36911.0</td>\n",
              "      <td>8.0</td>\n",
              "      <td>1524.0</td>\n",
              "      <td>0.0</td>\n",
              "      <td>2483.427</td>\n",
              "      <td>102.537</td>\n",
              "      <td>0.000</td>\n",
              "      <td>0.0</td>\n",
              "      <td>0.0</td>\n",
              "      <td>0.0</td>\n",
              "      <td>0.0</td>\n",
              "      <td>0.0</td>\n",
              "      <td>14862927.0</td>\n",
              "    </tr>\n",
              "  </tbody>\n",
              "</table>\n",
              "<p>79277 rows × 16 columns</p>\n",
              "</div>"
            ],
            "text/plain": [
              "      continent     location  ... new_vaccinations  population\n",
              "0          Asia  Afghanistan  ...              0.0  38928341.0\n",
              "1          Asia  Afghanistan  ...              0.0  38928341.0\n",
              "2          Asia  Afghanistan  ...              0.0  38928341.0\n",
              "3          Asia  Afghanistan  ...              0.0  38928341.0\n",
              "4          Asia  Afghanistan  ...              0.0  38928341.0\n",
              "...         ...          ...  ...              ...         ...\n",
              "79272    Africa     Zimbabwe  ...           4256.0  14862927.0\n",
              "79273    Africa     Zimbabwe  ...           6014.0  14862927.0\n",
              "79274    Africa     Zimbabwe  ...          13427.0  14862927.0\n",
              "79275    Africa     Zimbabwe  ...          19446.0  14862927.0\n",
              "79276    Africa     Zimbabwe  ...              0.0  14862927.0\n",
              "\n",
              "[79277 rows x 16 columns]"
            ]
          },
          "metadata": {
            "tags": []
          },
          "execution_count": 9
        }
      ]
    },
    {
      "cell_type": "code",
      "metadata": {
        "colab": {
          "base_uri": "https://localhost:8080/",
          "height": 444
        },
        "id": "4aRyAAhnpbZP",
        "outputId": "c6cbeb67-db46-4e6d-c47b-85e567f28b08"
      },
      "source": [
        "data['recovered'] = data['total_cases'] - data['total_deaths']\n",
        "data"
      ],
      "execution_count": null,
      "outputs": [
        {
          "output_type": "execute_result",
          "data": {
            "text/html": [
              "<div>\n",
              "<style scoped>\n",
              "    .dataframe tbody tr th:only-of-type {\n",
              "        vertical-align: middle;\n",
              "    }\n",
              "\n",
              "    .dataframe tbody tr th {\n",
              "        vertical-align: top;\n",
              "    }\n",
              "\n",
              "    .dataframe thead th {\n",
              "        text-align: right;\n",
              "    }\n",
              "</style>\n",
              "<table border=\"1\" class=\"dataframe\">\n",
              "  <thead>\n",
              "    <tr style=\"text-align: right;\">\n",
              "      <th></th>\n",
              "      <th>continent</th>\n",
              "      <th>location</th>\n",
              "      <th>date</th>\n",
              "      <th>total_cases</th>\n",
              "      <th>new_cases</th>\n",
              "      <th>total_deaths</th>\n",
              "      <th>new_deaths</th>\n",
              "      <th>total_cases_per_million</th>\n",
              "      <th>total_deaths_per_million</th>\n",
              "      <th>new_deaths_per_million</th>\n",
              "      <th>new_tests</th>\n",
              "      <th>total_tests</th>\n",
              "      <th>total_vaccinations</th>\n",
              "      <th>people_vaccinated</th>\n",
              "      <th>new_vaccinations</th>\n",
              "      <th>population</th>\n",
              "      <th>recovered</th>\n",
              "    </tr>\n",
              "  </thead>\n",
              "  <tbody>\n",
              "    <tr>\n",
              "      <th>0</th>\n",
              "      <td>Asia</td>\n",
              "      <td>Afghanistan</td>\n",
              "      <td>2020-02-24</td>\n",
              "      <td>1.0</td>\n",
              "      <td>1.0</td>\n",
              "      <td>0.0</td>\n",
              "      <td>0.0</td>\n",
              "      <td>0.026</td>\n",
              "      <td>0.000</td>\n",
              "      <td>0.000</td>\n",
              "      <td>0.0</td>\n",
              "      <td>0.0</td>\n",
              "      <td>0.0</td>\n",
              "      <td>0.0</td>\n",
              "      <td>0.0</td>\n",
              "      <td>38928341.0</td>\n",
              "      <td>1.0</td>\n",
              "    </tr>\n",
              "    <tr>\n",
              "      <th>1</th>\n",
              "      <td>Asia</td>\n",
              "      <td>Afghanistan</td>\n",
              "      <td>2020-02-25</td>\n",
              "      <td>1.0</td>\n",
              "      <td>0.0</td>\n",
              "      <td>0.0</td>\n",
              "      <td>0.0</td>\n",
              "      <td>0.026</td>\n",
              "      <td>0.000</td>\n",
              "      <td>0.000</td>\n",
              "      <td>0.0</td>\n",
              "      <td>0.0</td>\n",
              "      <td>0.0</td>\n",
              "      <td>0.0</td>\n",
              "      <td>0.0</td>\n",
              "      <td>38928341.0</td>\n",
              "      <td>1.0</td>\n",
              "    </tr>\n",
              "    <tr>\n",
              "      <th>2</th>\n",
              "      <td>Asia</td>\n",
              "      <td>Afghanistan</td>\n",
              "      <td>2020-02-26</td>\n",
              "      <td>1.0</td>\n",
              "      <td>0.0</td>\n",
              "      <td>0.0</td>\n",
              "      <td>0.0</td>\n",
              "      <td>0.026</td>\n",
              "      <td>0.000</td>\n",
              "      <td>0.000</td>\n",
              "      <td>0.0</td>\n",
              "      <td>0.0</td>\n",
              "      <td>0.0</td>\n",
              "      <td>0.0</td>\n",
              "      <td>0.0</td>\n",
              "      <td>38928341.0</td>\n",
              "      <td>1.0</td>\n",
              "    </tr>\n",
              "    <tr>\n",
              "      <th>3</th>\n",
              "      <td>Asia</td>\n",
              "      <td>Afghanistan</td>\n",
              "      <td>2020-02-27</td>\n",
              "      <td>1.0</td>\n",
              "      <td>0.0</td>\n",
              "      <td>0.0</td>\n",
              "      <td>0.0</td>\n",
              "      <td>0.026</td>\n",
              "      <td>0.000</td>\n",
              "      <td>0.000</td>\n",
              "      <td>0.0</td>\n",
              "      <td>0.0</td>\n",
              "      <td>0.0</td>\n",
              "      <td>0.0</td>\n",
              "      <td>0.0</td>\n",
              "      <td>38928341.0</td>\n",
              "      <td>1.0</td>\n",
              "    </tr>\n",
              "    <tr>\n",
              "      <th>4</th>\n",
              "      <td>Asia</td>\n",
              "      <td>Afghanistan</td>\n",
              "      <td>2020-02-28</td>\n",
              "      <td>1.0</td>\n",
              "      <td>0.0</td>\n",
              "      <td>0.0</td>\n",
              "      <td>0.0</td>\n",
              "      <td>0.026</td>\n",
              "      <td>0.000</td>\n",
              "      <td>0.000</td>\n",
              "      <td>0.0</td>\n",
              "      <td>0.0</td>\n",
              "      <td>0.0</td>\n",
              "      <td>0.0</td>\n",
              "      <td>0.0</td>\n",
              "      <td>38928341.0</td>\n",
              "      <td>1.0</td>\n",
              "    </tr>\n",
              "    <tr>\n",
              "      <th>...</th>\n",
              "      <td>...</td>\n",
              "      <td>...</td>\n",
              "      <td>...</td>\n",
              "      <td>...</td>\n",
              "      <td>...</td>\n",
              "      <td>...</td>\n",
              "      <td>...</td>\n",
              "      <td>...</td>\n",
              "      <td>...</td>\n",
              "      <td>...</td>\n",
              "      <td>...</td>\n",
              "      <td>...</td>\n",
              "      <td>...</td>\n",
              "      <td>...</td>\n",
              "      <td>...</td>\n",
              "      <td>...</td>\n",
              "      <td>...</td>\n",
              "    </tr>\n",
              "    <tr>\n",
              "      <th>79272</th>\n",
              "      <td>Africa</td>\n",
              "      <td>Zimbabwe</td>\n",
              "      <td>2021-03-30</td>\n",
              "      <td>36839.0</td>\n",
              "      <td>0.0</td>\n",
              "      <td>1520.0</td>\n",
              "      <td>0.0</td>\n",
              "      <td>2478.583</td>\n",
              "      <td>102.268</td>\n",
              "      <td>0.000</td>\n",
              "      <td>2675.0</td>\n",
              "      <td>435853.0</td>\n",
              "      <td>85866.0</td>\n",
              "      <td>72944.0</td>\n",
              "      <td>4256.0</td>\n",
              "      <td>14862927.0</td>\n",
              "      <td>35319.0</td>\n",
              "    </tr>\n",
              "    <tr>\n",
              "      <th>79273</th>\n",
              "      <td>Africa</td>\n",
              "      <td>Zimbabwe</td>\n",
              "      <td>2021-03-31</td>\n",
              "      <td>36882.0</td>\n",
              "      <td>43.0</td>\n",
              "      <td>1523.0</td>\n",
              "      <td>3.0</td>\n",
              "      <td>2481.476</td>\n",
              "      <td>102.470</td>\n",
              "      <td>0.202</td>\n",
              "      <td>1440.0</td>\n",
              "      <td>437293.0</td>\n",
              "      <td>91880.0</td>\n",
              "      <td>76995.0</td>\n",
              "      <td>6014.0</td>\n",
              "      <td>14862927.0</td>\n",
              "      <td>35359.0</td>\n",
              "    </tr>\n",
              "    <tr>\n",
              "      <th>79274</th>\n",
              "      <td>Africa</td>\n",
              "      <td>Zimbabwe</td>\n",
              "      <td>2021-04-01</td>\n",
              "      <td>36896.0</td>\n",
              "      <td>14.0</td>\n",
              "      <td>1523.0</td>\n",
              "      <td>0.0</td>\n",
              "      <td>2482.418</td>\n",
              "      <td>102.470</td>\n",
              "      <td>0.000</td>\n",
              "      <td>2337.0</td>\n",
              "      <td>439630.0</td>\n",
              "      <td>105307.0</td>\n",
              "      <td>87791.0</td>\n",
              "      <td>13427.0</td>\n",
              "      <td>14862927.0</td>\n",
              "      <td>35373.0</td>\n",
              "    </tr>\n",
              "    <tr>\n",
              "      <th>79275</th>\n",
              "      <td>Africa</td>\n",
              "      <td>Zimbabwe</td>\n",
              "      <td>2021-04-02</td>\n",
              "      <td>36903.0</td>\n",
              "      <td>7.0</td>\n",
              "      <td>1524.0</td>\n",
              "      <td>1.0</td>\n",
              "      <td>2482.889</td>\n",
              "      <td>102.537</td>\n",
              "      <td>0.067</td>\n",
              "      <td>0.0</td>\n",
              "      <td>0.0</td>\n",
              "      <td>124753.0</td>\n",
              "      <td>103815.0</td>\n",
              "      <td>19446.0</td>\n",
              "      <td>14862927.0</td>\n",
              "      <td>35379.0</td>\n",
              "    </tr>\n",
              "    <tr>\n",
              "      <th>79276</th>\n",
              "      <td>Africa</td>\n",
              "      <td>Zimbabwe</td>\n",
              "      <td>2021-04-03</td>\n",
              "      <td>36911.0</td>\n",
              "      <td>8.0</td>\n",
              "      <td>1524.0</td>\n",
              "      <td>0.0</td>\n",
              "      <td>2483.427</td>\n",
              "      <td>102.537</td>\n",
              "      <td>0.000</td>\n",
              "      <td>0.0</td>\n",
              "      <td>0.0</td>\n",
              "      <td>0.0</td>\n",
              "      <td>0.0</td>\n",
              "      <td>0.0</td>\n",
              "      <td>14862927.0</td>\n",
              "      <td>35387.0</td>\n",
              "    </tr>\n",
              "  </tbody>\n",
              "</table>\n",
              "<p>79277 rows × 17 columns</p>\n",
              "</div>"
            ],
            "text/plain": [
              "      continent     location  ...  population  recovered\n",
              "0          Asia  Afghanistan  ...  38928341.0        1.0\n",
              "1          Asia  Afghanistan  ...  38928341.0        1.0\n",
              "2          Asia  Afghanistan  ...  38928341.0        1.0\n",
              "3          Asia  Afghanistan  ...  38928341.0        1.0\n",
              "4          Asia  Afghanistan  ...  38928341.0        1.0\n",
              "...         ...          ...  ...         ...        ...\n",
              "79272    Africa     Zimbabwe  ...  14862927.0    35319.0\n",
              "79273    Africa     Zimbabwe  ...  14862927.0    35359.0\n",
              "79274    Africa     Zimbabwe  ...  14862927.0    35373.0\n",
              "79275    Africa     Zimbabwe  ...  14862927.0    35379.0\n",
              "79276    Africa     Zimbabwe  ...  14862927.0    35387.0\n",
              "\n",
              "[79277 rows x 17 columns]"
            ]
          },
          "metadata": {
            "tags": []
          },
          "execution_count": 15
        }
      ]
    },
    {
      "cell_type": "code",
      "metadata": {
        "colab": {
          "base_uri": "https://localhost:8080/"
        },
        "id": "nPt19cS80HYa",
        "outputId": "55b56a8d-ff19-4f17-fb6f-664731657605"
      },
      "source": [
        "data.columns"
      ],
      "execution_count": null,
      "outputs": [
        {
          "output_type": "execute_result",
          "data": {
            "text/plain": [
              "Index(['continent', 'location', 'date', 'total_cases', 'new_cases',\n",
              "       'total_deaths', 'new_deaths', 'total_cases_per_million',\n",
              "       'total_deaths_per_million', 'new_deaths_per_million', 'new_tests',\n",
              "       'total_tests', 'total_vaccinations', 'people_vaccinated',\n",
              "       'new_vaccinations', 'population', 'recovered'],\n",
              "      dtype='object')"
            ]
          },
          "metadata": {
            "tags": []
          },
          "execution_count": 16
        }
      ]
    },
    {
      "cell_type": "code",
      "metadata": {
        "id": "GA_dR3YGxLfp"
      },
      "source": [
        "#data.to_excel('/content/drive/MyDrive/Data Science/new_data.xlsx')"
      ],
      "execution_count": null,
      "outputs": []
    },
    {
      "cell_type": "code",
      "metadata": {
        "colab": {
          "base_uri": "https://localhost:8080/",
          "height": 455
        },
        "id": "AZrNS5vGcUpa",
        "outputId": "edf88ec5-dbcd-41ea-8af8-d6d19c44b34e"
      },
      "source": [
        "dict = data.groupby(\"location\").sum()\n",
        "dict = dict[['total_cases', 'total_deaths', 'recovered']]\n",
        "dict"
      ],
      "execution_count": null,
      "outputs": [
        {
          "output_type": "execute_result",
          "data": {
            "text/html": [
              "<div>\n",
              "<style scoped>\n",
              "    .dataframe tbody tr th:only-of-type {\n",
              "        vertical-align: middle;\n",
              "    }\n",
              "\n",
              "    .dataframe tbody tr th {\n",
              "        vertical-align: top;\n",
              "    }\n",
              "\n",
              "    .dataframe thead th {\n",
              "        text-align: right;\n",
              "    }\n",
              "</style>\n",
              "<table border=\"1\" class=\"dataframe\">\n",
              "  <thead>\n",
              "    <tr style=\"text-align: right;\">\n",
              "      <th></th>\n",
              "      <th>total_cases</th>\n",
              "      <th>total_deaths</th>\n",
              "      <th>recovered</th>\n",
              "    </tr>\n",
              "    <tr>\n",
              "      <th>location</th>\n",
              "      <th></th>\n",
              "      <th></th>\n",
              "      <th></th>\n",
              "    </tr>\n",
              "  </thead>\n",
              "  <tbody>\n",
              "    <tr>\n",
              "      <th>Afghanistan</th>\n",
              "      <td>1.361352e+07</td>\n",
              "      <td>520732.0</td>\n",
              "      <td>1.309278e+07</td>\n",
              "    </tr>\n",
              "    <tr>\n",
              "      <th>Africa</th>\n",
              "      <td>6.363634e+08</td>\n",
              "      <td>15887554.0</td>\n",
              "      <td>6.204758e+08</td>\n",
              "    </tr>\n",
              "    <tr>\n",
              "      <th>Albania</th>\n",
              "      <td>1.245621e+07</td>\n",
              "      <td>242446.0</td>\n",
              "      <td>1.221376e+07</td>\n",
              "    </tr>\n",
              "    <tr>\n",
              "      <th>Algeria</th>\n",
              "      <td>2.082251e+07</td>\n",
              "      <td>651454.0</td>\n",
              "      <td>2.017106e+07</td>\n",
              "    </tr>\n",
              "    <tr>\n",
              "      <th>Andorra</th>\n",
              "      <td>1.644177e+06</td>\n",
              "      <td>25130.0</td>\n",
              "      <td>1.619047e+06</td>\n",
              "    </tr>\n",
              "    <tr>\n",
              "      <th>...</th>\n",
              "      <td>...</td>\n",
              "      <td>...</td>\n",
              "      <td>...</td>\n",
              "    </tr>\n",
              "    <tr>\n",
              "      <th>Vietnam</th>\n",
              "      <td>4.160680e+05</td>\n",
              "      <td>8163.0</td>\n",
              "      <td>4.079050e+05</td>\n",
              "    </tr>\n",
              "    <tr>\n",
              "      <th>World</th>\n",
              "      <td>1.775358e+10</td>\n",
              "      <td>445091667.0</td>\n",
              "      <td>1.730849e+10</td>\n",
              "    </tr>\n",
              "    <tr>\n",
              "      <th>Yemen</th>\n",
              "      <td>6.188420e+05</td>\n",
              "      <td>170565.0</td>\n",
              "      <td>4.482770e+05</td>\n",
              "    </tr>\n",
              "    <tr>\n",
              "      <th>Zambia</th>\n",
              "      <td>8.363075e+06</td>\n",
              "      <td>136047.0</td>\n",
              "      <td>8.227028e+06</td>\n",
              "    </tr>\n",
              "    <tr>\n",
              "      <th>Zimbabwe</th>\n",
              "      <td>4.350722e+06</td>\n",
              "      <td>149575.0</td>\n",
              "      <td>4.201147e+06</td>\n",
              "    </tr>\n",
              "  </tbody>\n",
              "</table>\n",
              "<p>215 rows × 3 columns</p>\n",
              "</div>"
            ],
            "text/plain": [
              "              total_cases  total_deaths     recovered\n",
              "location                                             \n",
              "Afghanistan  1.361352e+07      520732.0  1.309278e+07\n",
              "Africa       6.363634e+08    15887554.0  6.204758e+08\n",
              "Albania      1.245621e+07      242446.0  1.221376e+07\n",
              "Algeria      2.082251e+07      651454.0  2.017106e+07\n",
              "Andorra      1.644177e+06       25130.0  1.619047e+06\n",
              "...                   ...           ...           ...\n",
              "Vietnam      4.160680e+05        8163.0  4.079050e+05\n",
              "World        1.775358e+10   445091667.0  1.730849e+10\n",
              "Yemen        6.188420e+05      170565.0  4.482770e+05\n",
              "Zambia       8.363075e+06      136047.0  8.227028e+06\n",
              "Zimbabwe     4.350722e+06      149575.0  4.201147e+06\n",
              "\n",
              "[215 rows x 3 columns]"
            ]
          },
          "metadata": {
            "tags": []
          },
          "execution_count": 17
        }
      ]
    },
    {
      "cell_type": "code",
      "metadata": {
        "id": "ASTBCJQOeKXs"
      },
      "source": [
        "minimum_cases = dict.sort_values(by = ['total_cases']).reset_index().head(1)\n",
        "maximum_cases = dict.sort_values(by = ['total_cases'], ascending=False).reset_index().head(2).drop(0).reset_index()\n",
        "maximum_cases.drop('index', axis=1, inplace=True)"
      ],
      "execution_count": null,
      "outputs": []
    },
    {
      "cell_type": "code",
      "metadata": {
        "id": "UrrnFXTBeCMK"
      },
      "source": [
        "minimum_deaths = dict.sort_values(by = ['total_deaths']).reset_index().head(1)\n",
        "maximum_deaths = dict.sort_values(by = ['total_deaths'], ascending=False).reset_index().head(2).drop(0).reset_index()\n",
        "maximum_deaths.drop('index', axis=1, inplace=True)"
      ],
      "execution_count": null,
      "outputs": []
    },
    {
      "cell_type": "code",
      "metadata": {
        "id": "if7pqP3Fsq3j"
      },
      "source": [
        "minimum_recovered = dict.sort_values(by = ['recovered']).reset_index().head(1)\n",
        "maximum_recovered = dict.sort_values(by = ['recovered'], ascending=False).reset_index().head(2).drop(0).reset_index()\n",
        "maximum_recovered.drop('index', axis=1, inplace=True)"
      ],
      "execution_count": null,
      "outputs": []
    },
    {
      "cell_type": "code",
      "metadata": {
        "id": "j2LeK7NRal8n"
      },
      "source": [
        "minimum_cases = minimum_cases.drop(['total_deaths', 'recovered'], axis=1)\n",
        "maximum_cases = maximum_cases.drop(['total_deaths', 'recovered'], axis=1)"
      ],
      "execution_count": null,
      "outputs": []
    },
    {
      "cell_type": "code",
      "metadata": {
        "id": "h5WIH2b1eR-5"
      },
      "source": [
        "minimum_deaths = minimum_deaths.drop(['total_cases', 'recovered'], axis=1)\n",
        "maximum_deaths = maximum_deaths.drop(['total_cases', 'recovered'], axis=1)"
      ],
      "execution_count": null,
      "outputs": []
    },
    {
      "cell_type": "code",
      "metadata": {
        "id": "pFjb-xZxs2-4"
      },
      "source": [
        "minimum_recovered = minimum_recovered.drop(['total_cases', 'total_deaths'], axis=1)\n",
        "maximum_recovered = maximum_recovered.drop(['total_cases', 'total_deaths'], axis=1)"
      ],
      "execution_count": null,
      "outputs": []
    },
    {
      "cell_type": "code",
      "metadata": {
        "id": "C0WYA7EehFye"
      },
      "source": [
        "dict = dict.reset_index()"
      ],
      "execution_count": null,
      "outputs": []
    },
    {
      "cell_type": "code",
      "metadata": {
        "colab": {
          "base_uri": "https://localhost:8080/",
          "height": 424
        },
        "id": "xSg9d7NhhHjg",
        "outputId": "5420af11-3578-4c1b-9c73-a42a3f9b1eb4"
      },
      "source": [
        "dict"
      ],
      "execution_count": null,
      "outputs": [
        {
          "output_type": "execute_result",
          "data": {
            "text/html": [
              "<div>\n",
              "<style scoped>\n",
              "    .dataframe tbody tr th:only-of-type {\n",
              "        vertical-align: middle;\n",
              "    }\n",
              "\n",
              "    .dataframe tbody tr th {\n",
              "        vertical-align: top;\n",
              "    }\n",
              "\n",
              "    .dataframe thead th {\n",
              "        text-align: right;\n",
              "    }\n",
              "</style>\n",
              "<table border=\"1\" class=\"dataframe\">\n",
              "  <thead>\n",
              "    <tr style=\"text-align: right;\">\n",
              "      <th></th>\n",
              "      <th>location</th>\n",
              "      <th>total_cases</th>\n",
              "      <th>total_deaths</th>\n",
              "      <th>recovered</th>\n",
              "    </tr>\n",
              "  </thead>\n",
              "  <tbody>\n",
              "    <tr>\n",
              "      <th>0</th>\n",
              "      <td>Afghanistan</td>\n",
              "      <td>1.361352e+07</td>\n",
              "      <td>520732.0</td>\n",
              "      <td>1.309278e+07</td>\n",
              "    </tr>\n",
              "    <tr>\n",
              "      <th>1</th>\n",
              "      <td>Africa</td>\n",
              "      <td>6.363634e+08</td>\n",
              "      <td>15887554.0</td>\n",
              "      <td>6.204758e+08</td>\n",
              "    </tr>\n",
              "    <tr>\n",
              "      <th>2</th>\n",
              "      <td>Albania</td>\n",
              "      <td>1.245621e+07</td>\n",
              "      <td>242446.0</td>\n",
              "      <td>1.221376e+07</td>\n",
              "    </tr>\n",
              "    <tr>\n",
              "      <th>3</th>\n",
              "      <td>Algeria</td>\n",
              "      <td>2.082251e+07</td>\n",
              "      <td>651454.0</td>\n",
              "      <td>2.017106e+07</td>\n",
              "    </tr>\n",
              "    <tr>\n",
              "      <th>4</th>\n",
              "      <td>Andorra</td>\n",
              "      <td>1.644177e+06</td>\n",
              "      <td>25130.0</td>\n",
              "      <td>1.619047e+06</td>\n",
              "    </tr>\n",
              "    <tr>\n",
              "      <th>...</th>\n",
              "      <td>...</td>\n",
              "      <td>...</td>\n",
              "      <td>...</td>\n",
              "      <td>...</td>\n",
              "    </tr>\n",
              "    <tr>\n",
              "      <th>210</th>\n",
              "      <td>Vietnam</td>\n",
              "      <td>4.160680e+05</td>\n",
              "      <td>8163.0</td>\n",
              "      <td>4.079050e+05</td>\n",
              "    </tr>\n",
              "    <tr>\n",
              "      <th>211</th>\n",
              "      <td>World</td>\n",
              "      <td>1.775358e+10</td>\n",
              "      <td>445091667.0</td>\n",
              "      <td>1.730849e+10</td>\n",
              "    </tr>\n",
              "    <tr>\n",
              "      <th>212</th>\n",
              "      <td>Yemen</td>\n",
              "      <td>6.188420e+05</td>\n",
              "      <td>170565.0</td>\n",
              "      <td>4.482770e+05</td>\n",
              "    </tr>\n",
              "    <tr>\n",
              "      <th>213</th>\n",
              "      <td>Zambia</td>\n",
              "      <td>8.363075e+06</td>\n",
              "      <td>136047.0</td>\n",
              "      <td>8.227028e+06</td>\n",
              "    </tr>\n",
              "    <tr>\n",
              "      <th>214</th>\n",
              "      <td>Zimbabwe</td>\n",
              "      <td>4.350722e+06</td>\n",
              "      <td>149575.0</td>\n",
              "      <td>4.201147e+06</td>\n",
              "    </tr>\n",
              "  </tbody>\n",
              "</table>\n",
              "<p>215 rows × 4 columns</p>\n",
              "</div>"
            ],
            "text/plain": [
              "        location   total_cases  total_deaths     recovered\n",
              "0    Afghanistan  1.361352e+07      520732.0  1.309278e+07\n",
              "1         Africa  6.363634e+08    15887554.0  6.204758e+08\n",
              "2        Albania  1.245621e+07      242446.0  1.221376e+07\n",
              "3        Algeria  2.082251e+07      651454.0  2.017106e+07\n",
              "4        Andorra  1.644177e+06       25130.0  1.619047e+06\n",
              "..           ...           ...           ...           ...\n",
              "210      Vietnam  4.160680e+05        8163.0  4.079050e+05\n",
              "211        World  1.775358e+10   445091667.0  1.730849e+10\n",
              "212        Yemen  6.188420e+05      170565.0  4.482770e+05\n",
              "213       Zambia  8.363075e+06      136047.0  8.227028e+06\n",
              "214     Zimbabwe  4.350722e+06      149575.0  4.201147e+06\n",
              "\n",
              "[215 rows x 4 columns]"
            ]
          },
          "metadata": {
            "tags": []
          },
          "execution_count": 28
        }
      ]
    },
    {
      "cell_type": "markdown",
      "metadata": {
        "id": "QeDrmP-zh8mI"
      },
      "source": [
        "------------------------------------"
      ]
    },
    {
      "cell_type": "markdown",
      "metadata": {
        "id": "bAVHF0lSjolg"
      },
      "source": [
        "-------------------------"
      ]
    },
    {
      "cell_type": "markdown",
      "metadata": {
        "id": "A0_gTXw1iAlK"
      },
      "source": [
        "Enter the Country Name and you will get the Total number of Cases"
      ]
    },
    {
      "cell_type": "code",
      "metadata": {
        "colab": {
          "base_uri": "https://localhost:8080/"
        },
        "id": "x96JfU3ghdQo",
        "outputId": "90283f38-2be4-4e55-969d-91d8ee43b4ed"
      },
      "source": [
        "country = 'India'\n",
        "dict[dict.location==country].total_cases"
      ],
      "execution_count": null,
      "outputs": [
        {
          "output_type": "execute_result",
          "data": {
            "text/plain": [
              "89    2.111728e+09\n",
              "Name: total_cases, dtype: float64"
            ]
          },
          "metadata": {
            "tags": []
          },
          "execution_count": 29
        }
      ]
    },
    {
      "cell_type": "markdown",
      "metadata": {
        "id": "57FtV0s_jsEm"
      },
      "source": [
        "--------------------"
      ]
    },
    {
      "cell_type": "markdown",
      "metadata": {
        "id": "X-_dPw6biwy2"
      },
      "source": [
        "Which country is having lowest number of cases?"
      ]
    },
    {
      "cell_type": "code",
      "metadata": {
        "colab": {
          "base_uri": "https://localhost:8080/",
          "height": 81
        },
        "id": "uyKtkvf9eav4",
        "outputId": "dbdc996c-9c25-4036-e5f6-4d2aecf29bb5"
      },
      "source": [
        "minimum_cases"
      ],
      "execution_count": null,
      "outputs": [
        {
          "output_type": "execute_result",
          "data": {
            "text/html": [
              "<div>\n",
              "<style scoped>\n",
              "    .dataframe tbody tr th:only-of-type {\n",
              "        vertical-align: middle;\n",
              "    }\n",
              "\n",
              "    .dataframe tbody tr th {\n",
              "        vertical-align: top;\n",
              "    }\n",
              "\n",
              "    .dataframe thead th {\n",
              "        text-align: right;\n",
              "    }\n",
              "</style>\n",
              "<table border=\"1\" class=\"dataframe\">\n",
              "  <thead>\n",
              "    <tr style=\"text-align: right;\">\n",
              "      <th></th>\n",
              "      <th>location</th>\n",
              "      <th>total_cases</th>\n",
              "    </tr>\n",
              "  </thead>\n",
              "  <tbody>\n",
              "    <tr>\n",
              "      <th>0</th>\n",
              "      <td>Isle of Man</td>\n",
              "      <td>0.0</td>\n",
              "    </tr>\n",
              "  </tbody>\n",
              "</table>\n",
              "</div>"
            ],
            "text/plain": [
              "      location  total_cases\n",
              "0  Isle of Man          0.0"
            ]
          },
          "metadata": {
            "tags": []
          },
          "execution_count": 30
        }
      ]
    },
    {
      "cell_type": "markdown",
      "metadata": {
        "id": "sPB4dzHVjuaU"
      },
      "source": [
        "----------------------"
      ]
    },
    {
      "cell_type": "markdown",
      "metadata": {
        "id": "FVOQsU9vi_7b"
      },
      "source": [
        "Which country is having highest number of cases?\n"
      ]
    },
    {
      "cell_type": "code",
      "metadata": {
        "colab": {
          "base_uri": "https://localhost:8080/",
          "height": 81
        },
        "id": "eeD8JzM9go-s",
        "outputId": "394d0dc2-c989-4f9f-b95f-1863c36d606f"
      },
      "source": [
        "maximum_cases"
      ],
      "execution_count": null,
      "outputs": [
        {
          "output_type": "execute_result",
          "data": {
            "text/html": [
              "<div>\n",
              "<style scoped>\n",
              "    .dataframe tbody tr th:only-of-type {\n",
              "        vertical-align: middle;\n",
              "    }\n",
              "\n",
              "    .dataframe tbody tr th {\n",
              "        vertical-align: top;\n",
              "    }\n",
              "\n",
              "    .dataframe thead th {\n",
              "        text-align: right;\n",
              "    }\n",
              "</style>\n",
              "<table border=\"1\" class=\"dataframe\">\n",
              "  <thead>\n",
              "    <tr style=\"text-align: right;\">\n",
              "      <th></th>\n",
              "      <th>location</th>\n",
              "      <th>total_cases</th>\n",
              "    </tr>\n",
              "  </thead>\n",
              "  <tbody>\n",
              "    <tr>\n",
              "      <th>0</th>\n",
              "      <td>North America</td>\n",
              "      <td>4.913517e+09</td>\n",
              "    </tr>\n",
              "  </tbody>\n",
              "</table>\n",
              "</div>"
            ],
            "text/plain": [
              "        location   total_cases\n",
              "0  North America  4.913517e+09"
            ]
          },
          "metadata": {
            "tags": []
          },
          "execution_count": 31
        }
      ]
    },
    {
      "cell_type": "markdown",
      "metadata": {
        "id": "SfPcxCf8jxTc"
      },
      "source": [
        "------------------------"
      ]
    },
    {
      "cell_type": "markdown",
      "metadata": {
        "id": "hPNUqtDrjF9P"
      },
      "source": [
        "Which country is having lowest number of deaths?"
      ]
    },
    {
      "cell_type": "code",
      "metadata": {
        "colab": {
          "base_uri": "https://localhost:8080/",
          "height": 81
        },
        "id": "Dq923Ww3efEE",
        "outputId": "daed5ec3-a3e2-4d03-dad8-023e42c4e26d"
      },
      "source": [
        "minimum_deaths"
      ],
      "execution_count": null,
      "outputs": [
        {
          "output_type": "execute_result",
          "data": {
            "text/html": [
              "<div>\n",
              "<style scoped>\n",
              "    .dataframe tbody tr th:only-of-type {\n",
              "        vertical-align: middle;\n",
              "    }\n",
              "\n",
              "    .dataframe tbody tr th {\n",
              "        vertical-align: top;\n",
              "    }\n",
              "\n",
              "    .dataframe thead th {\n",
              "        text-align: right;\n",
              "    }\n",
              "</style>\n",
              "<table border=\"1\" class=\"dataframe\">\n",
              "  <thead>\n",
              "    <tr style=\"text-align: right;\">\n",
              "      <th></th>\n",
              "      <th>location</th>\n",
              "      <th>total_deaths</th>\n",
              "    </tr>\n",
              "  </thead>\n",
              "  <tbody>\n",
              "    <tr>\n",
              "      <th>0</th>\n",
              "      <td>Laos</td>\n",
              "      <td>0.0</td>\n",
              "    </tr>\n",
              "  </tbody>\n",
              "</table>\n",
              "</div>"
            ],
            "text/plain": [
              "  location  total_deaths\n",
              "0     Laos           0.0"
            ]
          },
          "metadata": {
            "tags": []
          },
          "execution_count": 32
        }
      ]
    },
    {
      "cell_type": "markdown",
      "metadata": {
        "id": "c8-DhyezjzK6"
      },
      "source": [
        "--------------------------"
      ]
    },
    {
      "cell_type": "markdown",
      "metadata": {
        "id": "-vfav0H0jKkf"
      },
      "source": [
        "Which country is having highest number of deaths?"
      ]
    },
    {
      "cell_type": "code",
      "metadata": {
        "colab": {
          "base_uri": "https://localhost:8080/",
          "height": 81
        },
        "id": "Jvwvrn5DekF2",
        "outputId": "65056913-4610-4ebd-f5ac-3774c3543701"
      },
      "source": [
        "maximum_deaths"
      ],
      "execution_count": null,
      "outputs": [
        {
          "output_type": "execute_result",
          "data": {
            "text/html": [
              "<div>\n",
              "<style scoped>\n",
              "    .dataframe tbody tr th:only-of-type {\n",
              "        vertical-align: middle;\n",
              "    }\n",
              "\n",
              "    .dataframe tbody tr th {\n",
              "        vertical-align: top;\n",
              "    }\n",
              "\n",
              "    .dataframe thead th {\n",
              "        text-align: right;\n",
              "    }\n",
              "</style>\n",
              "<table border=\"1\" class=\"dataframe\">\n",
              "  <thead>\n",
              "    <tr style=\"text-align: right;\">\n",
              "      <th></th>\n",
              "      <th>location</th>\n",
              "      <th>total_deaths</th>\n",
              "    </tr>\n",
              "  </thead>\n",
              "  <tbody>\n",
              "    <tr>\n",
              "      <th>0</th>\n",
              "      <td>Europe</td>\n",
              "      <td>134516967.0</td>\n",
              "    </tr>\n",
              "  </tbody>\n",
              "</table>\n",
              "</div>"
            ],
            "text/plain": [
              "  location  total_deaths\n",
              "0   Europe   134516967.0"
            ]
          },
          "metadata": {
            "tags": []
          },
          "execution_count": 33
        }
      ]
    },
    {
      "cell_type": "markdown",
      "metadata": {
        "id": "AOpFGp3xj1TH"
      },
      "source": [
        "-------------------"
      ]
    },
    {
      "cell_type": "code",
      "metadata": {
        "id": "UWEU1jElFDQt"
      },
      "source": [
        "US_daily_data = data[data.location == \"United States\"][[\"total_cases\", \"total_deaths\"]]\n",
        "India_daily_data = data[data.location == \"India\"][[\"total_cases\", \"total_deaths\"]]\n",
        "Italy_daily_data = data[data.location == \"Italy\"][[\"total_cases\", \"total_deaths\"]]\n",
        "Europe_daily_data = data[data.location == \"Europe\"][[\"total_cases\", \"total_deaths\"]]"
      ],
      "execution_count": null,
      "outputs": []
    },
    {
      "cell_type": "code",
      "metadata": {
        "colab": {
          "base_uri": "https://localhost:8080/",
          "height": 532
        },
        "id": "N2GzrCxpGmAM",
        "outputId": "2af9544d-e73d-46b9-d88c-15e0a4182a7b"
      },
      "source": [
        "plt.figure(figsize=(15, 8))\n",
        "sns.lineplot(data=US_daily_data, x=\"total_cases\", y=\"total_deaths\").set_title('Total_deaths VS Total_cases (Historical Data)')\n",
        "sns.lineplot(data=India_daily_data, x=\"total_cases\", y=\"total_deaths\")\n",
        "sns.lineplot(data=Italy_daily_data, x=\"total_cases\", y=\"total_deaths\")\n",
        "sns.lineplot(data=Europe_daily_data, x=\"total_cases\", y=\"total_deaths\")\n",
        "plt.legend(labels=['US', 'INDIA', 'ITAY', 'EUROPE'])"
      ],
      "execution_count": null,
      "outputs": [
        {
          "output_type": "execute_result",
          "data": {
            "text/plain": [
              "<matplotlib.legend.Legend at 0x7f0c816b1d90>"
            ]
          },
          "metadata": {
            "tags": []
          },
          "execution_count": 35
        },
        {
          "output_type": "display_data",
          "data": {
            "image/png": "[encoded data removed]",
            "text/plain": [
              "<Figure size 1080x576 with 1 Axes>"
            ]
          },
          "metadata": {
            "tags": [],
            "needs_background": "light"
          }
        }
      ]
    },
    {
      "cell_type": "markdown",
      "metadata": {
        "id": "aoyGDspmmpq0"
      },
      "source": [
        "-------------------"
      ]
    },
    {
      "cell_type": "code",
      "metadata": {
        "colab": {
          "base_uri": "https://localhost:8080/",
          "height": 444
        },
        "id": "Ju2pblVfmrgX",
        "outputId": "9c008b5b-47f0-4d24-9e97-f31d54d24e72"
      },
      "source": [
        "data"
      ],
      "execution_count": null,
      "outputs": [
        {
          "output_type": "execute_result",
          "data": {
            "text/html": [
              "<div>\n",
              "<style scoped>\n",
              "    .dataframe tbody tr th:only-of-type {\n",
              "        vertical-align: middle;\n",
              "    }\n",
              "\n",
              "    .dataframe tbody tr th {\n",
              "        vertical-align: top;\n",
              "    }\n",
              "\n",
              "    .dataframe thead th {\n",
              "        text-align: right;\n",
              "    }\n",
              "</style>\n",
              "<table border=\"1\" class=\"dataframe\">\n",
              "  <thead>\n",
              "    <tr style=\"text-align: right;\">\n",
              "      <th></th>\n",
              "      <th>continent</th>\n",
              "      <th>location</th>\n",
              "      <th>date</th>\n",
              "      <th>total_cases</th>\n",
              "      <th>new_cases</th>\n",
              "      <th>total_deaths</th>\n",
              "      <th>new_deaths</th>\n",
              "      <th>total_cases_per_million</th>\n",
              "      <th>total_deaths_per_million</th>\n",
              "      <th>new_deaths_per_million</th>\n",
              "      <th>new_tests</th>\n",
              "      <th>total_tests</th>\n",
              "      <th>total_vaccinations</th>\n",
              "      <th>people_vaccinated</th>\n",
              "      <th>new_vaccinations</th>\n",
              "      <th>population</th>\n",
              "      <th>recovered</th>\n",
              "    </tr>\n",
              "  </thead>\n",
              "  <tbody>\n",
              "    <tr>\n",
              "      <th>0</th>\n",
              "      <td>Asia</td>\n",
              "      <td>Afghanistan</td>\n",
              "      <td>2020-02-24</td>\n",
              "      <td>1.0</td>\n",
              "      <td>1.0</td>\n",
              "      <td>0.0</td>\n",
              "      <td>0.0</td>\n",
              "      <td>0.026</td>\n",
              "      <td>0.000</td>\n",
              "      <td>0.000</td>\n",
              "      <td>0.0</td>\n",
              "      <td>0.0</td>\n",
              "      <td>0.0</td>\n",
              "      <td>0.0</td>\n",
              "      <td>0.0</td>\n",
              "      <td>38928341.0</td>\n",
              "      <td>1.0</td>\n",
              "    </tr>\n",
              "    <tr>\n",
              "      <th>1</th>\n",
              "      <td>Asia</td>\n",
              "      <td>Afghanistan</td>\n",
              "      <td>2020-02-25</td>\n",
              "      <td>1.0</td>\n",
              "      <td>0.0</td>\n",
              "      <td>0.0</td>\n",
              "      <td>0.0</td>\n",
              "      <td>0.026</td>\n",
              "      <td>0.000</td>\n",
              "      <td>0.000</td>\n",
              "      <td>0.0</td>\n",
              "      <td>0.0</td>\n",
              "      <td>0.0</td>\n",
              "      <td>0.0</td>\n",
              "      <td>0.0</td>\n",
              "      <td>38928341.0</td>\n",
              "      <td>1.0</td>\n",
              "    </tr>\n",
              "    <tr>\n",
              "      <th>2</th>\n",
              "      <td>Asia</td>\n",
              "      <td>Afghanistan</td>\n",
              "      <td>2020-02-26</td>\n",
              "      <td>1.0</td>\n",
              "      <td>0.0</td>\n",
              "      <td>0.0</td>\n",
              "      <td>0.0</td>\n",
              "      <td>0.026</td>\n",
              "      <td>0.000</td>\n",
              "      <td>0.000</td>\n",
              "      <td>0.0</td>\n",
              "      <td>0.0</td>\n",
              "      <td>0.0</td>\n",
              "      <td>0.0</td>\n",
              "      <td>0.0</td>\n",
              "      <td>38928341.0</td>\n",
              "      <td>1.0</td>\n",
              "    </tr>\n",
              "    <tr>\n",
              "      <th>3</th>\n",
              "      <td>Asia</td>\n",
              "      <td>Afghanistan</td>\n",
              "      <td>2020-02-27</td>\n",
              "      <td>1.0</td>\n",
              "      <td>0.0</td>\n",
              "      <td>0.0</td>\n",
              "      <td>0.0</td>\n",
              "      <td>0.026</td>\n",
              "      <td>0.000</td>\n",
              "      <td>0.000</td>\n",
              "      <td>0.0</td>\n",
              "      <td>0.0</td>\n",
              "      <td>0.0</td>\n",
              "      <td>0.0</td>\n",
              "      <td>0.0</td>\n",
              "      <td>38928341.0</td>\n",
              "      <td>1.0</td>\n",
              "    </tr>\n",
              "    <tr>\n",
              "      <th>4</th>\n",
              "      <td>Asia</td>\n",
              "      <td>Afghanistan</td>\n",
              "      <td>2020-02-28</td>\n",
              "      <td>1.0</td>\n",
              "      <td>0.0</td>\n",
              "      <td>0.0</td>\n",
              "      <td>0.0</td>\n",
              "      <td>0.026</td>\n",
              "      <td>0.000</td>\n",
              "      <td>0.000</td>\n",
              "      <td>0.0</td>\n",
              "      <td>0.0</td>\n",
              "      <td>0.0</td>\n",
              "      <td>0.0</td>\n",
              "      <td>0.0</td>\n",
              "      <td>38928341.0</td>\n",
              "      <td>1.0</td>\n",
              "    </tr>\n",
              "    <tr>\n",
              "      <th>...</th>\n",
              "      <td>...</td>\n",
              "      <td>...</td>\n",
              "      <td>...</td>\n",
              "      <td>...</td>\n",
              "      <td>...</td>\n",
              "      <td>...</td>\n",
              "      <td>...</td>\n",
              "      <td>...</td>\n",
              "      <td>...</td>\n",
              "      <td>...</td>\n",
              "      <td>...</td>\n",
              "      <td>...</td>\n",
              "      <td>...</td>\n",
              "      <td>...</td>\n",
              "      <td>...</td>\n",
              "      <td>...</td>\n",
              "      <td>...</td>\n",
              "    </tr>\n",
              "    <tr>\n",
              "      <th>79272</th>\n",
              "      <td>Africa</td>\n",
              "      <td>Zimbabwe</td>\n",
              "      <td>2021-03-30</td>\n",
              "      <td>36839.0</td>\n",
              "      <td>0.0</td>\n",
              "      <td>1520.0</td>\n",
              "      <td>0.0</td>\n",
              "      <td>2478.583</td>\n",
              "      <td>102.268</td>\n",
              "      <td>0.000</td>\n",
              "      <td>2675.0</td>\n",
              "      <td>435853.0</td>\n",
              "      <td>85866.0</td>\n",
              "      <td>72944.0</td>\n",
              "      <td>4256.0</td>\n",
              "      <td>14862927.0</td>\n",
              "      <td>35319.0</td>\n",
              "    </tr>\n",
              "    <tr>\n",
              "      <th>79273</th>\n",
              "      <td>Africa</td>\n",
              "      <td>Zimbabwe</td>\n",
              "      <td>2021-03-31</td>\n",
              "      <td>36882.0</td>\n",
              "      <td>43.0</td>\n",
              "      <td>1523.0</td>\n",
              "      <td>3.0</td>\n",
              "      <td>2481.476</td>\n",
              "      <td>102.470</td>\n",
              "      <td>0.202</td>\n",
              "      <td>1440.0</td>\n",
              "      <td>437293.0</td>\n",
              "      <td>91880.0</td>\n",
              "      <td>76995.0</td>\n",
              "      <td>6014.0</td>\n",
              "      <td>14862927.0</td>\n",
              "      <td>35359.0</td>\n",
              "    </tr>\n",
              "    <tr>\n",
              "      <th>79274</th>\n",
              "      <td>Africa</td>\n",
              "      <td>Zimbabwe</td>\n",
              "      <td>2021-04-01</td>\n",
              "      <td>36896.0</td>\n",
              "      <td>14.0</td>\n",
              "      <td>1523.0</td>\n",
              "      <td>0.0</td>\n",
              "      <td>2482.418</td>\n",
              "      <td>102.470</td>\n",
              "      <td>0.000</td>\n",
              "      <td>2337.0</td>\n",
              "      <td>439630.0</td>\n",
              "      <td>105307.0</td>\n",
              "      <td>87791.0</td>\n",
              "      <td>13427.0</td>\n",
              "      <td>14862927.0</td>\n",
              "      <td>35373.0</td>\n",
              "    </tr>\n",
              "    <tr>\n",
              "      <th>79275</th>\n",
              "      <td>Africa</td>\n",
              "      <td>Zimbabwe</td>\n",
              "      <td>2021-04-02</td>\n",
              "      <td>36903.0</td>\n",
              "      <td>7.0</td>\n",
              "      <td>1524.0</td>\n",
              "      <td>1.0</td>\n",
              "      <td>2482.889</td>\n",
              "      <td>102.537</td>\n",
              "      <td>0.067</td>\n",
              "      <td>0.0</td>\n",
              "      <td>0.0</td>\n",
              "      <td>124753.0</td>\n",
              "      <td>103815.0</td>\n",
              "      <td>19446.0</td>\n",
              "      <td>14862927.0</td>\n",
              "      <td>35379.0</td>\n",
              "    </tr>\n",
              "    <tr>\n",
              "      <th>79276</th>\n",
              "      <td>Africa</td>\n",
              "      <td>Zimbabwe</td>\n",
              "      <td>2021-04-03</td>\n",
              "      <td>36911.0</td>\n",
              "      <td>8.0</td>\n",
              "      <td>1524.0</td>\n",
              "      <td>0.0</td>\n",
              "      <td>2483.427</td>\n",
              "      <td>102.537</td>\n",
              "      <td>0.000</td>\n",
              "      <td>0.0</td>\n",
              "      <td>0.0</td>\n",
              "      <td>0.0</td>\n",
              "      <td>0.0</td>\n",
              "      <td>0.0</td>\n",
              "      <td>14862927.0</td>\n",
              "      <td>35387.0</td>\n",
              "    </tr>\n",
              "  </tbody>\n",
              "</table>\n",
              "<p>79277 rows × 17 columns</p>\n",
              "</div>"
            ],
            "text/plain": [
              "      continent     location  ...  population  recovered\n",
              "0          Asia  Afghanistan  ...  38928341.0        1.0\n",
              "1          Asia  Afghanistan  ...  38928341.0        1.0\n",
              "2          Asia  Afghanistan  ...  38928341.0        1.0\n",
              "3          Asia  Afghanistan  ...  38928341.0        1.0\n",
              "4          Asia  Afghanistan  ...  38928341.0        1.0\n",
              "...         ...          ...  ...         ...        ...\n",
              "79272    Africa     Zimbabwe  ...  14862927.0    35319.0\n",
              "79273    Africa     Zimbabwe  ...  14862927.0    35359.0\n",
              "79274    Africa     Zimbabwe  ...  14862927.0    35373.0\n",
              "79275    Africa     Zimbabwe  ...  14862927.0    35379.0\n",
              "79276    Africa     Zimbabwe  ...  14862927.0    35387.0\n",
              "\n",
              "[79277 rows x 17 columns]"
            ]
          },
          "metadata": {
            "tags": []
          },
          "execution_count": 36
        }
      ]
    },
    {
      "cell_type": "code",
      "metadata": {
        "id": "QO3G_k7XqFvb"
      },
      "source": [
        "US_recovered_data = data[data.location == \"United States\"][[\"recovered\", \"total_deaths\"]]\n",
        "India_recovered_data = data[data.location == \"India\"][[\"recovered\", \"total_deaths\"]]\n",
        "Italy_recovered_data = data[data.location == \"Italy\"][[\"recovered\",\"total_deaths\"]]\n",
        "Europe_recovered_data = data[data.location == \"Europe\"][[\"recovered\",\"total_deaths\"]]"
      ],
      "execution_count": null,
      "outputs": []
    },
    {
      "cell_type": "code",
      "metadata": {
        "colab": {
          "base_uri": "https://localhost:8080/",
          "height": 531
        },
        "id": "ZB3fnaxsqX5G",
        "outputId": "46dbebb5-bc2b-4784-8c19-51f9b5d0e755"
      },
      "source": [
        "plt.figure(figsize=(15, 8))\n",
        "sns.lineplot(data=US_recovered_data, x=\"recovered\", y=\"total_deaths\").set_title('recovered VS total_deaths (Historical Data)')\n",
        "sns.lineplot(data=India_recovered_data, x=\"recovered\", y=\"total_deaths\")\n",
        "sns.lineplot(data=Italy_recovered_data, x=\"recovered\", y=\"total_deaths\")\n",
        "sns.lineplot(data=Europe_recovered_data, x=\"recovered\", y=\"total_deaths\")\n",
        "plt.legend(labels=['US', 'INDIA', 'ITAY', 'EUROPE'])"
      ],
      "execution_count": null,
      "outputs": [
        {
          "output_type": "execute_result",
          "data": {
            "text/plain": [
              "<matplotlib.legend.Legend at 0x7f0c7eb14a10>"
            ]
          },
          "metadata": {
            "tags": []
          },
          "execution_count": 38
        },
        {
          "output_type": "display_data",
          "data": {
            "image/png": "[encoded data removed]",
            "text/plain": [
              "<Figure size 1080x576 with 1 Axes>"
            ]
          },
          "metadata": {
            "tags": [],
            "needs_background": "light"
          }
        }
      ]
    },
    {
      "cell_type": "markdown",
      "metadata": {
        "id": "lI7Z9s5fjIfl"
      },
      "source": [
        "There is very minor difference between the above two graphs."
      ]
    },
    {
      "cell_type": "markdown",
      "metadata": {
        "id": "TCCCTJsFw5lt"
      },
      "source": [
        "------------"
      ]
    },
    {
      "cell_type": "markdown",
      "metadata": {
        "id": "qZEeIiAojb4v"
      },
      "source": [
        "----"
      ]
    },
    {
      "cell_type": "markdown",
      "metadata": {
        "id": "MMhpiGIiwQyI"
      },
      "source": [
        "Link to the preprocessed data used for forecasting: https://drive.google.com/file/d/17ZMzFfzqljwQNrnyWhFMeimxtabJZ14q/view?usp=drivesdk"
      ]
    },
    {
      "cell_type": "markdown",
      "metadata": {
        "id": "xZlgS8Z3jdzc"
      },
      "source": [
        "# **Forecasting Part**"
      ]
    },
    {
      "cell_type": "code",
      "metadata": {
        "colab": {
          "base_uri": "https://localhost:8080/",
          "height": 244
        },
        "id": "wigfIo4sq2Ih",
        "outputId": "a23fd458-dc61-47df-b8d2-79227daff905"
      },
      "source": [
        "df1 = pd.read_excel('/content/drive/MyDrive/Data Science/new_data.xlsx')\n",
        "df1.head()"
      ],
      "execution_count": null,
      "outputs": [
        {
          "output_type": "execute_result",
          "data": {
            "text/html": [
              "<div>\n",
              "<style scoped>\n",
              "    .dataframe tbody tr th:only-of-type {\n",
              "        vertical-align: middle;\n",
              "    }\n",
              "\n",
              "    .dataframe tbody tr th {\n",
              "        vertical-align: top;\n",
              "    }\n",
              "\n",
              "    .dataframe thead th {\n",
              "        text-align: right;\n",
              "    }\n",
              "</style>\n",
              "<table border=\"1\" class=\"dataframe\">\n",
              "  <thead>\n",
              "    <tr style=\"text-align: right;\">\n",
              "      <th></th>\n",
              "      <th>Unnamed: 0</th>\n",
              "      <th>continent</th>\n",
              "      <th>location</th>\n",
              "      <th>date</th>\n",
              "      <th>total_cases</th>\n",
              "      <th>new_cases</th>\n",
              "      <th>total_deaths</th>\n",
              "      <th>new_deaths</th>\n",
              "      <th>total_cases_per_million</th>\n",
              "      <th>total_deaths_per_million</th>\n",
              "      <th>new_deaths_per_million</th>\n",
              "      <th>new_tests</th>\n",
              "      <th>total_tests</th>\n",
              "      <th>total_vaccinations</th>\n",
              "      <th>people_vaccinated</th>\n",
              "      <th>new_vaccinations</th>\n",
              "      <th>population</th>\n",
              "      <th>recovered</th>\n",
              "    </tr>\n",
              "  </thead>\n",
              "  <tbody>\n",
              "    <tr>\n",
              "      <th>0</th>\n",
              "      <td>0</td>\n",
              "      <td>Asia</td>\n",
              "      <td>Afghanistan</td>\n",
              "      <td>2020-02-24</td>\n",
              "      <td>1</td>\n",
              "      <td>1</td>\n",
              "      <td>0</td>\n",
              "      <td>0</td>\n",
              "      <td>0.026</td>\n",
              "      <td>0.0</td>\n",
              "      <td>0.0</td>\n",
              "      <td>0</td>\n",
              "      <td>0</td>\n",
              "      <td>0</td>\n",
              "      <td>0</td>\n",
              "      <td>0</td>\n",
              "      <td>38928341</td>\n",
              "      <td>1</td>\n",
              "    </tr>\n",
              "    <tr>\n",
              "      <th>1</th>\n",
              "      <td>1</td>\n",
              "      <td>Asia</td>\n",
              "      <td>Afghanistan</td>\n",
              "      <td>2020-02-25</td>\n",
              "      <td>1</td>\n",
              "      <td>0</td>\n",
              "      <td>0</td>\n",
              "      <td>0</td>\n",
              "      <td>0.026</td>\n",
              "      <td>0.0</td>\n",
              "      <td>0.0</td>\n",
              "      <td>0</td>\n",
              "      <td>0</td>\n",
              "      <td>0</td>\n",
              "      <td>0</td>\n",
              "      <td>0</td>\n",
              "      <td>38928341</td>\n",
              "      <td>1</td>\n",
              "    </tr>\n",
              "    <tr>\n",
              "      <th>2</th>\n",
              "      <td>2</td>\n",
              "      <td>Asia</td>\n",
              "      <td>Afghanistan</td>\n",
              "      <td>2020-02-26</td>\n",
              "      <td>1</td>\n",
              "      <td>0</td>\n",
              "      <td>0</td>\n",
              "      <td>0</td>\n",
              "      <td>0.026</td>\n",
              "      <td>0.0</td>\n",
              "      <td>0.0</td>\n",
              "      <td>0</td>\n",
              "      <td>0</td>\n",
              "      <td>0</td>\n",
              "      <td>0</td>\n",
              "      <td>0</td>\n",
              "      <td>38928341</td>\n",
              "      <td>1</td>\n",
              "    </tr>\n",
              "    <tr>\n",
              "      <th>3</th>\n",
              "      <td>3</td>\n",
              "      <td>Asia</td>\n",
              "      <td>Afghanistan</td>\n",
              "      <td>2020-02-27</td>\n",
              "      <td>1</td>\n",
              "      <td>0</td>\n",
              "      <td>0</td>\n",
              "      <td>0</td>\n",
              "      <td>0.026</td>\n",
              "      <td>0.0</td>\n",
              "      <td>0.0</td>\n",
              "      <td>0</td>\n",
              "      <td>0</td>\n",
              "      <td>0</td>\n",
              "      <td>0</td>\n",
              "      <td>0</td>\n",
              "      <td>38928341</td>\n",
              "      <td>1</td>\n",
              "    </tr>\n",
              "    <tr>\n",
              "      <th>4</th>\n",
              "      <td>4</td>\n",
              "      <td>Asia</td>\n",
              "      <td>Afghanistan</td>\n",
              "      <td>2020-02-28</td>\n",
              "      <td>1</td>\n",
              "      <td>0</td>\n",
              "      <td>0</td>\n",
              "      <td>0</td>\n",
              "      <td>0.026</td>\n",
              "      <td>0.0</td>\n",
              "      <td>0.0</td>\n",
              "      <td>0</td>\n",
              "      <td>0</td>\n",
              "      <td>0</td>\n",
              "      <td>0</td>\n",
              "      <td>0</td>\n",
              "      <td>38928341</td>\n",
              "      <td>1</td>\n",
              "    </tr>\n",
              "  </tbody>\n",
              "</table>\n",
              "</div>"
            ],
            "text/plain": [
              "   Unnamed: 0 continent     location  ... new_vaccinations  population  recovered\n",
              "0           0      Asia  Afghanistan  ...                0    38928341          1\n",
              "1           1      Asia  Afghanistan  ...                0    38928341          1\n",
              "2           2      Asia  Afghanistan  ...                0    38928341          1\n",
              "3           3      Asia  Afghanistan  ...                0    38928341          1\n",
              "4           4      Asia  Afghanistan  ...                0    38928341          1\n",
              "\n",
              "[5 rows x 18 columns]"
            ]
          },
          "metadata": {
            "tags": []
          },
          "execution_count": 95
        }
      ]
    },
    {
      "cell_type": "code",
      "metadata": {
        "colab": {
          "base_uri": "https://localhost:8080/"
        },
        "id": "Js6lrA_0yL_1",
        "outputId": "ebf484ce-1438-4ffd-b36b-2a2fb0c53f05"
      },
      "source": [
        "df1.info()"
      ],
      "execution_count": null,
      "outputs": [
        {
          "output_type": "stream",
          "text": [
            "<class 'pandas.core.frame.DataFrame'>\n",
            "RangeIndex: 79277 entries, 0 to 79276\n",
            "Data columns (total 18 columns):\n",
            " #   Column                    Non-Null Count  Dtype  \n",
            "---  ------                    --------------  -----  \n",
            " 0   Unnamed: 0                79277 non-null  int64  \n",
            " 1   continent                 79277 non-null  object \n",
            " 2   location                  79277 non-null  object \n",
            " 3   date                      79277 non-null  object \n",
            " 4   total_cases               79277 non-null  int64  \n",
            " 5   new_cases                 79277 non-null  int64  \n",
            " 6   total_deaths              79277 non-null  int64  \n",
            " 7   new_deaths                79277 non-null  int64  \n",
            " 8   total_cases_per_million   79277 non-null  float64\n",
            " 9   total_deaths_per_million  79277 non-null  float64\n",
            " 10  new_deaths_per_million    79277 non-null  float64\n",
            " 11  new_tests                 79277 non-null  int64  \n",
            " 12  total_tests               79277 non-null  int64  \n",
            " 13  total_vaccinations        79277 non-null  int64  \n",
            " 14  people_vaccinated         79277 non-null  int64  \n",
            " 15  new_vaccinations          79277 non-null  int64  \n",
            " 16  population                79277 non-null  int64  \n",
            " 17  recovered                 79277 non-null  int64  \n",
            "dtypes: float64(3), int64(12), object(3)\n",
            "memory usage: 10.9+ MB\n"
          ],
          "name": "stdout"
        }
      ]
    },
    {
      "cell_type": "code",
      "metadata": {
        "colab": {
          "base_uri": "https://localhost:8080/"
        },
        "id": "vOXp-Vbz4aq2",
        "outputId": "2ad356f3-9ab2-4aac-8772-4adc763a044d"
      },
      "source": [
        "df1.pop('Unnamed: 0')"
      ],
      "execution_count": null,
      "outputs": [
        {
          "output_type": "execute_result",
          "data": {
            "text/plain": [
              "0            0\n",
              "1            1\n",
              "2            2\n",
              "3            3\n",
              "4            4\n",
              "         ...  \n",
              "79272    79272\n",
              "79273    79273\n",
              "79274    79274\n",
              "79275    79275\n",
              "79276    79276\n",
              "Name: Unnamed: 0, Length: 79277, dtype: int64"
            ]
          },
          "metadata": {
            "tags": []
          },
          "execution_count": 97
        }
      ]
    },
    {
      "cell_type": "code",
      "metadata": {
        "colab": {
          "base_uri": "https://localhost:8080/",
          "height": 444
        },
        "id": "fU1UVJh47NBF",
        "outputId": "598246e4-26fb-408d-f090-4ea3390b3ad1"
      },
      "source": [
        "df1"
      ],
      "execution_count": null,
      "outputs": [
        {
          "output_type": "execute_result",
          "data": {
            "text/html": [
              "<div>\n",
              "<style scoped>\n",
              "    .dataframe tbody tr th:only-of-type {\n",
              "        vertical-align: middle;\n",
              "    }\n",
              "\n",
              "    .dataframe tbody tr th {\n",
              "        vertical-align: top;\n",
              "    }\n",
              "\n",
              "    .dataframe thead th {\n",
              "        text-align: right;\n",
              "    }\n",
              "</style>\n",
              "<table border=\"1\" class=\"dataframe\">\n",
              "  <thead>\n",
              "    <tr style=\"text-align: right;\">\n",
              "      <th></th>\n",
              "      <th>continent</th>\n",
              "      <th>location</th>\n",
              "      <th>date</th>\n",
              "      <th>total_cases</th>\n",
              "      <th>new_cases</th>\n",
              "      <th>total_deaths</th>\n",
              "      <th>new_deaths</th>\n",
              "      <th>total_cases_per_million</th>\n",
              "      <th>total_deaths_per_million</th>\n",
              "      <th>new_deaths_per_million</th>\n",
              "      <th>new_tests</th>\n",
              "      <th>total_tests</th>\n",
              "      <th>total_vaccinations</th>\n",
              "      <th>people_vaccinated</th>\n",
              "      <th>new_vaccinations</th>\n",
              "      <th>population</th>\n",
              "      <th>recovered</th>\n",
              "    </tr>\n",
              "  </thead>\n",
              "  <tbody>\n",
              "    <tr>\n",
              "      <th>0</th>\n",
              "      <td>Asia</td>\n",
              "      <td>Afghanistan</td>\n",
              "      <td>2020-02-24</td>\n",
              "      <td>1</td>\n",
              "      <td>1</td>\n",
              "      <td>0</td>\n",
              "      <td>0</td>\n",
              "      <td>0.026</td>\n",
              "      <td>0.000</td>\n",
              "      <td>0.000</td>\n",
              "      <td>0</td>\n",
              "      <td>0</td>\n",
              "      <td>0</td>\n",
              "      <td>0</td>\n",
              "      <td>0</td>\n",
              "      <td>38928341</td>\n",
              "      <td>1</td>\n",
              "    </tr>\n",
              "    <tr>\n",
              "      <th>1</th>\n",
              "      <td>Asia</td>\n",
              "      <td>Afghanistan</td>\n",
              "      <td>2020-02-25</td>\n",
              "      <td>1</td>\n",
              "      <td>0</td>\n",
              "      <td>0</td>\n",
              "      <td>0</td>\n",
              "      <td>0.026</td>\n",
              "      <td>0.000</td>\n",
              "      <td>0.000</td>\n",
              "      <td>0</td>\n",
              "      <td>0</td>\n",
              "      <td>0</td>\n",
              "      <td>0</td>\n",
              "      <td>0</td>\n",
              "      <td>38928341</td>\n",
              "      <td>1</td>\n",
              "    </tr>\n",
              "    <tr>\n",
              "      <th>2</th>\n",
              "      <td>Asia</td>\n",
              "      <td>Afghanistan</td>\n",
              "      <td>2020-02-26</td>\n",
              "      <td>1</td>\n",
              "      <td>0</td>\n",
              "      <td>0</td>\n",
              "      <td>0</td>\n",
              "      <td>0.026</td>\n",
              "      <td>0.000</td>\n",
              "      <td>0.000</td>\n",
              "      <td>0</td>\n",
              "      <td>0</td>\n",
              "      <td>0</td>\n",
              "      <td>0</td>\n",
              "      <td>0</td>\n",
              "      <td>38928341</td>\n",
              "      <td>1</td>\n",
              "    </tr>\n",
              "    <tr>\n",
              "      <th>3</th>\n",
              "      <td>Asia</td>\n",
              "      <td>Afghanistan</td>\n",
              "      <td>2020-02-27</td>\n",
              "      <td>1</td>\n",
              "      <td>0</td>\n",
              "      <td>0</td>\n",
              "      <td>0</td>\n",
              "      <td>0.026</td>\n",
              "      <td>0.000</td>\n",
              "      <td>0.000</td>\n",
              "      <td>0</td>\n",
              "      <td>0</td>\n",
              "      <td>0</td>\n",
              "      <td>0</td>\n",
              "      <td>0</td>\n",
              "      <td>38928341</td>\n",
              "      <td>1</td>\n",
              "    </tr>\n",
              "    <tr>\n",
              "      <th>4</th>\n",
              "      <td>Asia</td>\n",
              "      <td>Afghanistan</td>\n",
              "      <td>2020-02-28</td>\n",
              "      <td>1</td>\n",
              "      <td>0</td>\n",
              "      <td>0</td>\n",
              "      <td>0</td>\n",
              "      <td>0.026</td>\n",
              "      <td>0.000</td>\n",
              "      <td>0.000</td>\n",
              "      <td>0</td>\n",
              "      <td>0</td>\n",
              "      <td>0</td>\n",
              "      <td>0</td>\n",
              "      <td>0</td>\n",
              "      <td>38928341</td>\n",
              "      <td>1</td>\n",
              "    </tr>\n",
              "    <tr>\n",
              "      <th>...</th>\n",
              "      <td>...</td>\n",
              "      <td>...</td>\n",
              "      <td>...</td>\n",
              "      <td>...</td>\n",
              "      <td>...</td>\n",
              "      <td>...</td>\n",
              "      <td>...</td>\n",
              "      <td>...</td>\n",
              "      <td>...</td>\n",
              "      <td>...</td>\n",
              "      <td>...</td>\n",
              "      <td>...</td>\n",
              "      <td>...</td>\n",
              "      <td>...</td>\n",
              "      <td>...</td>\n",
              "      <td>...</td>\n",
              "      <td>...</td>\n",
              "    </tr>\n",
              "    <tr>\n",
              "      <th>79272</th>\n",
              "      <td>Africa</td>\n",
              "      <td>Zimbabwe</td>\n",
              "      <td>2021-03-30</td>\n",
              "      <td>36839</td>\n",
              "      <td>0</td>\n",
              "      <td>1520</td>\n",
              "      <td>0</td>\n",
              "      <td>2478.583</td>\n",
              "      <td>102.268</td>\n",
              "      <td>0.000</td>\n",
              "      <td>2675</td>\n",
              "      <td>435853</td>\n",
              "      <td>85866</td>\n",
              "      <td>72944</td>\n",
              "      <td>4256</td>\n",
              "      <td>14862927</td>\n",
              "      <td>35319</td>\n",
              "    </tr>\n",
              "    <tr>\n",
              "      <th>79273</th>\n",
              "      <td>Africa</td>\n",
              "      <td>Zimbabwe</td>\n",
              "      <td>2021-03-31</td>\n",
              "      <td>36882</td>\n",
              "      <td>43</td>\n",
              "      <td>1523</td>\n",
              "      <td>3</td>\n",
              "      <td>2481.476</td>\n",
              "      <td>102.470</td>\n",
              "      <td>0.202</td>\n",
              "      <td>1440</td>\n",
              "      <td>437293</td>\n",
              "      <td>91880</td>\n",
              "      <td>76995</td>\n",
              "      <td>6014</td>\n",
              "      <td>14862927</td>\n",
              "      <td>35359</td>\n",
              "    </tr>\n",
              "    <tr>\n",
              "      <th>79274</th>\n",
              "      <td>Africa</td>\n",
              "      <td>Zimbabwe</td>\n",
              "      <td>2021-04-01</td>\n",
              "      <td>36896</td>\n",
              "      <td>14</td>\n",
              "      <td>1523</td>\n",
              "      <td>0</td>\n",
              "      <td>2482.418</td>\n",
              "      <td>102.470</td>\n",
              "      <td>0.000</td>\n",
              "      <td>2337</td>\n",
              "      <td>439630</td>\n",
              "      <td>105307</td>\n",
              "      <td>87791</td>\n",
              "      <td>13427</td>\n",
              "      <td>14862927</td>\n",
              "      <td>35373</td>\n",
              "    </tr>\n",
              "    <tr>\n",
              "      <th>79275</th>\n",
              "      <td>Africa</td>\n",
              "      <td>Zimbabwe</td>\n",
              "      <td>2021-04-02</td>\n",
              "      <td>36903</td>\n",
              "      <td>7</td>\n",
              "      <td>1524</td>\n",
              "      <td>1</td>\n",
              "      <td>2482.889</td>\n",
              "      <td>102.537</td>\n",
              "      <td>0.067</td>\n",
              "      <td>0</td>\n",
              "      <td>0</td>\n",
              "      <td>124753</td>\n",
              "      <td>103815</td>\n",
              "      <td>19446</td>\n",
              "      <td>14862927</td>\n",
              "      <td>35379</td>\n",
              "    </tr>\n",
              "    <tr>\n",
              "      <th>79276</th>\n",
              "      <td>Africa</td>\n",
              "      <td>Zimbabwe</td>\n",
              "      <td>2021-04-03</td>\n",
              "      <td>36911</td>\n",
              "      <td>8</td>\n",
              "      <td>1524</td>\n",
              "      <td>0</td>\n",
              "      <td>2483.427</td>\n",
              "      <td>102.537</td>\n",
              "      <td>0.000</td>\n",
              "      <td>0</td>\n",
              "      <td>0</td>\n",
              "      <td>0</td>\n",
              "      <td>0</td>\n",
              "      <td>0</td>\n",
              "      <td>14862927</td>\n",
              "      <td>35387</td>\n",
              "    </tr>\n",
              "  </tbody>\n",
              "</table>\n",
              "<p>79277 rows × 17 columns</p>\n",
              "</div>"
            ],
            "text/plain": [
              "      continent     location  ... population  recovered\n",
              "0          Asia  Afghanistan  ...   38928341          1\n",
              "1          Asia  Afghanistan  ...   38928341          1\n",
              "2          Asia  Afghanistan  ...   38928341          1\n",
              "3          Asia  Afghanistan  ...   38928341          1\n",
              "4          Asia  Afghanistan  ...   38928341          1\n",
              "...         ...          ...  ...        ...        ...\n",
              "79272    Africa     Zimbabwe  ...   14862927      35319\n",
              "79273    Africa     Zimbabwe  ...   14862927      35359\n",
              "79274    Africa     Zimbabwe  ...   14862927      35373\n",
              "79275    Africa     Zimbabwe  ...   14862927      35379\n",
              "79276    Africa     Zimbabwe  ...   14862927      35387\n",
              "\n",
              "[79277 rows x 17 columns]"
            ]
          },
          "metadata": {
            "tags": []
          },
          "execution_count": 72
        }
      ]
    },
    {
      "cell_type": "code",
      "metadata": {
        "colab": {
          "base_uri": "https://localhost:8080/"
        },
        "id": "ktSBKdaQAyma",
        "outputId": "78d1362a-3bba-42af-9936-eef848887336"
      },
      "source": [
        "df1['date'] = pd.to_datetime(df1['date'])\n",
        "df1['total_cases'] = df1['total_cases'].astype(int)\n",
        "df1.info()"
      ],
      "execution_count": null,
      "outputs": [
        {
          "output_type": "stream",
          "text": [
            "<class 'pandas.core.frame.DataFrame'>\n",
            "RangeIndex: 79277 entries, 0 to 79276\n",
            "Data columns (total 17 columns):\n",
            " #   Column                    Non-Null Count  Dtype         \n",
            "---  ------                    --------------  -----         \n",
            " 0   continent                 79277 non-null  object        \n",
            " 1   location                  79277 non-null  object        \n",
            " 2   date                      79277 non-null  datetime64[ns]\n",
            " 3   total_cases               79277 non-null  int64         \n",
            " 4   new_cases                 79277 non-null  int64         \n",
            " 5   total_deaths              79277 non-null  int64         \n",
            " 6   new_deaths                79277 non-null  int64         \n",
            " 7   total_cases_per_million   79277 non-null  float64       \n",
            " 8   total_deaths_per_million  79277 non-null  float64       \n",
            " 9   new_deaths_per_million    79277 non-null  float64       \n",
            " 10  new_tests                 79277 non-null  int64         \n",
            " 11  total_tests               79277 non-null  int64         \n",
            " 12  total_vaccinations        79277 non-null  int64         \n",
            " 13  people_vaccinated         79277 non-null  int64         \n",
            " 14  new_vaccinations          79277 non-null  int64         \n",
            " 15  population                79277 non-null  int64         \n",
            " 16  recovered                 79277 non-null  int64         \n",
            "dtypes: datetime64[ns](1), float64(3), int64(11), object(2)\n",
            "memory usage: 10.3+ MB\n"
          ],
          "name": "stdout"
        }
      ]
    },
    {
      "cell_type": "code",
      "metadata": {
        "id": "76jPvjma9ep-"
      },
      "source": [
        "dfin=df1.loc[df1['location'] == 'India', ['date', 'total_cases']]"
      ],
      "execution_count": null,
      "outputs": []
    },
    {
      "cell_type": "code",
      "metadata": {
        "id": "PlJ-MBFL_3f3"
      },
      "source": [
        "dfus=df1.loc[df1['location'] == 'United States', ['date', 'total_cases']]"
      ],
      "execution_count": null,
      "outputs": []
    },
    {
      "cell_type": "code",
      "metadata": {
        "id": "NtdQEWib_9Au"
      },
      "source": [
        "dfeu=df1.loc[df1['location'] == 'Europe', ['date', 'total_cases']]"
      ],
      "execution_count": null,
      "outputs": []
    },
    {
      "cell_type": "code",
      "metadata": {
        "colab": {
          "base_uri": "https://localhost:8080/",
          "height": 424
        },
        "id": "HubEpmSJ8X2J",
        "outputId": "17b4c0c7-4d0c-4a05-edde-175c7385a126"
      },
      "source": [
        "dfin"
      ],
      "execution_count": null,
      "outputs": [
        {
          "output_type": "execute_result",
          "data": {
            "text/html": [
              "<div>\n",
              "<style scoped>\n",
              "    .dataframe tbody tr th:only-of-type {\n",
              "        vertical-align: middle;\n",
              "    }\n",
              "\n",
              "    .dataframe tbody tr th {\n",
              "        vertical-align: top;\n",
              "    }\n",
              "\n",
              "    .dataframe thead th {\n",
              "        text-align: right;\n",
              "    }\n",
              "</style>\n",
              "<table border=\"1\" class=\"dataframe\">\n",
              "  <thead>\n",
              "    <tr style=\"text-align: right;\">\n",
              "      <th></th>\n",
              "      <th>date</th>\n",
              "      <th>total_cases</th>\n",
              "    </tr>\n",
              "  </thead>\n",
              "  <tbody>\n",
              "    <tr>\n",
              "      <th>32525</th>\n",
              "      <td>2020-01-30</td>\n",
              "      <td>1</td>\n",
              "    </tr>\n",
              "    <tr>\n",
              "      <th>32526</th>\n",
              "      <td>2020-01-31</td>\n",
              "      <td>1</td>\n",
              "    </tr>\n",
              "    <tr>\n",
              "      <th>32527</th>\n",
              "      <td>2020-02-01</td>\n",
              "      <td>1</td>\n",
              "    </tr>\n",
              "    <tr>\n",
              "      <th>32528</th>\n",
              "      <td>2020-02-02</td>\n",
              "      <td>2</td>\n",
              "    </tr>\n",
              "    <tr>\n",
              "      <th>32529</th>\n",
              "      <td>2020-02-03</td>\n",
              "      <td>3</td>\n",
              "    </tr>\n",
              "    <tr>\n",
              "      <th>...</th>\n",
              "      <td>...</td>\n",
              "      <td>...</td>\n",
              "    </tr>\n",
              "    <tr>\n",
              "      <th>32950</th>\n",
              "      <td>2021-03-30</td>\n",
              "      <td>12149335</td>\n",
              "    </tr>\n",
              "    <tr>\n",
              "      <th>32951</th>\n",
              "      <td>2021-03-31</td>\n",
              "      <td>12221665</td>\n",
              "    </tr>\n",
              "    <tr>\n",
              "      <th>32952</th>\n",
              "      <td>2021-04-01</td>\n",
              "      <td>12303131</td>\n",
              "    </tr>\n",
              "    <tr>\n",
              "      <th>32953</th>\n",
              "      <td>2021-04-02</td>\n",
              "      <td>12392260</td>\n",
              "    </tr>\n",
              "    <tr>\n",
              "      <th>32954</th>\n",
              "      <td>2021-04-03</td>\n",
              "      <td>12392260</td>\n",
              "    </tr>\n",
              "  </tbody>\n",
              "</table>\n",
              "<p>430 rows × 2 columns</p>\n",
              "</div>"
            ],
            "text/plain": [
              "            date  total_cases\n",
              "32525 2020-01-30            1\n",
              "32526 2020-01-31            1\n",
              "32527 2020-02-01            1\n",
              "32528 2020-02-02            2\n",
              "32529 2020-02-03            3\n",
              "...          ...          ...\n",
              "32950 2021-03-30     12149335\n",
              "32951 2021-03-31     12221665\n",
              "32952 2021-04-01     12303131\n",
              "32953 2021-04-02     12392260\n",
              "32954 2021-04-03     12392260\n",
              "\n",
              "[430 rows x 2 columns]"
            ]
          },
          "metadata": {
            "tags": []
          },
          "execution_count": 77
        }
      ]
    },
    {
      "cell_type": "code",
      "metadata": {
        "colab": {
          "base_uri": "https://localhost:8080/",
          "height": 424
        },
        "id": "mggwygV2AZp7",
        "outputId": "0b33888b-dd8e-4ca2-b932-096e9110af49"
      },
      "source": [
        "dfus"
      ],
      "execution_count": null,
      "outputs": [
        {
          "output_type": "execute_result",
          "data": {
            "text/html": [
              "<div>\n",
              "<style scoped>\n",
              "    .dataframe tbody tr th:only-of-type {\n",
              "        vertical-align: middle;\n",
              "    }\n",
              "\n",
              "    .dataframe tbody tr th {\n",
              "        vertical-align: top;\n",
              "    }\n",
              "\n",
              "    .dataframe thead th {\n",
              "        text-align: right;\n",
              "    }\n",
              "</style>\n",
              "<table border=\"1\" class=\"dataframe\">\n",
              "  <thead>\n",
              "    <tr style=\"text-align: right;\">\n",
              "      <th></th>\n",
              "      <th>date</th>\n",
              "      <th>total_cases</th>\n",
              "    </tr>\n",
              "  </thead>\n",
              "  <tbody>\n",
              "    <tr>\n",
              "      <th>75146</th>\n",
              "      <td>2020-01-22</td>\n",
              "      <td>1</td>\n",
              "    </tr>\n",
              "    <tr>\n",
              "      <th>75147</th>\n",
              "      <td>2020-01-23</td>\n",
              "      <td>1</td>\n",
              "    </tr>\n",
              "    <tr>\n",
              "      <th>75148</th>\n",
              "      <td>2020-01-24</td>\n",
              "      <td>2</td>\n",
              "    </tr>\n",
              "    <tr>\n",
              "      <th>75149</th>\n",
              "      <td>2020-01-25</td>\n",
              "      <td>2</td>\n",
              "    </tr>\n",
              "    <tr>\n",
              "      <th>75150</th>\n",
              "      <td>2020-01-26</td>\n",
              "      <td>5</td>\n",
              "    </tr>\n",
              "    <tr>\n",
              "      <th>...</th>\n",
              "      <td>...</td>\n",
              "      <td>...</td>\n",
              "    </tr>\n",
              "    <tr>\n",
              "      <th>75579</th>\n",
              "      <td>2021-03-30</td>\n",
              "      <td>30393805</td>\n",
              "    </tr>\n",
              "    <tr>\n",
              "      <th>75580</th>\n",
              "      <td>2021-03-31</td>\n",
              "      <td>30460834</td>\n",
              "    </tr>\n",
              "    <tr>\n",
              "      <th>75581</th>\n",
              "      <td>2021-04-01</td>\n",
              "      <td>30539868</td>\n",
              "    </tr>\n",
              "    <tr>\n",
              "      <th>75582</th>\n",
              "      <td>2021-04-02</td>\n",
              "      <td>30609690</td>\n",
              "    </tr>\n",
              "    <tr>\n",
              "      <th>75583</th>\n",
              "      <td>2021-04-03</td>\n",
              "      <td>30671844</td>\n",
              "    </tr>\n",
              "  </tbody>\n",
              "</table>\n",
              "<p>438 rows × 2 columns</p>\n",
              "</div>"
            ],
            "text/plain": [
              "            date  total_cases\n",
              "75146 2020-01-22            1\n",
              "75147 2020-01-23            1\n",
              "75148 2020-01-24            2\n",
              "75149 2020-01-25            2\n",
              "75150 2020-01-26            5\n",
              "...          ...          ...\n",
              "75579 2021-03-30     30393805\n",
              "75580 2021-03-31     30460834\n",
              "75581 2021-04-01     30539868\n",
              "75582 2021-04-02     30609690\n",
              "75583 2021-04-03     30671844\n",
              "\n",
              "[438 rows x 2 columns]"
            ]
          },
          "metadata": {
            "tags": []
          },
          "execution_count": 78
        }
      ]
    },
    {
      "cell_type": "code",
      "metadata": {
        "colab": {
          "base_uri": "https://localhost:8080/",
          "height": 424
        },
        "id": "m6D5nW7DAccm",
        "outputId": "e74bb90c-d3e6-4075-8107-04db5bdd09a0"
      },
      "source": [
        "dfeu"
      ],
      "execution_count": null,
      "outputs": [
        {
          "output_type": "execute_result",
          "data": {
            "text/html": [
              "<div>\n",
              "<style scoped>\n",
              "    .dataframe tbody tr th:only-of-type {\n",
              "        vertical-align: middle;\n",
              "    }\n",
              "\n",
              "    .dataframe tbody tr th {\n",
              "        vertical-align: top;\n",
              "    }\n",
              "\n",
              "    .dataframe thead th {\n",
              "        text-align: right;\n",
              "    }\n",
              "</style>\n",
              "<table border=\"1\" class=\"dataframe\">\n",
              "  <thead>\n",
              "    <tr style=\"text-align: right;\">\n",
              "      <th></th>\n",
              "      <th>date</th>\n",
              "      <th>total_cases</th>\n",
              "    </tr>\n",
              "  </thead>\n",
              "  <tbody>\n",
              "    <tr>\n",
              "      <th>24043</th>\n",
              "      <td>2020-01-23</td>\n",
              "      <td>0</td>\n",
              "    </tr>\n",
              "    <tr>\n",
              "      <th>24044</th>\n",
              "      <td>2020-01-24</td>\n",
              "      <td>2</td>\n",
              "    </tr>\n",
              "    <tr>\n",
              "      <th>24045</th>\n",
              "      <td>2020-01-25</td>\n",
              "      <td>3</td>\n",
              "    </tr>\n",
              "    <tr>\n",
              "      <th>24046</th>\n",
              "      <td>2020-01-26</td>\n",
              "      <td>3</td>\n",
              "    </tr>\n",
              "    <tr>\n",
              "      <th>24047</th>\n",
              "      <td>2020-01-27</td>\n",
              "      <td>4</td>\n",
              "    </tr>\n",
              "    <tr>\n",
              "      <th>...</th>\n",
              "      <td>...</td>\n",
              "      <td>...</td>\n",
              "    </tr>\n",
              "    <tr>\n",
              "      <th>24475</th>\n",
              "      <td>2021-03-30</td>\n",
              "      <td>39592373</td>\n",
              "    </tr>\n",
              "    <tr>\n",
              "      <th>24476</th>\n",
              "      <td>2021-03-31</td>\n",
              "      <td>39848358</td>\n",
              "    </tr>\n",
              "    <tr>\n",
              "      <th>24477</th>\n",
              "      <td>2021-04-01</td>\n",
              "      <td>40099507</td>\n",
              "    </tr>\n",
              "    <tr>\n",
              "      <th>24478</th>\n",
              "      <td>2021-04-02</td>\n",
              "      <td>40316339</td>\n",
              "    </tr>\n",
              "    <tr>\n",
              "      <th>24479</th>\n",
              "      <td>2021-04-03</td>\n",
              "      <td>40469351</td>\n",
              "    </tr>\n",
              "  </tbody>\n",
              "</table>\n",
              "<p>437 rows × 2 columns</p>\n",
              "</div>"
            ],
            "text/plain": [
              "            date  total_cases\n",
              "24043 2020-01-23            0\n",
              "24044 2020-01-24            2\n",
              "24045 2020-01-25            3\n",
              "24046 2020-01-26            3\n",
              "24047 2020-01-27            4\n",
              "...          ...          ...\n",
              "24475 2021-03-30     39592373\n",
              "24476 2021-03-31     39848358\n",
              "24477 2021-04-01     40099507\n",
              "24478 2021-04-02     40316339\n",
              "24479 2021-04-03     40469351\n",
              "\n",
              "[437 rows x 2 columns]"
            ]
          },
          "metadata": {
            "tags": []
          },
          "execution_count": 79
        }
      ]
    },
    {
      "cell_type": "code",
      "metadata": {
        "colab": {
          "base_uri": "https://localhost:8080/",
          "height": 300
        },
        "id": "nISlFKjy8qq5",
        "outputId": "9404300d-68fd-4e08-c496-1517f80edacf"
      },
      "source": [
        "plt.figure(figsize=(18,5))\n",
        "plt.plot(dfin['date'],dfin['total_cases'])\n",
        "plt.plot(dfus['date'],dfus['total_cases'])\n",
        "plt.plot(dfeu['date'],dfeu['total_cases'])\n",
        "plt.show()"
      ],
      "execution_count": null,
      "outputs": [
        {
          "output_type": "display_data",
          "data": {
            "image/png": "[encoded data removed]",
            "text/plain": [
              "<Figure size 1296x360 with 1 Axes>"
            ]
          },
          "metadata": {
            "tags": [],
            "needs_background": "light"
          }
        }
      ]
    },
    {
      "cell_type": "code",
      "metadata": {
        "id": "VAnl023X8_PL"
      },
      "source": [
        "from fbprophet import Prophet"
      ],
      "execution_count": null,
      "outputs": []
    },
    {
      "cell_type": "code",
      "metadata": {
        "id": "H3LrSjF7DJlv"
      },
      "source": [
        "dfin = dfin.rename(columns={'date':'ds','total_cases':'y'})\n",
        "dfus = dfus.rename(columns={'date':'ds','total_cases':'y'})\n",
        "dfeu = dfeu.rename(columns={'date':'ds','total_cases':'y'})"
      ],
      "execution_count": null,
      "outputs": []
    },
    {
      "cell_type": "code",
      "metadata": {
        "colab": {
          "base_uri": "https://localhost:8080/"
        },
        "id": "mvlS5haHCgFy",
        "outputId": "57fabb99-f247-4e19-d975-c9ed61e6b0f5"
      },
      "source": [
        "model = Prophet(changepoint_prior_scale=1)\n",
        "model.fit(dfin)\n",
        "forecast = model.make_future_dataframe(periods=30,freq='D')\n",
        "forecast = model.predict(forecast)"
      ],
      "execution_count": null,
      "outputs": [
        {
          "output_type": "stream",
          "text": [
            "INFO:fbprophet:Disabling yearly seasonality. Run prophet with yearly_seasonality=True to override this.\n",
            "INFO:fbprophet:Disabling daily seasonality. Run prophet with daily_seasonality=True to override this.\n"
          ],
          "name": "stderr"
        }
      ]
    },
    {
      "cell_type": "code",
      "metadata": {
        "colab": {
          "base_uri": "https://localhost:8080/",
          "height": 206
        },
        "id": "gsIVrgt0C-Ns",
        "outputId": "a4fec887-348f-4aab-b0ed-2d5fed9030cb"
      },
      "source": [
        "forecast[['ds','yhat','yhat_lower','yhat_upper']].head()"
      ],
      "execution_count": null,
      "outputs": [
        {
          "output_type": "execute_result",
          "data": {
            "text/html": [
              "<div>\n",
              "<style scoped>\n",
              "    .dataframe tbody tr th:only-of-type {\n",
              "        vertical-align: middle;\n",
              "    }\n",
              "\n",
              "    .dataframe tbody tr th {\n",
              "        vertical-align: top;\n",
              "    }\n",
              "\n",
              "    .dataframe thead th {\n",
              "        text-align: right;\n",
              "    }\n",
              "</style>\n",
              "<table border=\"1\" class=\"dataframe\">\n",
              "  <thead>\n",
              "    <tr style=\"text-align: right;\">\n",
              "      <th></th>\n",
              "      <th>ds</th>\n",
              "      <th>yhat</th>\n",
              "      <th>yhat_lower</th>\n",
              "      <th>yhat_upper</th>\n",
              "    </tr>\n",
              "  </thead>\n",
              "  <tbody>\n",
              "    <tr>\n",
              "      <th>0</th>\n",
              "      <td>2020-01-30</td>\n",
              "      <td>1016.752431</td>\n",
              "      <td>-88167.615265</td>\n",
              "      <td>95919.870101</td>\n",
              "    </tr>\n",
              "    <tr>\n",
              "      <th>1</th>\n",
              "      <td>2020-01-31</td>\n",
              "      <td>3566.170250</td>\n",
              "      <td>-86841.297104</td>\n",
              "      <td>98025.538605</td>\n",
              "    </tr>\n",
              "    <tr>\n",
              "      <th>2</th>\n",
              "      <td>2020-02-01</td>\n",
              "      <td>5932.444693</td>\n",
              "      <td>-82807.659089</td>\n",
              "      <td>96517.724014</td>\n",
              "    </tr>\n",
              "    <tr>\n",
              "      <th>3</th>\n",
              "      <td>2020-02-02</td>\n",
              "      <td>-456.266984</td>\n",
              "      <td>-91165.453964</td>\n",
              "      <td>82670.300610</td>\n",
              "    </tr>\n",
              "    <tr>\n",
              "      <th>4</th>\n",
              "      <td>2020-02-03</td>\n",
              "      <td>-3406.687754</td>\n",
              "      <td>-88651.271279</td>\n",
              "      <td>81164.185849</td>\n",
              "    </tr>\n",
              "  </tbody>\n",
              "</table>\n",
              "</div>"
            ],
            "text/plain": [
              "          ds         yhat    yhat_lower    yhat_upper\n",
              "0 2020-01-30  1016.752431 -88167.615265  95919.870101\n",
              "1 2020-01-31  3566.170250 -86841.297104  98025.538605\n",
              "2 2020-02-01  5932.444693 -82807.659089  96517.724014\n",
              "3 2020-02-02  -456.266984 -91165.453964  82670.300610\n",
              "4 2020-02-03 -3406.687754 -88651.271279  81164.185849"
            ]
          },
          "metadata": {
            "tags": []
          },
          "execution_count": 84
        }
      ]
    },
    {
      "cell_type": "code",
      "metadata": {
        "colab": {
          "base_uri": "https://localhost:8080/",
          "height": 935
        },
        "id": "D3hEGsw9DeiX",
        "outputId": "aa721f6e-2145-4697-c42a-a135cb0afb7c"
      },
      "source": [
        "plt.figure(figsize=(20,20))\n",
        "plt.scatter(dfin['ds'],dfin['y'],s=5,c='k')\n",
        "plt.plot(forecast['ds'],forecast['yhat'])\n",
        "plt.plot(forecast['ds'],forecast['yhat_lower'])\n",
        "plt.plot(forecast['ds'],forecast['yhat_upper'])\n",
        "plt.show()"
      ],
      "execution_count": null,
      "outputs": [
        {
          "output_type": "display_data",
          "data": {
            "image/png": "[encoded data removed]",
            "text/plain": [
              "<Figure size 1440x1440 with 1 Axes>"
            ]
          },
          "metadata": {
            "tags": [],
            "needs_background": "light"
          }
        }
      ]
    },
    {
      "cell_type": "code",
      "metadata": {
        "colab": {
          "base_uri": "https://localhost:8080/",
          "height": 955
        },
        "id": "jSr7XAMwEAVC",
        "outputId": "c84880dd-51f0-4883-a070-f060d8d9bcc0"
      },
      "source": [
        "model.plot(forecast,figsize=(20,20));"
      ],
      "execution_count": null,
      "outputs": [
        {
          "output_type": "display_data",
          "data": {
            "image/png": "[encoded data removed]",
            "text/plain": [
              "<Figure size 1440x1440 with 1 Axes>"
            ]
          },
          "metadata": {
            "tags": []
          }
        }
      ]
    },
    {
      "cell_type": "code",
      "metadata": {
        "colab": {
          "base_uri": "https://localhost:8080/"
        },
        "id": "I2LMTZw_EPnr",
        "outputId": "74ebed53-fd29-4a02-b2a0-e3089caa64bd"
      },
      "source": [
        "model = Prophet(changepoint_prior_scale=1)\n",
        "model.fit(dfus)\n",
        "forecast = model.make_future_dataframe(periods=30,freq='D')\n",
        "forecast = model.predict(forecast)"
      ],
      "execution_count": null,
      "outputs": [
        {
          "output_type": "stream",
          "text": [
            "INFO:fbprophet:Disabling yearly seasonality. Run prophet with yearly_seasonality=True to override this.\n",
            "INFO:fbprophet:Disabling daily seasonality. Run prophet with daily_seasonality=True to override this.\n"
          ],
          "name": "stderr"
        }
      ]
    },
    {
      "cell_type": "code",
      "metadata": {
        "colab": {
          "base_uri": "https://localhost:8080/",
          "height": 206
        },
        "id": "t8IqTdPQFGju",
        "outputId": "a541b7c2-8b4c-4820-bb94-5f3070763136"
      },
      "source": [
        "forecast[['ds','yhat','yhat_lower','yhat_upper']].head()"
      ],
      "execution_count": null,
      "outputs": [
        {
          "output_type": "execute_result",
          "data": {
            "text/html": [
              "<div>\n",
              "<style scoped>\n",
              "    .dataframe tbody tr th:only-of-type {\n",
              "        vertical-align: middle;\n",
              "    }\n",
              "\n",
              "    .dataframe tbody tr th {\n",
              "        vertical-align: top;\n",
              "    }\n",
              "\n",
              "    .dataframe thead th {\n",
              "        text-align: right;\n",
              "    }\n",
              "</style>\n",
              "<table border=\"1\" class=\"dataframe\">\n",
              "  <thead>\n",
              "    <tr style=\"text-align: right;\">\n",
              "      <th></th>\n",
              "      <th>ds</th>\n",
              "      <th>yhat</th>\n",
              "      <th>yhat_lower</th>\n",
              "      <th>yhat_upper</th>\n",
              "    </tr>\n",
              "  </thead>\n",
              "  <tbody>\n",
              "    <tr>\n",
              "      <th>0</th>\n",
              "      <td>2020-01-22</td>\n",
              "      <td>-3218.721808</td>\n",
              "      <td>-460713.090168</td>\n",
              "      <td>462477.874951</td>\n",
              "    </tr>\n",
              "    <tr>\n",
              "      <th>1</th>\n",
              "      <td>2020-01-23</td>\n",
              "      <td>-448.631091</td>\n",
              "      <td>-446936.014973</td>\n",
              "      <td>461855.342172</td>\n",
              "    </tr>\n",
              "    <tr>\n",
              "      <th>2</th>\n",
              "      <td>2020-01-24</td>\n",
              "      <td>3733.742873</td>\n",
              "      <td>-404658.898756</td>\n",
              "      <td>443969.720295</td>\n",
              "    </tr>\n",
              "    <tr>\n",
              "      <th>3</th>\n",
              "      <td>2020-01-25</td>\n",
              "      <td>3180.258657</td>\n",
              "      <td>-459346.197690</td>\n",
              "      <td>416382.365147</td>\n",
              "    </tr>\n",
              "    <tr>\n",
              "      <th>4</th>\n",
              "      <td>2020-01-26</td>\n",
              "      <td>6581.447494</td>\n",
              "      <td>-434810.484577</td>\n",
              "      <td>458148.105886</td>\n",
              "    </tr>\n",
              "  </tbody>\n",
              "</table>\n",
              "</div>"
            ],
            "text/plain": [
              "          ds         yhat     yhat_lower     yhat_upper\n",
              "0 2020-01-22 -3218.721808 -460713.090168  462477.874951\n",
              "1 2020-01-23  -448.631091 -446936.014973  461855.342172\n",
              "2 2020-01-24  3733.742873 -404658.898756  443969.720295\n",
              "3 2020-01-25  3180.258657 -459346.197690  416382.365147\n",
              "4 2020-01-26  6581.447494 -434810.484577  458148.105886"
            ]
          },
          "metadata": {
            "tags": []
          },
          "execution_count": 88
        }
      ]
    },
    {
      "cell_type": "code",
      "metadata": {
        "colab": {
          "base_uri": "https://localhost:8080/",
          "height": 935
        },
        "id": "uVyEWqL_FOi7",
        "outputId": "1bdff81e-83b0-410f-8370-bf31279d9bcb"
      },
      "source": [
        "plt.figure(figsize=(20,20))\n",
        "plt.scatter(dfus['ds'],dfus['y'],s=5,c='k')\n",
        "plt.plot(forecast['ds'],forecast['yhat'])\n",
        "plt.plot(forecast['ds'],forecast['yhat_lower'])\n",
        "plt.plot(forecast['ds'],forecast['yhat_upper'])\n",
        "plt.show()"
      ],
      "execution_count": null,
      "outputs": [
        {
          "output_type": "display_data",
          "data": {
            "image/png": "[encoded data removed]",
            "text/plain": [
              "<Figure size 1440x1440 with 1 Axes>"
            ]
          },
          "metadata": {
            "tags": [],
            "needs_background": "light"
          }
        }
      ]
    },
    {
      "cell_type": "code",
      "metadata": {
        "colab": {
          "base_uri": "https://localhost:8080/",
          "height": 955
        },
        "id": "Ht_NIJ8cFsUW",
        "outputId": "7514e623-b635-41d9-a5f9-0cbffc928b35"
      },
      "source": [
        "model.plot(forecast,figsize=(20,20));"
      ],
      "execution_count": null,
      "outputs": [
        {
          "output_type": "display_data",
          "data": {
            "image/png": "[encoded data removed]",
            "text/plain": [
              "<Figure size 1440x1440 with 1 Axes>"
            ]
          },
          "metadata": {
            "tags": []
          }
        }
      ]
    },
    {
      "cell_type": "code",
      "metadata": {
        "colab": {
          "base_uri": "https://localhost:8080/"
        },
        "id": "LNR2nwlVFEan",
        "outputId": "af03ac92-b5e6-4fd0-b665-5902300ee989"
      },
      "source": [
        "model = Prophet(changepoint_prior_scale=1)\n",
        "model.fit(dfeu)\n",
        "forecast = model.make_future_dataframe(periods=30,freq='D')\n",
        "forecast = model.predict(forecast)"
      ],
      "execution_count": null,
      "outputs": [
        {
          "output_type": "stream",
          "text": [
            "INFO:fbprophet:Disabling yearly seasonality. Run prophet with yearly_seasonality=True to override this.\n",
            "INFO:fbprophet:Disabling daily seasonality. Run prophet with daily_seasonality=True to override this.\n"
          ],
          "name": "stderr"
        }
      ]
    },
    {
      "cell_type": "code",
      "metadata": {
        "colab": {
          "base_uri": "https://localhost:8080/",
          "height": 206
        },
        "id": "V4t5J63yEvvc",
        "outputId": "e5e912cc-e7cc-418a-a8fc-cfe231a8fbd1"
      },
      "source": [
        "forecast[['ds','yhat','yhat_lower','yhat_upper']].head()"
      ],
      "execution_count": null,
      "outputs": [
        {
          "output_type": "execute_result",
          "data": {
            "text/html": [
              "<div>\n",
              "<style scoped>\n",
              "    .dataframe tbody tr th:only-of-type {\n",
              "        vertical-align: middle;\n",
              "    }\n",
              "\n",
              "    .dataframe tbody tr th {\n",
              "        vertical-align: top;\n",
              "    }\n",
              "\n",
              "    .dataframe thead th {\n",
              "        text-align: right;\n",
              "    }\n",
              "</style>\n",
              "<table border=\"1\" class=\"dataframe\">\n",
              "  <thead>\n",
              "    <tr style=\"text-align: right;\">\n",
              "      <th></th>\n",
              "      <th>ds</th>\n",
              "      <th>yhat</th>\n",
              "      <th>yhat_lower</th>\n",
              "      <th>yhat_upper</th>\n",
              "    </tr>\n",
              "  </thead>\n",
              "  <tbody>\n",
              "    <tr>\n",
              "      <th>0</th>\n",
              "      <td>2020-01-23</td>\n",
              "      <td>10823.338076</td>\n",
              "      <td>-201468.743739</td>\n",
              "      <td>217397.505301</td>\n",
              "    </tr>\n",
              "    <tr>\n",
              "      <th>1</th>\n",
              "      <td>2020-01-24</td>\n",
              "      <td>21555.282366</td>\n",
              "      <td>-195419.860627</td>\n",
              "      <td>220030.471562</td>\n",
              "    </tr>\n",
              "    <tr>\n",
              "      <th>2</th>\n",
              "      <td>2020-01-25</td>\n",
              "      <td>14914.761952</td>\n",
              "      <td>-193168.657698</td>\n",
              "      <td>227805.978479</td>\n",
              "    </tr>\n",
              "    <tr>\n",
              "      <th>3</th>\n",
              "      <td>2020-01-26</td>\n",
              "      <td>-10125.708121</td>\n",
              "      <td>-230230.418159</td>\n",
              "      <td>193187.588651</td>\n",
              "    </tr>\n",
              "    <tr>\n",
              "      <th>4</th>\n",
              "      <td>2020-01-27</td>\n",
              "      <td>-17170.468643</td>\n",
              "      <td>-250176.845817</td>\n",
              "      <td>182980.737489</td>\n",
              "    </tr>\n",
              "  </tbody>\n",
              "</table>\n",
              "</div>"
            ],
            "text/plain": [
              "          ds          yhat     yhat_lower     yhat_upper\n",
              "0 2020-01-23  10823.338076 -201468.743739  217397.505301\n",
              "1 2020-01-24  21555.282366 -195419.860627  220030.471562\n",
              "2 2020-01-25  14914.761952 -193168.657698  227805.978479\n",
              "3 2020-01-26 -10125.708121 -230230.418159  193187.588651\n",
              "4 2020-01-27 -17170.468643 -250176.845817  182980.737489"
            ]
          },
          "metadata": {
            "tags": []
          },
          "execution_count": 92
        }
      ]
    },
    {
      "cell_type": "code",
      "metadata": {
        "colab": {
          "base_uri": "https://localhost:8080/",
          "height": 939
        },
        "id": "U7KejJOBFc-S",
        "outputId": "ec400813-56b4-4639-a0f4-71c7e363b2a6"
      },
      "source": [
        "plt.figure(figsize=(20,20))\n",
        "plt.scatter(dfeu['ds'],dfeu['y'],s=5,c='k')\n",
        "plt.plot(forecast['ds'],forecast['yhat'])\n",
        "plt.plot(forecast['ds'],forecast['yhat_lower'])\n",
        "plt.plot(forecast['ds'],forecast['yhat_upper'])\n",
        "plt.show()"
      ],
      "execution_count": null,
      "outputs": [
        {
          "output_type": "display_data",
          "data": {
            "image/png": "[encoded data removed]",
            "text/plain": [
              "<Figure size 1440x1440 with 1 Axes>"
            ]
          },
          "metadata": {
            "tags": [],
            "needs_background": "light"
          }
        }
      ]
    },
    {
      "cell_type": "code",
      "metadata": {
        "colab": {
          "base_uri": "https://localhost:8080/",
          "height": 955
        },
        "id": "hNgkDFR-FhNC",
        "outputId": "6a813084-7cda-4fc1-c731-2737e52e91d0"
      },
      "source": [
        "model.plot(forecast,figsize=(20,20));"
      ],
      "execution_count": null,
      "outputs": [
        {
          "output_type": "display_data",
          "data": {
            "image/png": "[encoded data removed]",
            "text/plain": [
              "<Figure size 1440x1440 with 1 Axes>"
            ]
          },
          "metadata": {
            "tags": []
          }
        }
      ]
    }
  ]
}